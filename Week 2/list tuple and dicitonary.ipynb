{
 "cells": [
  {
   "cell_type": "code",
   "execution_count": 1,
   "id": "55c7035d-696f-41db-b8ec-135cf6008401",
   "metadata": {},
   "outputs": [],
   "source": [
    "l=[1,2,3,4,5,\"akshay\",1+2j,True,\"rohit\"]"
   ]
  },
  {
   "cell_type": "code",
   "execution_count": 2,
   "id": "18716990-e399-46b5-8c34-dd6c5235980f",
   "metadata": {},
   "outputs": [
    {
     "data": {
      "text/plain": [
       "[1, 2, 3, 4, 5, 'akshay', (1+2j), True, 'rohit']"
      ]
     },
     "execution_count": 2,
     "metadata": {},
     "output_type": "execute_result"
    }
   ],
   "source": [
    "l\n"
   ]
  },
  {
   "cell_type": "code",
   "execution_count": 4,
   "id": "ce0cea7a-8058-4587-80b2-5f122a3cfaa0",
   "metadata": {},
   "outputs": [
    {
     "data": {
      "text/plain": [
       "list"
      ]
     },
     "execution_count": 4,
     "metadata": {},
     "output_type": "execute_result"
    }
   ],
   "source": [
    "type(l)"
   ]
  },
  {
   "cell_type": "code",
   "execution_count": 5,
   "id": "36915950-7267-4d3c-9714-35e5d647b572",
   "metadata": {},
   "outputs": [
    {
     "data": {
      "text/plain": [
       "[1, 2, 3, 4, 5, 'akshay']"
      ]
     },
     "execution_count": 5,
     "metadata": {},
     "output_type": "execute_result"
    }
   ],
   "source": [
    "l[0:6]"
   ]
  },
  {
   "cell_type": "code",
   "execution_count": 6,
   "id": "734f4212-c520-421c-8167-979ab1ba3aae",
   "metadata": {},
   "outputs": [
    {
     "data": {
      "text/plain": [
       "'rohit'"
      ]
     },
     "execution_count": 6,
     "metadata": {},
     "output_type": "execute_result"
    }
   ],
   "source": [
    "l[-1]"
   ]
  },
  {
   "cell_type": "code",
   "execution_count": 7,
   "id": "9b21da49-d56d-41fe-b2d6-200adcdf2406",
   "metadata": {},
   "outputs": [
    {
     "ename": "IndexError",
     "evalue": "list index out of range",
     "output_type": "error",
     "traceback": [
      "\u001b[0;31m---------------------------------------------------------------------------\u001b[0m",
      "\u001b[0;31mIndexError\u001b[0m                                Traceback (most recent call last)",
      "Cell \u001b[0;32mIn[7], line 1\u001b[0m\n\u001b[0;32m----> 1\u001b[0m \u001b[43ml\u001b[49m\u001b[43m[\u001b[49m\u001b[38;5;241;43m100\u001b[39;49m\u001b[43m]\u001b[49m\n",
      "\u001b[0;31mIndexError\u001b[0m: list index out of range"
     ]
    }
   ],
   "source": [
    "l[100]"
   ]
  },
  {
   "cell_type": "code",
   "execution_count": 8,
   "id": "0920a8ac-d7cd-40fd-8287-2a95809fa627",
   "metadata": {},
   "outputs": [
    {
     "data": {
      "text/plain": [
       "['rohit', True, (1+2j)]"
      ]
     },
     "execution_count": 8,
     "metadata": {},
     "output_type": "execute_result"
    }
   ],
   "source": [
    "l[-1:-4:-1]"
   ]
  },
  {
   "cell_type": "code",
   "execution_count": 9,
   "id": "9ea84947-ac52-412d-a2dd-1c3569ee271b",
   "metadata": {},
   "outputs": [
    {
     "data": {
      "text/plain": [
       "['rohit', True, (1+2j), 'akshay', 5, 4, 3, 2, 1]"
      ]
     },
     "execution_count": 9,
     "metadata": {},
     "output_type": "execute_result"
    }
   ],
   "source": [
    "l[::-1]"
   ]
  },
  {
   "cell_type": "code",
   "execution_count": 10,
   "id": "0633d83d-d3d3-4206-adde-74a9ccf40d1f",
   "metadata": {},
   "outputs": [],
   "source": [
    "#we can store anything inside a list,even list inside a list"
   ]
  },
  {
   "cell_type": "code",
   "execution_count": 11,
   "id": "797bbda9-641b-4137-84c4-535ac2f5c9e3",
   "metadata": {},
   "outputs": [],
   "source": [
    "l1=[[1,2,3,4],\"akshay\",[45.45,True,False,4+6j]]"
   ]
  },
  {
   "cell_type": "code",
   "execution_count": 13,
   "id": "a835ed1d-187c-4e7f-bcd9-9f7666f39c26",
   "metadata": {},
   "outputs": [
    {
     "data": {
      "text/plain": [
       "[1, 2, 3, 4]"
      ]
     },
     "execution_count": 13,
     "metadata": {},
     "output_type": "execute_result"
    }
   ],
   "source": [
    "l1[0]"
   ]
  },
  {
   "cell_type": "code",
   "execution_count": 14,
   "id": "834a7321-fff3-439d-9fad-983da16fbe0b",
   "metadata": {},
   "outputs": [
    {
     "data": {
      "text/plain": [
       "1"
      ]
     },
     "execution_count": 14,
     "metadata": {},
     "output_type": "execute_result"
    }
   ],
   "source": [
    "l1[0][0]"
   ]
  },
  {
   "cell_type": "code",
   "execution_count": 15,
   "id": "df37f92d-2b5f-46c2-8cdf-ddfb99206676",
   "metadata": {},
   "outputs": [
    {
     "data": {
      "text/plain": [
       "[1, 2, 3, 4]"
      ]
     },
     "execution_count": 15,
     "metadata": {},
     "output_type": "execute_result"
    }
   ],
   "source": [
    "l1[0][0:5]"
   ]
  },
  {
   "cell_type": "code",
   "execution_count": 16,
   "id": "5a63492c-9213-49f0-895f-7b5badb6b219",
   "metadata": {},
   "outputs": [
    {
     "data": {
      "text/plain": [
       "[45.45, True, False, (4+6j)]"
      ]
     },
     "execution_count": 16,
     "metadata": {},
     "output_type": "execute_result"
    }
   ],
   "source": [
    "l1[2][0:4]"
   ]
  },
  {
   "cell_type": "code",
   "execution_count": 17,
   "id": "593d17ef-f472-48d6-b58d-c388c12a97cc",
   "metadata": {},
   "outputs": [
    {
     "data": {
      "text/plain": [
       "[45.45, True, False]"
      ]
     },
     "execution_count": 17,
     "metadata": {},
     "output_type": "execute_result"
    }
   ],
   "source": [
    "l1[2][0:3]"
   ]
  },
  {
   "cell_type": "code",
   "execution_count": 18,
   "id": "63b3e685-b0e2-440f-bf0d-88d839af4545",
   "metadata": {},
   "outputs": [],
   "source": [
    "l1[0]=69"
   ]
  },
  {
   "cell_type": "code",
   "execution_count": 19,
   "id": "64d117f2-c4f9-42d9-9b82-aa7c69a6e494",
   "metadata": {},
   "outputs": [
    {
     "data": {
      "text/plain": [
       "[69, 'akshay', [45.45, True, False, (4+6j)]]"
      ]
     },
     "execution_count": 19,
     "metadata": {},
     "output_type": "execute_result"
    }
   ],
   "source": [
    "l1"
   ]
  },
  {
   "cell_type": "code",
   "execution_count": 22,
   "id": "50520344-997a-44aa-9d68-ad38c51c96bd",
   "metadata": {},
   "outputs": [],
   "source": [
    "#Lists are mutable,you can also reassgin values to any index"
   ]
  },
  {
   "cell_type": "code",
   "execution_count": 24,
   "id": "f4585e55-b2f7-40f4-8ad0-c295b2de968f",
   "metadata": {},
   "outputs": [],
   "source": [
    "#list operations\n",
    "l.append(45) #to add element to list\n",
    "l.remove(4) #removing element form the list\n",
    "len(l) #to find length of the list\n",
    "l.reverse() #used to reverse the entire list\n",
    "1 in l #it will return true or false (1 is just a example,it can be can be any number)\n",
    "l.insert(index,object) #to insert a element at a particular position\n",
    "l.extend(\"akshay\") #it will try to unrap the object at the end(most likely string)\n",
    "l.pop(0) #it will remove the data and store the value at that particular index\n",
    "l.index(\"kamath\") #it will give the index postion of the first occurence of that element\n",
    "l.count(45) #it will count the number of occurences of that element\n",
    "l.clear() #it will clear/empty the entire list\n",
    "\n",
    "sum(l) #calculates the sum of all numbers in list\n",
    "min(l) #gives the minimum number in the list\n",
    "max(l) #gives the maximum number in the lsit "
   ]
  },
  {
   "cell_type": "code",
   "execution_count": 25,
   "id": "26d7ad31-476d-49d0-aa43-f68e7f67ae2c",
   "metadata": {},
   "outputs": [
    {
     "data": {
      "text/plain": [
       "[69, 'akshay', [45.45, True, False, (4+6j)], 45]"
      ]
     },
     "execution_count": 25,
     "metadata": {},
     "output_type": "execute_result"
    }
   ],
   "source": [
    "l1.append(45)\n",
    "l1"
   ]
  },
  {
   "cell_type": "code",
   "execution_count": 26,
   "id": "68259418-41ef-46af-951b-d88582c5fc79",
   "metadata": {},
   "outputs": [
    {
     "data": {
      "text/plain": [
       "['akshay', [45.45, True, False, (4+6j)], 45]"
      ]
     },
     "execution_count": 26,
     "metadata": {},
     "output_type": "execute_result"
    }
   ],
   "source": [
    "l1.remove(69)\n",
    "l1"
   ]
  },
  {
   "cell_type": "code",
   "execution_count": 28,
   "id": "7e19bb3e-f445-4d86-9440-fc8eb1f9f03d",
   "metadata": {},
   "outputs": [
    {
     "data": {
      "text/plain": [
       "[[45.45, True, False, (4+6j)]]"
      ]
     },
     "execution_count": 28,
     "metadata": {},
     "output_type": "execute_result"
    }
   ],
   "source": [
    "l1.remove(l1[1])\n",
    "l1"
   ]
  },
  {
   "cell_type": "code",
   "execution_count": 29,
   "id": "ea9ad914-ab8c-4553-a42d-544882df4779",
   "metadata": {},
   "outputs": [
    {
     "data": {
      "text/plain": [
       "1"
      ]
     },
     "execution_count": 29,
     "metadata": {},
     "output_type": "execute_result"
    }
   ],
   "source": [
    "len(l1)"
   ]
  },
  {
   "cell_type": "code",
   "execution_count": 30,
   "id": "fe684188-f44f-477d-94c5-033743889e7c",
   "metadata": {},
   "outputs": [
    {
     "data": {
      "text/plain": [
       "[[45.45, True, False, (4+6j)]]"
      ]
     },
     "execution_count": 30,
     "metadata": {},
     "output_type": "execute_result"
    }
   ],
   "source": [
    "l1.reverse()\n",
    "l1"
   ]
  },
  {
   "cell_type": "code",
   "execution_count": 31,
   "id": "875f8c59-8a1f-4af4-8039-11b4d98167f4",
   "metadata": {},
   "outputs": [
    {
     "data": {
      "text/plain": [
       "['rohit', True, (1+2j), 'akshay', 5, 4, 3, 2, 1]"
      ]
     },
     "execution_count": 31,
     "metadata": {},
     "output_type": "execute_result"
    }
   ],
   "source": [
    "l.reverse()\n",
    "l\n"
   ]
  },
  {
   "cell_type": "code",
   "execution_count": 32,
   "id": "247dd5e5-c69e-476e-9994-06058e539528",
   "metadata": {},
   "outputs": [
    {
     "data": {
      "text/plain": [
       "False"
      ]
     },
     "execution_count": 32,
     "metadata": {},
     "output_type": "execute_result"
    }
   ],
   "source": [
    "69 in l"
   ]
  },
  {
   "cell_type": "code",
   "execution_count": 33,
   "id": "fd366b33-49a0-4a5b-9eff-6ec33878cc22",
   "metadata": {},
   "outputs": [
    {
     "data": {
      "text/plain": [
       "['rohit', True, (1+2j), 'akshay', 5, 'kamath', 4, 3, 2, 1]"
      ]
     },
     "execution_count": 33,
     "metadata": {},
     "output_type": "execute_result"
    }
   ],
   "source": [
    "l.insert(5,\"kamath\")\n",
    "l"
   ]
  },
  {
   "cell_type": "code",
   "execution_count": 34,
   "id": "1c303572-8eda-434f-8224-9d3f71f7e038",
   "metadata": {},
   "outputs": [
    {
     "data": {
      "text/plain": [
       "['rohit',\n",
       " True,\n",
       " (1+2j),\n",
       " 'akshay',\n",
       " 5,\n",
       " 'kamath',\n",
       " 4,\n",
       " 3,\n",
       " 2,\n",
       " 1,\n",
       " 'a',\n",
       " 'k',\n",
       " 's',\n",
       " 'h',\n",
       " 'a',\n",
       " 'y']"
      ]
     },
     "execution_count": 34,
     "metadata": {},
     "output_type": "execute_result"
    }
   ],
   "source": [
    "l.extend(\"akshay\")\n",
    "l"
   ]
  },
  {
   "cell_type": "code",
   "execution_count": 35,
   "id": "0ad02709-8a24-48d3-a493-fdf60782ef1c",
   "metadata": {},
   "outputs": [
    {
     "data": {
      "text/plain": [
       "'rohit'"
      ]
     },
     "execution_count": 35,
     "metadata": {},
     "output_type": "execute_result"
    }
   ],
   "source": [
    "l.pop(0)"
   ]
  },
  {
   "cell_type": "code",
   "execution_count": 36,
   "id": "176ae974-73e9-4a59-abda-5064cf100b23",
   "metadata": {},
   "outputs": [
    {
     "data": {
      "text/plain": [
       "[True, (1+2j), 'akshay', 5, 'kamath', 4, 3, 2, 1, 'a', 'k', 's', 'h', 'a', 'y']"
      ]
     },
     "execution_count": 36,
     "metadata": {},
     "output_type": "execute_result"
    }
   ],
   "source": [
    "l"
   ]
  },
  {
   "cell_type": "code",
   "execution_count": 37,
   "id": "72bfba81-32ce-40c4-9d25-cbaf3bde1f3f",
   "metadata": {},
   "outputs": [
    {
     "data": {
      "text/plain": [
       "4"
      ]
     },
     "execution_count": 37,
     "metadata": {},
     "output_type": "execute_result"
    }
   ],
   "source": [
    "l.index(\"kamath\")"
   ]
  },
  {
   "cell_type": "code",
   "execution_count": 38,
   "id": "7e9541e4-2f6e-46e9-b646-e6fc0d9f90ec",
   "metadata": {},
   "outputs": [
    {
     "data": {
      "text/plain": [
       "1"
      ]
     },
     "execution_count": 38,
     "metadata": {},
     "output_type": "execute_result"
    }
   ],
   "source": [
    "l.count(5)"
   ]
  },
  {
   "cell_type": "code",
   "execution_count": 39,
   "id": "bff2ccf1-d687-4199-868f-392c8eff9fdf",
   "metadata": {},
   "outputs": [
    {
     "data": {
      "text/plain": [
       "[True,\n",
       " (1+2j),\n",
       " 'akshay',\n",
       " 5,\n",
       " 'kamath',\n",
       " 4,\n",
       " 3,\n",
       " 2,\n",
       " 1,\n",
       " 'a',\n",
       " 'k',\n",
       " 's',\n",
       " 'h',\n",
       " 'a',\n",
       " 'y',\n",
       " True,\n",
       " (1+2j),\n",
       " 'akshay',\n",
       " 5,\n",
       " 'kamath',\n",
       " 4,\n",
       " 3,\n",
       " 2,\n",
       " 1,\n",
       " 'a',\n",
       " 'k',\n",
       " 's',\n",
       " 'h',\n",
       " 'a',\n",
       " 'y']"
      ]
     },
     "execution_count": 39,
     "metadata": {},
     "output_type": "execute_result"
    }
   ],
   "source": [
    "l*2"
   ]
  },
  {
   "cell_type": "code",
   "execution_count": 40,
   "id": "e2f5b975-1bc7-4ad0-8092-d86c5e3e8aef",
   "metadata": {},
   "outputs": [],
   "source": [
    "#same can be done with string"
   ]
  },
  {
   "cell_type": "code",
   "execution_count": 41,
   "id": "11d9c7f2-c1ee-4a44-afd2-11d1e4b3e9e5",
   "metadata": {},
   "outputs": [],
   "source": [
    "l.clear()"
   ]
  },
  {
   "cell_type": "code",
   "execution_count": 42,
   "id": "fce9e922-f49c-47f6-9f4a-d44784025037",
   "metadata": {},
   "outputs": [
    {
     "data": {
      "text/plain": [
       "[]"
      ]
     },
     "execution_count": 42,
     "metadata": {},
     "output_type": "execute_result"
    }
   ],
   "source": [
    "l\n"
   ]
  },
  {
   "cell_type": "code",
   "execution_count": 43,
   "id": "3ceb005c-1ae6-43e5-8667-558612a8306b",
   "metadata": {},
   "outputs": [],
   "source": [
    "l=[1,2,3,34,5,69,45,7]"
   ]
  },
  {
   "cell_type": "code",
   "execution_count": 44,
   "id": "d92ab508-d3ba-4526-b330-7c89f7fe1379",
   "metadata": {},
   "outputs": [
    {
     "data": {
      "text/plain": [
       "166"
      ]
     },
     "execution_count": 44,
     "metadata": {},
     "output_type": "execute_result"
    }
   ],
   "source": [
    "sum(l)"
   ]
  },
  {
   "cell_type": "code",
   "execution_count": 45,
   "id": "db45ba67-76c1-483a-b600-70e801cba139",
   "metadata": {},
   "outputs": [
    {
     "data": {
      "text/plain": [
       "8"
      ]
     },
     "execution_count": 45,
     "metadata": {},
     "output_type": "execute_result"
    }
   ],
   "source": [
    "len(l)"
   ]
  },
  {
   "cell_type": "code",
   "execution_count": 46,
   "id": "e1674ae4-f580-4b0d-a901-8083a29ef580",
   "metadata": {},
   "outputs": [
    {
     "data": {
      "text/plain": [
       "1"
      ]
     },
     "execution_count": 46,
     "metadata": {},
     "output_type": "execute_result"
    }
   ],
   "source": [
    "min(l)"
   ]
  },
  {
   "cell_type": "code",
   "execution_count": 47,
   "id": "e50f12d5-ef74-460d-afd7-a32574b97d97",
   "metadata": {},
   "outputs": [
    {
     "data": {
      "text/plain": [
       "69"
      ]
     },
     "execution_count": 47,
     "metadata": {},
     "output_type": "execute_result"
    }
   ],
   "source": [
    "max(l)"
   ]
  },
  {
   "cell_type": "markdown",
   "id": "9c5240ac-9dda-4f8a-892e-ed7f4206d4c9",
   "metadata": {},
   "source": [
    "Tuples"
   ]
  },
  {
   "cell_type": "code",
   "execution_count": 48,
   "id": "c575a2f7-689c-49e3-9ddd-020bd7bd2b1d",
   "metadata": {},
   "outputs": [],
   "source": [
    "t=(1,2,3,4,5,\"akshay\",4+6j,False)"
   ]
  },
  {
   "cell_type": "code",
   "execution_count": 49,
   "id": "85d49bac-d4a3-4950-b5ed-16b980079cd7",
   "metadata": {},
   "outputs": [
    {
     "data": {
      "text/plain": [
       "tuple"
      ]
     },
     "execution_count": 49,
     "metadata": {},
     "output_type": "execute_result"
    }
   ],
   "source": [
    "type(t)"
   ]
  },
  {
   "cell_type": "code",
   "execution_count": 51,
   "id": "3b3e73ef-ac36-4360-9bb1-074737a501a1",
   "metadata": {},
   "outputs": [],
   "source": [
    "#indexing and slicing is also possible in tuple"
   ]
  },
  {
   "cell_type": "code",
   "execution_count": 52,
   "id": "3fc64ce8-e688-4f60-bbfb-bbe8c082ad36",
   "metadata": {},
   "outputs": [
    {
     "data": {
      "text/plain": [
       "1"
      ]
     },
     "execution_count": 52,
     "metadata": {},
     "output_type": "execute_result"
    }
   ],
   "source": [
    "t[0]"
   ]
  },
  {
   "cell_type": "code",
   "execution_count": 54,
   "id": "b1e960b6-7721-46d0-b49a-4f76f315dc60",
   "metadata": {},
   "outputs": [
    {
     "data": {
      "text/plain": [
       "(4, 5, 'akshay', (4+6j))"
      ]
     },
     "execution_count": 54,
     "metadata": {},
     "output_type": "execute_result"
    }
   ],
   "source": [
    "t[3:7]"
   ]
  },
  {
   "cell_type": "code",
   "execution_count": 55,
   "id": "90a79d65-b283-4f1e-a5d0-229f0a93d97e",
   "metadata": {},
   "outputs": [],
   "source": [
    "#tuple is immutable,no reassginment or changing of values is possible"
   ]
  },
  {
   "cell_type": "code",
   "execution_count": 56,
   "id": "081e5f79-7f1c-4aea-bb33-7332c0b20181",
   "metadata": {},
   "outputs": [
    {
     "ename": "TypeError",
     "evalue": "'tuple' object does not support item assignment",
     "output_type": "error",
     "traceback": [
      "\u001b[0;31m---------------------------------------------------------------------------\u001b[0m",
      "\u001b[0;31mTypeError\u001b[0m                                 Traceback (most recent call last)",
      "Cell \u001b[0;32mIn[56], line 1\u001b[0m\n\u001b[0;32m----> 1\u001b[0m \u001b[43mt\u001b[49m\u001b[43m[\u001b[49m\u001b[38;5;241;43m0\u001b[39;49m\u001b[43m]\u001b[49m\u001b[38;5;241m=\u001b[39m\u001b[38;5;241m6\u001b[39m\n",
      "\u001b[0;31mTypeError\u001b[0m: 'tuple' object does not support item assignment"
     ]
    }
   ],
   "source": [
    "t[0]=6"
   ]
  },
  {
   "cell_type": "code",
   "execution_count": 57,
   "id": "526a7401-f032-4800-a074-d24655585c88",
   "metadata": {},
   "outputs": [
    {
     "data": {
      "text/plain": [
       "1"
      ]
     },
     "execution_count": 57,
     "metadata": {},
     "output_type": "execute_result"
    }
   ],
   "source": [
    "t.count(5)"
   ]
  },
  {
   "cell_type": "code",
   "execution_count": 58,
   "id": "c32906a0-364f-463d-b9fb-c95f1970ec62",
   "metadata": {},
   "outputs": [
    {
     "data": {
      "text/plain": [
       "3"
      ]
     },
     "execution_count": 58,
     "metadata": {},
     "output_type": "execute_result"
    }
   ],
   "source": [
    "t.index(4)"
   ]
  },
  {
   "cell_type": "code",
   "execution_count": 59,
   "id": "0b8b2ad5-0c8f-4679-ac37-0fdf89d16a7d",
   "metadata": {},
   "outputs": [
    {
     "data": {
      "text/plain": [
       "(1, 2, 3, 4, 5, 'akshay', (4+6j), False)"
      ]
     },
     "execution_count": 59,
     "metadata": {},
     "output_type": "execute_result"
    }
   ],
   "source": [
    "t"
   ]
  },
  {
   "cell_type": "code",
   "execution_count": 60,
   "id": "b6b6b16f-8c0c-4a6e-a2e6-4d62985ee103",
   "metadata": {},
   "outputs": [
    {
     "data": {
      "text/plain": [
       "(1,\n",
       " 2,\n",
       " 3,\n",
       " 4,\n",
       " 5,\n",
       " 'akshay',\n",
       " (4+6j),\n",
       " False,\n",
       " 1,\n",
       " 2,\n",
       " 3,\n",
       " 4,\n",
       " 5,\n",
       " 'akshay',\n",
       " (4+6j),\n",
       " False)"
      ]
     },
     "execution_count": 60,
     "metadata": {},
     "output_type": "execute_result"
    }
   ],
   "source": [
    "t*2"
   ]
  },
  {
   "cell_type": "code",
   "execution_count": 62,
   "id": "f2659e5f-3fac-406a-b156-0a5cd0479601",
   "metadata": {},
   "outputs": [
    {
     "data": {
      "text/plain": [
       "(1,\n",
       " 2,\n",
       " 3,\n",
       " 4,\n",
       " 5,\n",
       " 'akshay',\n",
       " (4+6j),\n",
       " False,\n",
       " 1,\n",
       " 2,\n",
       " 3,\n",
       " 4,\n",
       " 5,\n",
       " 'akshay',\n",
       " (4+6j),\n",
       " False)"
      ]
     },
     "execution_count": 62,
     "metadata": {},
     "output_type": "execute_result"
    }
   ],
   "source": [
    "t+t"
   ]
  },
  {
   "cell_type": "code",
   "execution_count": 63,
   "id": "ce9a89e2-2d5a-4c3b-81e6-28709ab49aa7",
   "metadata": {},
   "outputs": [
    {
     "data": {
      "text/plain": [
       "[1, 2, 3, 4, 5, 'akshay', (4+6j), False]"
      ]
     },
     "execution_count": 63,
     "metadata": {},
     "output_type": "execute_result"
    }
   ],
   "source": [
    "list(t)"
   ]
  },
  {
   "cell_type": "code",
   "execution_count": 64,
   "id": "6f8266dc-7873-4e25-ba64-497730147a72",
   "metadata": {},
   "outputs": [
    {
     "data": {
      "text/plain": [
       "(1, 2, 3, 34, 5, 69, 45, 7)"
      ]
     },
     "execution_count": 64,
     "metadata": {},
     "output_type": "execute_result"
    }
   ],
   "source": [
    "tuple(l)"
   ]
  },
  {
   "cell_type": "code",
   "execution_count": 65,
   "id": "b36db541-2493-4ae4-b33a-2b1f1911aaca",
   "metadata": {},
   "outputs": [],
   "source": [
    "#list to tuple and tuple to list conversion is possible"
   ]
  },
  {
   "cell_type": "code",
   "execution_count": 66,
   "id": "2f348a65-3975-4e46-b5ed-f32d79d94109",
   "metadata": {},
   "outputs": [],
   "source": [
    "t1=(1,2,3,4,5)"
   ]
  },
  {
   "cell_type": "code",
   "execution_count": 67,
   "id": "b72a6e17-40c0-491c-90b8-6b0c59cc513e",
   "metadata": {},
   "outputs": [
    {
     "data": {
      "text/plain": [
       "1"
      ]
     },
     "execution_count": 67,
     "metadata": {},
     "output_type": "execute_result"
    }
   ],
   "source": [
    "min(t1)"
   ]
  },
  {
   "cell_type": "code",
   "execution_count": 68,
   "id": "4a6d9a48-7ca1-4612-ba68-e2d03a8dc60b",
   "metadata": {},
   "outputs": [
    {
     "data": {
      "text/plain": [
       "5"
      ]
     },
     "execution_count": 68,
     "metadata": {},
     "output_type": "execute_result"
    }
   ],
   "source": [
    "max(t1)"
   ]
  },
  {
   "cell_type": "code",
   "execution_count": 69,
   "id": "712805b4-86c7-4614-a7b6-646faa2d369e",
   "metadata": {},
   "outputs": [
    {
     "data": {
      "text/plain": [
       "15"
      ]
     },
     "execution_count": 69,
     "metadata": {},
     "output_type": "execute_result"
    }
   ],
   "source": [
    "sum(t1)"
   ]
  },
  {
   "cell_type": "code",
   "execution_count": 71,
   "id": "6bdd9d42-8e4b-40f0-b594-7f47c0a349ee",
   "metadata": {},
   "outputs": [
    {
     "data": {
      "text/plain": [
       "5"
      ]
     },
     "execution_count": 71,
     "metadata": {},
     "output_type": "execute_result"
    }
   ],
   "source": [
    "len(t1)"
   ]
  },
  {
   "cell_type": "markdown",
   "id": "0da0de1f-eaf5-42c2-bfcc-72b96b808c4f",
   "metadata": {},
   "source": [
    "Set"
   ]
  },
  {
   "cell_type": "code",
   "execution_count": 72,
   "id": "e43a6c3d-005d-4473-bba1-f6c5d85bc88f",
   "metadata": {},
   "outputs": [
    {
     "data": {
      "text/plain": [
       "dict"
      ]
     },
     "execution_count": 72,
     "metadata": {},
     "output_type": "execute_result"
    }
   ],
   "source": [
    "#set\n",
    "s={}\n",
    "type(s)"
   ]
  },
  {
   "cell_type": "code",
   "execution_count": 73,
   "id": "fcf9a09d-b4a6-4bfa-8f7d-b138de0ddb12",
   "metadata": {},
   "outputs": [],
   "source": [
    "s1={1,2,3,4,5}"
   ]
  },
  {
   "cell_type": "code",
   "execution_count": 74,
   "id": "c4d1a760-0655-41f4-870f-2659e45f5f65",
   "metadata": {},
   "outputs": [
    {
     "data": {
      "text/plain": [
       "set"
      ]
     },
     "execution_count": 74,
     "metadata": {},
     "output_type": "execute_result"
    }
   ],
   "source": [
    "type(s1)"
   ]
  },
  {
   "cell_type": "code",
   "execution_count": 75,
   "id": "0d8bd777-c148-418c-90d3-4db904251ad1",
   "metadata": {},
   "outputs": [],
   "source": [
    "#empty set acts as a dictionary"
   ]
  },
  {
   "cell_type": "code",
   "execution_count": 77,
   "id": "5fbd32ea-e36c-41d7-ba0f-a7ae5ffdcc89",
   "metadata": {},
   "outputs": [],
   "source": [
    "s2={1,2,2,2,2,2,2,2,3,3,33,4,4,4,4,5,55}"
   ]
  },
  {
   "cell_type": "code",
   "execution_count": 78,
   "id": "5654f1a1-6c39-42dc-b089-52df6866c8a7",
   "metadata": {},
   "outputs": [
    {
     "data": {
      "text/plain": [
       "{1, 2, 3, 4, 5, 33, 55}"
      ]
     },
     "execution_count": 78,
     "metadata": {},
     "output_type": "execute_result"
    }
   ],
   "source": [
    "s2"
   ]
  },
  {
   "cell_type": "code",
   "execution_count": 79,
   "id": "f16c52f1-1920-4ce6-af6c-4c01cbfada2f",
   "metadata": {},
   "outputs": [],
   "source": [
    "#set will always give unique value"
   ]
  },
  {
   "cell_type": "code",
   "execution_count": 81,
   "id": "b896532d-80f8-4f6a-8c49-8996e9d87c07",
   "metadata": {},
   "outputs": [],
   "source": [
    "#it will automatically remove the duplicates"
   ]
  },
  {
   "cell_type": "code",
   "execution_count": 82,
   "id": "a5b1880d-d097-4640-9c07-e16ad90ceeee",
   "metadata": {},
   "outputs": [
    {
     "data": {
      "text/plain": [
       "7"
      ]
     },
     "execution_count": 82,
     "metadata": {},
     "output_type": "execute_result"
    }
   ],
   "source": [
    "len(s2)"
   ]
  },
  {
   "cell_type": "code",
   "execution_count": 83,
   "id": "a9535564-79da-4adb-ad81-226114e170d8",
   "metadata": {},
   "outputs": [
    {
     "data": {
      "text/plain": [
       "1"
      ]
     },
     "execution_count": 83,
     "metadata": {},
     "output_type": "execute_result"
    }
   ],
   "source": [
    "min(s2)"
   ]
  },
  {
   "cell_type": "code",
   "execution_count": 84,
   "id": "e88b0bdc-a9df-467d-8c04-8e35066c9f9d",
   "metadata": {},
   "outputs": [
    {
     "data": {
      "text/plain": [
       "55"
      ]
     },
     "execution_count": 84,
     "metadata": {},
     "output_type": "execute_result"
    }
   ],
   "source": [
    "max(s2)"
   ]
  },
  {
   "cell_type": "code",
   "execution_count": 85,
   "id": "7dc10dd1-575a-4a47-a91a-0b6db7c65c0d",
   "metadata": {},
   "outputs": [
    {
     "ename": "TypeError",
     "evalue": "'set' object is not subscriptable",
     "output_type": "error",
     "traceback": [
      "\u001b[0;31m---------------------------------------------------------------------------\u001b[0m",
      "\u001b[0;31mTypeError\u001b[0m                                 Traceback (most recent call last)",
      "Cell \u001b[0;32mIn[85], line 1\u001b[0m\n\u001b[0;32m----> 1\u001b[0m \u001b[43ms2\u001b[49m\u001b[43m[\u001b[49m\u001b[38;5;241;43m0\u001b[39;49m\u001b[43m]\u001b[49m\n",
      "\u001b[0;31mTypeError\u001b[0m: 'set' object is not subscriptable"
     ]
    }
   ],
   "source": [
    "s2[0]"
   ]
  },
  {
   "cell_type": "code",
   "execution_count": 86,
   "id": "715f5ca2-3da9-45e3-94df-d787de4740d4",
   "metadata": {},
   "outputs": [],
   "source": [
    "#indexing and slicing operations are not possible"
   ]
  },
  {
   "cell_type": "code",
   "execution_count": 87,
   "id": "fdd2ec58-2379-4cf4-9e6a-b3ba98cef2fc",
   "metadata": {},
   "outputs": [],
   "source": [
    "#we can covert to list or tuple"
   ]
  },
  {
   "cell_type": "code",
   "execution_count": 88,
   "id": "a85947c0-e45f-421d-98b8-f13789f0a382",
   "metadata": {},
   "outputs": [
    {
     "data": {
      "text/plain": [
       "[1, 2, 3, 4, 5]"
      ]
     },
     "execution_count": 88,
     "metadata": {},
     "output_type": "execute_result"
    }
   ],
   "source": [
    "list(s1)"
   ]
  },
  {
   "cell_type": "code",
   "execution_count": 89,
   "id": "2b9d28b5-6969-46cf-8950-a917d4d3aad9",
   "metadata": {},
   "outputs": [
    {
     "data": {
      "text/plain": [
       "{1, 2, 3, 5, 7, 34, 45, 69}"
      ]
     },
     "execution_count": 89,
     "metadata": {},
     "output_type": "execute_result"
    }
   ],
   "source": [
    "set(l)"
   ]
  },
  {
   "cell_type": "markdown",
   "id": "5512be04-116e-4f72-9cb2-798619d08917",
   "metadata": {},
   "source": [
    "Dictionary"
   ]
  },
  {
   "cell_type": "code",
   "execution_count": 90,
   "id": "8bae871a-8358-4542-8ea3-d3a1cf4a5151",
   "metadata": {},
   "outputs": [
    {
     "data": {
      "text/plain": [
       "dict"
      ]
     },
     "execution_count": 90,
     "metadata": {},
     "output_type": "execute_result"
    }
   ],
   "source": [
    "d={}\n",
    "type(d)"
   ]
  },
  {
   "cell_type": "code",
   "execution_count": 91,
   "id": "1801b497-6a1f-4dff-81bf-12f1bd10bcc7",
   "metadata": {},
   "outputs": [],
   "source": [
    "#key and value pair is used to store the data"
   ]
  },
  {
   "cell_type": "code",
   "execution_count": 92,
   "id": "92a4b26f-0170-404e-bfae-46d061705a54",
   "metadata": {},
   "outputs": [],
   "source": [
    "d1={'key1':\"akshay\"}"
   ]
  },
  {
   "cell_type": "code",
   "execution_count": 93,
   "id": "b87fed63-6459-4910-a4f1-434f6df6dc50",
   "metadata": {},
   "outputs": [
    {
     "data": {
      "text/plain": [
       "{'key1': 'akshay'}"
      ]
     },
     "execution_count": 93,
     "metadata": {},
     "output_type": "execute_result"
    }
   ],
   "source": [
    "d1"
   ]
  },
  {
   "cell_type": "code",
   "execution_count": 94,
   "id": "aa400a5f-d21e-44e4-b73c-872970f13418",
   "metadata": {},
   "outputs": [
    {
     "data": {
      "text/plain": [
       "dict"
      ]
     },
     "execution_count": 94,
     "metadata": {},
     "output_type": "execute_result"
    }
   ],
   "source": [
    "type(d1)"
   ]
  },
  {
   "cell_type": "code",
   "execution_count": 95,
   "id": "59c2a2e5-9d30-4f4f-8077-f91c95d193cc",
   "metadata": {},
   "outputs": [],
   "source": [
    "d2={'name':\"Akshay\",'learning':['Frontend','DSA','Data Science']}"
   ]
  },
  {
   "cell_type": "code",
   "execution_count": 96,
   "id": "fbb7b316-5c17-4e90-ba68-938345f382a9",
   "metadata": {},
   "outputs": [
    {
     "data": {
      "text/plain": [
       "{'name': 'Akshay', 'learning': ['Frontend', 'DSA', 'Data Science']}"
      ]
     },
     "execution_count": 96,
     "metadata": {},
     "output_type": "execute_result"
    }
   ],
   "source": [
    "d2"
   ]
  },
  {
   "cell_type": "code",
   "execution_count": 98,
   "id": "a4369ea3-87b9-4fc1-ba7e-2672b610d6ed",
   "metadata": {},
   "outputs": [],
   "source": [
    "#value can be anything\n",
    "#indexing wont work directly,you have to index based on the key"
   ]
  },
  {
   "cell_type": "code",
   "execution_count": 99,
   "id": "15b55f2a-35e6-460e-bd1a-4f96290b6c84",
   "metadata": {},
   "outputs": [
    {
     "data": {
      "text/plain": [
       "['Frontend', 'DSA', 'Data Science']"
      ]
     },
     "execution_count": 99,
     "metadata": {},
     "output_type": "execute_result"
    }
   ],
   "source": [
    "d2['learning']"
   ]
  },
  {
   "cell_type": "code",
   "execution_count": 100,
   "id": "2a02fa8f-35a6-4d8b-9b8c-2ec6189b70f7",
   "metadata": {},
   "outputs": [],
   "source": [
    "#we are allowed to use numbers for the key as well"
   ]
  },
  {
   "cell_type": "code",
   "execution_count": 101,
   "id": "d6980530-e0ff-4f38-9b3c-ecd71aff32fb",
   "metadata": {},
   "outputs": [],
   "source": [
    "d3={'phone_no':12345678,'phone_no':'87654321'}"
   ]
  },
  {
   "cell_type": "code",
   "execution_count": 102,
   "id": "2f7baf78-eb49-48fa-b868-da5840d2d054",
   "metadata": {},
   "outputs": [
    {
     "data": {
      "text/plain": [
       "{'phone_no': '87654321'}"
      ]
     },
     "execution_count": 102,
     "metadata": {},
     "output_type": "execute_result"
    }
   ],
   "source": [
    "d3"
   ]
  },
  {
   "cell_type": "markdown",
   "id": "1d7a8590-d7ba-4e66-8bb9-b839aabb41c9",
   "metadata": {},
   "source": [
    "duplicate keys are not allowed,key should be unique.It will give the latest value of that key.but it is ideally wrong to use.\n"
   ]
  },
  {
   "cell_type": "code",
   "execution_count": 104,
   "id": "6447b8a7-5913-4c45-a544-e686647541c2",
   "metadata": {},
   "outputs": [],
   "source": [
    "d4={'name':'Akshay','learning':['Frontend','DSA','Data Science'],'phone_no':12345678,'email':'akshay@gmail.com'}"
   ]
  },
  {
   "cell_type": "code",
   "execution_count": 105,
   "id": "10d12756-4e60-4aab-b1a9-8a5637bb6449",
   "metadata": {},
   "outputs": [
    {
     "data": {
      "text/plain": [
       "{'name': 'Akshay',\n",
       " 'learning': ['Frontend', 'DSA', 'Data Science'],\n",
       " 'phone_no': 12345678,\n",
       " 'email': 'akshay@gmail.com'}"
      ]
     },
     "execution_count": 105,
     "metadata": {},
     "output_type": "execute_result"
    }
   ],
   "source": [
    "d4"
   ]
  },
  {
   "cell_type": "code",
   "execution_count": 106,
   "id": "eae5782a-e624-4a03-885a-e538634c8812",
   "metadata": {},
   "outputs": [
    {
     "data": {
      "text/plain": [
       "dict_keys(['name', 'learning', 'phone_no', 'email'])"
      ]
     },
     "execution_count": 106,
     "metadata": {},
     "output_type": "execute_result"
    }
   ],
   "source": [
    "d4.keys()"
   ]
  },
  {
   "cell_type": "code",
   "execution_count": 107,
   "id": "a7fb5487-2e66-423a-ae53-78b944b32261",
   "metadata": {},
   "outputs": [
    {
     "data": {
      "text/plain": [
       "['name', 'learning', 'phone_no', 'email']"
      ]
     },
     "execution_count": 107,
     "metadata": {},
     "output_type": "execute_result"
    }
   ],
   "source": [
    "list(d4.keys())"
   ]
  },
  {
   "cell_type": "code",
   "execution_count": 109,
   "id": "b4122e65-bfaa-45a9-b6f2-3eb08a415bbc",
   "metadata": {},
   "outputs": [
    {
     "data": {
      "text/plain": [
       "dict_values(['Akshay', ['Frontend', 'DSA', 'Data Science'], 12345678, 'akshay@gmail.com'])"
      ]
     },
     "execution_count": 109,
     "metadata": {},
     "output_type": "execute_result"
    }
   ],
   "source": [
    "d4.values()"
   ]
  },
  {
   "cell_type": "code",
   "execution_count": 110,
   "id": "6f307095-2624-4e6c-af05-7c3f635b2c28",
   "metadata": {},
   "outputs": [
    {
     "data": {
      "text/plain": [
       "['Akshay', ['Frontend', 'DSA', 'Data Science'], 12345678, 'akshay@gmail.com']"
      ]
     },
     "execution_count": 110,
     "metadata": {},
     "output_type": "execute_result"
    }
   ],
   "source": [
    "list(d4.values())"
   ]
  },
  {
   "cell_type": "code",
   "execution_count": 111,
   "id": "25b07641-c14f-4419-94dd-7098b6a64318",
   "metadata": {},
   "outputs": [
    {
     "data": {
      "text/plain": [
       "dict_items([('name', 'Akshay'), ('learning', ['Frontend', 'DSA', 'Data Science']), ('phone_no', 12345678), ('email', 'akshay@gmail.com')])"
      ]
     },
     "execution_count": 111,
     "metadata": {},
     "output_type": "execute_result"
    }
   ],
   "source": [
    "d4.items()"
   ]
  },
  {
   "cell_type": "code",
   "execution_count": 114,
   "id": "54a2de24-324e-4973-85c7-3584ee73fbfa",
   "metadata": {},
   "outputs": [
    {
     "data": {
      "text/plain": [
       "[('name', 'Akshay'),\n",
       " ('learning', ['Frontend', 'DSA', 'Data Science']),\n",
       " ('phone_no', 12345678),\n",
       " ('email', 'akshay@gmail.com')]"
      ]
     },
     "execution_count": 114,
     "metadata": {},
     "output_type": "execute_result"
    }
   ],
   "source": [
    "list(d4.items()) #gives the key value pairs"
   ]
  },
  {
   "cell_type": "code",
   "execution_count": 115,
   "id": "79c9829a-cc31-42c0-9377-c8673aab15f2",
   "metadata": {},
   "outputs": [
    {
     "data": {
      "text/plain": [
       "['Frontend', 'DSA', 'Data Science']"
      ]
     },
     "execution_count": 115,
     "metadata": {},
     "output_type": "execute_result"
    }
   ],
   "source": [
    "d4['learning']"
   ]
  },
  {
   "cell_type": "code",
   "execution_count": 116,
   "id": "c0978555-6a67-42ab-bbc1-dabb38f057c5",
   "metadata": {},
   "outputs": [
    {
     "data": {
      "text/plain": [
       "4"
      ]
     },
     "execution_count": 116,
     "metadata": {},
     "output_type": "execute_result"
    }
   ],
   "source": [
    "len(d4)"
   ]
  },
  {
   "cell_type": "code",
   "execution_count": null,
   "id": "e82d353e-153a-4d2c-a835-15457bdfec14",
   "metadata": {},
   "outputs": [],
   "source": []
  }
 ],
 "metadata": {
  "kernelspec": {
   "display_name": "Python 3 (ipykernel)",
   "language": "python",
   "name": "python3"
  },
  "language_info": {
   "codemirror_mode": {
    "name": "ipython",
    "version": 3
   },
   "file_extension": ".py",
   "mimetype": "text/x-python",
   "name": "python",
   "nbconvert_exporter": "python",
   "pygments_lexer": "ipython3",
   "version": "3.10.8"
  }
 },
 "nbformat": 4,
 "nbformat_minor": 5
}
