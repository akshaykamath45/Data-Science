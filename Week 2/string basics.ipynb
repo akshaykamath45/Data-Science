{
 "cells": [
  {
   "cell_type": "code",
   "execution_count": 1,
   "id": "5cc24ba9-d089-4e75-ad39-d745c186aa5c",
   "metadata": {},
   "outputs": [],
   "source": [
    "s1=\"akshay\""
   ]
  },
  {
   "cell_type": "code",
   "execution_count": 2,
   "id": "7c28199a-a850-4871-8d22-134a69e07e99",
   "metadata": {},
   "outputs": [
    {
     "data": {
      "text/plain": [
       "'akshay'"
      ]
     },
     "execution_count": 2,
     "metadata": {},
     "output_type": "execute_result"
    }
   ],
   "source": [
    "s1"
   ]
  },
  {
   "cell_type": "code",
   "execution_count": 3,
   "id": "2d16f434-4a60-4d0a-9874-df6d8677e9bf",
   "metadata": {},
   "outputs": [
    {
     "data": {
      "text/plain": [
       "str"
      ]
     },
     "execution_count": 3,
     "metadata": {},
     "output_type": "execute_result"
    }
   ],
   "source": [
    "type(s1)"
   ]
  },
  {
   "cell_type": "code",
   "execution_count": 4,
   "id": "8274d651-ce33-4c7f-b0db-c4046876cc3b",
   "metadata": {},
   "outputs": [
    {
     "name": "stdout",
     "output_type": "stream",
     "text": [
      "akshay\n"
     ]
    }
   ],
   "source": [
    "print(s1)"
   ]
  },
  {
   "cell_type": "code",
   "execution_count": 5,
   "id": "9d739a1a-f554-4ecd-8f82-4a1ca8362cbb",
   "metadata": {},
   "outputs": [
    {
     "data": {
      "text/plain": [
       "'k'"
      ]
     },
     "execution_count": 5,
     "metadata": {},
     "output_type": "execute_result"
    }
   ],
   "source": [
    "s1[1]"
   ]
  },
  {
   "cell_type": "code",
   "execution_count": 6,
   "id": "e713f5ef-643f-48f1-9766-cd0341120e08",
   "metadata": {},
   "outputs": [
    {
     "data": {
      "text/plain": [
       "'h'"
      ]
     },
     "execution_count": 6,
     "metadata": {},
     "output_type": "execute_result"
    }
   ],
   "source": [
    "s1[-3]\n"
   ]
  },
  {
   "cell_type": "code",
   "execution_count": 7,
   "id": "ce190888-8518-4fad-9291-e68210611ea2",
   "metadata": {},
   "outputs": [
    {
     "data": {
      "text/plain": [
       "'aks'"
      ]
     },
     "execution_count": 7,
     "metadata": {},
     "output_type": "execute_result"
    }
   ],
   "source": [
    "s1[0:3] #slicing operation"
   ]
  },
  {
   "cell_type": "code",
   "execution_count": 8,
   "id": "f8d81458-d846-49e6-9132-93c68423c1a2",
   "metadata": {},
   "outputs": [
    {
     "ename": "IndexError",
     "evalue": "string index out of range",
     "output_type": "error",
     "traceback": [
      "\u001b[0;31m---------------------------------------------------------------------------\u001b[0m",
      "\u001b[0;31mIndexError\u001b[0m                                Traceback (most recent call last)",
      "Cell \u001b[0;32mIn[8], line 1\u001b[0m\n\u001b[0;32m----> 1\u001b[0m \u001b[43ms1\u001b[49m\u001b[43m[\u001b[49m\u001b[38;5;241;43m12\u001b[39;49m\u001b[43m]\u001b[49m\n",
      "\u001b[0;31mIndexError\u001b[0m: string index out of range"
     ]
    }
   ],
   "source": [
    "s1[12] #indexing operation"
   ]
  },
  {
   "cell_type": "code",
   "execution_count": 9,
   "id": "e0cfd295-7062-45ca-82cb-e04a451b7752",
   "metadata": {},
   "outputs": [
    {
     "data": {
      "text/plain": [
       "''"
      ]
     },
     "execution_count": 9,
     "metadata": {},
     "output_type": "execute_result"
    }
   ],
   "source": [
    "s1[-1:-4]"
   ]
  },
  {
   "cell_type": "code",
   "execution_count": 10,
   "id": "dd41f31d-b78c-4ad4-b9c4-d83d088e8fea",
   "metadata": {},
   "outputs": [
    {
     "data": {
      "text/plain": [
       "'akshay'"
      ]
     },
     "execution_count": 10,
     "metadata": {},
     "output_type": "execute_result"
    }
   ],
   "source": [
    "s1[0:100] #does not give error while slicing"
   ]
  },
  {
   "cell_type": "code",
   "execution_count": 11,
   "id": "76d6143b-003b-4280-8805-6ffb00789a1d",
   "metadata": {},
   "outputs": [
    {
     "data": {
      "text/plain": [
       "'hay'"
      ]
     },
     "execution_count": 11,
     "metadata": {},
     "output_type": "execute_result"
    }
   ],
   "source": [
    "s1[3:7]"
   ]
  },
  {
   "cell_type": "code",
   "execution_count": 12,
   "id": "4c9f2ac5-01d8-496e-9292-a909dafbcbee",
   "metadata": {},
   "outputs": [
    {
     "data": {
      "text/plain": [
       "'yah'"
      ]
     },
     "execution_count": 12,
     "metadata": {},
     "output_type": "execute_result"
    }
   ],
   "source": [
    "s1[-1:-4:-1] #-1 is also known as the jump size,for negative slicing,the 3rd paramter indicated whehter the slicing in reverse order or normal forward order"
   ]
  },
  {
   "cell_type": "code",
   "execution_count": 13,
   "id": "66182a16-ebb5-4d2b-8a7d-550e2851edd3",
   "metadata": {},
   "outputs": [
    {
     "data": {
      "text/plain": [
       "'akshay'"
      ]
     },
     "execution_count": 13,
     "metadata": {},
     "output_type": "execute_result"
    }
   ],
   "source": [
    "s1"
   ]
  },
  {
   "cell_type": "code",
   "execution_count": 17,
   "id": "ff017dd8-9f9d-4b09-affb-7454e63ee395",
   "metadata": {},
   "outputs": [
    {
     "data": {
      "text/plain": [
       "'asa'"
      ]
     },
     "execution_count": 17,
     "metadata": {},
     "output_type": "execute_result"
    }
   ],
   "source": [
    "s1[0:8:2]"
   ]
  },
  {
   "cell_type": "code",
   "execution_count": 18,
   "id": "4d70976b-ce6f-417e-bf79-1f2f0654d813",
   "metadata": {},
   "outputs": [],
   "source": [
    "#reverse the entire string"
   ]
  },
  {
   "cell_type": "code",
   "execution_count": 19,
   "id": "a3fbf6ae-f759-49b8-97ee-5d327f39b5c2",
   "metadata": {},
   "outputs": [
    {
     "data": {
      "text/plain": [
       "'yahska'"
      ]
     },
     "execution_count": 19,
     "metadata": {},
     "output_type": "execute_result"
    }
   ],
   "source": [
    "s1[-1:-8:-1]"
   ]
  },
  {
   "cell_type": "code",
   "execution_count": 20,
   "id": "96770512-b688-4609-b91d-a9630d63da03",
   "metadata": {},
   "outputs": [
    {
     "data": {
      "text/plain": [
       "'yhk'"
      ]
     },
     "execution_count": 20,
     "metadata": {},
     "output_type": "execute_result"
    }
   ],
   "source": [
    "s1[-1:-8:-2]"
   ]
  },
  {
   "cell_type": "code",
   "execution_count": 21,
   "id": "9e5548f6-320d-4a4a-9b3c-ce4addbffd21",
   "metadata": {},
   "outputs": [],
   "source": [
    "a=10"
   ]
  },
  {
   "cell_type": "code",
   "execution_count": 22,
   "id": "306c77d3-349c-4260-8f89-8666393dc8bc",
   "metadata": {},
   "outputs": [],
   "source": [
    "#only with string,we can perform indexing and slicing operation"
   ]
  },
  {
   "cell_type": "code",
   "execution_count": 23,
   "id": "1eb1523f-284a-4d9b-bf03-c1355d36c57b",
   "metadata": {},
   "outputs": [
    {
     "data": {
      "text/plain": [
       "'AKSHAY'"
      ]
     },
     "execution_count": 23,
     "metadata": {},
     "output_type": "execute_result"
    }
   ],
   "source": [
    "#inbuilt functions for string in python\n",
    "\n",
    "s1.upper()\n",
    "s1.index('')\n",
    "s1.count('')\n",
    "\n",
    "#whatever function is called with is____ will give you a boolean value,either True or False\n",
    "s1.isupper()"
   ]
  },
  {
   "cell_type": "code",
   "execution_count": 33,
   "id": "a7df1d9e-8d3e-4744-889a-1650a6d88db6",
   "metadata": {},
   "outputs": [],
   "source": [
    "s2=s1.upper()"
   ]
  },
  {
   "cell_type": "code",
   "execution_count": 34,
   "id": "153650bc-5b23-4bbe-aec4-bcb29a21a87e",
   "metadata": {},
   "outputs": [
    {
     "data": {
      "text/plain": [
       "'akshay'"
      ]
     },
     "execution_count": 34,
     "metadata": {},
     "output_type": "execute_result"
    }
   ],
   "source": [
    "s1"
   ]
  },
  {
   "cell_type": "code",
   "execution_count": 35,
   "id": "57bb5bc9-62c8-4f8e-a724-d88f6d9a4ccb",
   "metadata": {},
   "outputs": [
    {
     "data": {
      "text/plain": [
       "'AKSHAY'"
      ]
     },
     "execution_count": 35,
     "metadata": {},
     "output_type": "execute_result"
    }
   ],
   "source": [
    "s2"
   ]
  },
  {
   "cell_type": "code",
   "execution_count": 36,
   "id": "f89b50be-74c1-4ef2-a3c7-c29fd993e260",
   "metadata": {},
   "outputs": [
    {
     "data": {
      "text/plain": [
       "0"
      ]
     },
     "execution_count": 36,
     "metadata": {},
     "output_type": "execute_result"
    }
   ],
   "source": [
    "s1.index('a') #gives the index of the first occruences"
   ]
  },
  {
   "cell_type": "code",
   "execution_count": 38,
   "id": "87ad1076-a331-4ebb-accc-88db0c3b67fd",
   "metadata": {},
   "outputs": [
    {
     "data": {
      "text/plain": [
       "0"
      ]
     },
     "execution_count": 38,
     "metadata": {},
     "output_type": "execute_result"
    }
   ],
   "source": [
    "s1.index('ak')"
   ]
  },
  {
   "cell_type": "code",
   "execution_count": 40,
   "id": "8dc608c6-8f3c-42b7-a3d6-11d977c2b5c1",
   "metadata": {},
   "outputs": [
    {
     "data": {
      "text/plain": [
       "2"
      ]
     },
     "execution_count": 40,
     "metadata": {},
     "output_type": "execute_result"
    }
   ],
   "source": [
    "s1.count('a')"
   ]
  },
  {
   "cell_type": "code",
   "execution_count": 41,
   "id": "c2247ae5-da15-4c88-9171-e4f93717b3cc",
   "metadata": {},
   "outputs": [
    {
     "data": {
      "text/plain": [
       "0"
      ]
     },
     "execution_count": 41,
     "metadata": {},
     "output_type": "execute_result"
    }
   ],
   "source": [
    "s2.count('s')"
   ]
  },
  {
   "cell_type": "code",
   "execution_count": 42,
   "id": "bc6c898e-0bba-419a-a1ad-14c5fdde58ad",
   "metadata": {},
   "outputs": [
    {
     "ename": "TypeError",
     "evalue": "unsupported operand type(s) for +: 'int' and 'str'",
     "output_type": "error",
     "traceback": [
      "\u001b[0;31m---------------------------------------------------------------------------\u001b[0m",
      "\u001b[0;31mTypeError\u001b[0m                                 Traceback (most recent call last)",
      "Cell \u001b[0;32mIn[42], line 1\u001b[0m\n\u001b[0;32m----> 1\u001b[0m \u001b[38;5;241;43m10\u001b[39;49m\u001b[38;5;241;43m+\u001b[39;49m\u001b[38;5;124;43m'\u001b[39;49m\u001b[38;5;124;43makshay\u001b[39;49m\u001b[38;5;124;43m'\u001b[39;49m\n",
      "\u001b[0;31mTypeError\u001b[0m: unsupported operand type(s) for +: 'int' and 'str'"
     ]
    }
   ],
   "source": [
    "10+'akshay'"
   ]
  },
  {
   "cell_type": "code",
   "execution_count": 46,
   "id": "42d8ba56-ab2e-4ab9-a0dd-adf6df16e624",
   "metadata": {},
   "outputs": [
    {
     "data": {
      "text/plain": [
       "'10akshay'"
      ]
     },
     "execution_count": 46,
     "metadata": {},
     "output_type": "execute_result"
    }
   ],
   "source": [
    "'10'+'akshay' #not possible to concatenate integer and string directly"
   ]
  },
  {
   "cell_type": "code",
   "execution_count": 48,
   "id": "dea97085-8f8e-4667-8ad2-c52baf61edbc",
   "metadata": {},
   "outputs": [
    {
     "data": {
      "text/plain": [
       "'10akshay'"
      ]
     },
     "execution_count": 48,
     "metadata": {},
     "output_type": "execute_result"
    }
   ],
   "source": [
    "str(10)+'akshay' #typecasting"
   ]
  },
  {
   "cell_type": "code",
   "execution_count": 49,
   "id": "d81644bb-6103-4f5a-9f71-7e168148ee6a",
   "metadata": {},
   "outputs": [
    {
     "data": {
      "text/plain": [
       "'akshay'"
      ]
     },
     "execution_count": 49,
     "metadata": {},
     "output_type": "execute_result"
    }
   ],
   "source": [
    "s1"
   ]
  },
  {
   "cell_type": "code",
   "execution_count": 2,
   "id": "a2ad18c2-fd55-4807-8eef-9c9a66b139d2",
   "metadata": {},
   "outputs": [],
   "source": [
    "#strings are immmutable"
   ]
  },
  {
   "cell_type": "code",
   "execution_count": 5,
   "id": "562ce00e-4eb4-41bd-a7aa-2dea8c7e9bce",
   "metadata": {},
   "outputs": [],
   "source": [
    "s1=\"akshay\""
   ]
  },
  {
   "cell_type": "code",
   "execution_count": 6,
   "id": "2d5bebce-92cd-4d22-8dc1-03f0ff2025ca",
   "metadata": {},
   "outputs": [
    {
     "ename": "TypeError",
     "evalue": "'str' object does not support item assignment",
     "output_type": "error",
     "traceback": [
      "\u001b[0;31m---------------------------------------------------------------------------\u001b[0m",
      "\u001b[0;31mTypeError\u001b[0m                                 Traceback (most recent call last)",
      "Cell \u001b[0;32mIn[6], line 1\u001b[0m\n\u001b[0;32m----> 1\u001b[0m \u001b[43ms1\u001b[49m\u001b[43m[\u001b[49m\u001b[38;5;241;43m0\u001b[39;49m\u001b[43m]\u001b[49m\u001b[38;5;241m=\u001b[39m\u001b[38;5;124m'\u001b[39m\u001b[38;5;124mr\u001b[39m\u001b[38;5;124m'\u001b[39m\n",
      "\u001b[0;31mTypeError\u001b[0m: 'str' object does not support item assignment"
     ]
    }
   ],
   "source": [
    "s1[0]='r'"
   ]
  },
  {
   "cell_type": "code",
   "execution_count": 7,
   "id": "50f288d2-abc3-4ab4-8f73-d40c68d5dd2c",
   "metadata": {},
   "outputs": [],
   "source": [
    "#we cannot change any characters in a string in any indexes"
   ]
  },
  {
   "cell_type": "code",
   "execution_count": 8,
   "id": "317edfdd-0cfb-4032-9a89-06941278fef9",
   "metadata": {},
   "outputs": [
    {
     "data": {
      "text/plain": [
       "'rkshry'"
      ]
     },
     "execution_count": 8,
     "metadata": {},
     "output_type": "execute_result"
    }
   ],
   "source": [
    "s1.replace('a','r')"
   ]
  },
  {
   "cell_type": "code",
   "execution_count": 9,
   "id": "7c8236ff-e8a0-4e48-97bc-a314cb78df40",
   "metadata": {},
   "outputs": [],
   "source": [
    " #it is creating a new varibale,its not mutating the original string"
   ]
  },
  {
   "cell_type": "code",
   "execution_count": 10,
   "id": "9b0c21ff-b273-4cb9-90e0-4bfbc0624c7b",
   "metadata": {},
   "outputs": [],
   "source": [
    "s2=s1.replace('a','b')"
   ]
  },
  {
   "cell_type": "code",
   "execution_count": 11,
   "id": "50cebbe6-2bcb-4e27-a3f3-6f68dddc5095",
   "metadata": {},
   "outputs": [
    {
     "data": {
      "text/plain": [
       "'bkshby'"
      ]
     },
     "execution_count": 11,
     "metadata": {},
     "output_type": "execute_result"
    }
   ],
   "source": [
    "s2"
   ]
  },
  {
   "cell_type": "code",
   "execution_count": null,
   "id": "3719714b-8b2d-40cd-882b-1da69d69aa9e",
   "metadata": {},
   "outputs": [],
   "source": []
  }
 ],
 "metadata": {
  "kernelspec": {
   "display_name": "Python 3 (ipykernel)",
   "language": "python",
   "name": "python3"
  },
  "language_info": {
   "codemirror_mode": {
    "name": "ipython",
    "version": 3
   },
   "file_extension": ".py",
   "mimetype": "text/x-python",
   "name": "python",
   "nbconvert_exporter": "python",
   "pygments_lexer": "ipython3",
   "version": "3.10.8"
  }
 },
 "nbformat": 4,
 "nbformat_minor": 5
}
