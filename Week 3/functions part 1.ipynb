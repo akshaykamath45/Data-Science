{
 "cells": [
  {
   "cell_type": "code",
   "execution_count": 1,
   "id": "adaa028f-bd87-45f8-8780-bfbbfd5f10dd",
   "metadata": {},
   "outputs": [
    {
     "name": "stdout",
     "output_type": "stream",
     "text": [
      "I am learning data science\n"
     ]
    }
   ],
   "source": [
    "print(\"I am learning data science\")"
   ]
  },
  {
   "cell_type": "code",
   "execution_count": 2,
   "id": "96c16132-9b2b-4b4d-9d03-dd65b34d1052",
   "metadata": {},
   "outputs": [],
   "source": [
    "l=[1,2,4,4,5]"
   ]
  },
  {
   "cell_type": "code",
   "execution_count": 3,
   "id": "845fd98d-6c47-4913-b0d3-543f81f8f0e9",
   "metadata": {},
   "outputs": [
    {
     "data": {
      "text/plain": [
       "5"
      ]
     },
     "execution_count": 3,
     "metadata": {},
     "output_type": "execute_result"
    }
   ],
   "source": [
    "len(l)"
   ]
  },
  {
   "cell_type": "code",
   "execution_count": 4,
   "id": "85e8b9da-190b-4292-88f4-0942d53d0876",
   "metadata": {},
   "outputs": [
    {
     "data": {
      "text/plain": [
       "list"
      ]
     },
     "execution_count": 4,
     "metadata": {},
     "output_type": "execute_result"
    }
   ],
   "source": [
    "type(l)"
   ]
  },
  {
   "cell_type": "code",
   "execution_count": 5,
   "id": "9589bbd6-98b5-4dac-ad15-7576bc2408a5",
   "metadata": {},
   "outputs": [],
   "source": [
    "#creating function"
   ]
  },
  {
   "cell_type": "code",
   "execution_count": 6,
   "id": "5e504031-9c77-43b7-9a71-eeeaef7d1c43",
   "metadata": {},
   "outputs": [],
   "source": [
    "def test():\n",
    "    pass"
   ]
  },
  {
   "cell_type": "code",
   "execution_count": 7,
   "id": "cfb064b2-9206-425a-a307-4151d1efe2ff",
   "metadata": {},
   "outputs": [],
   "source": [
    "test()"
   ]
  },
  {
   "cell_type": "code",
   "execution_count": 8,
   "id": "e7731ba5-1921-47d0-9c78-c3a87ce141b9",
   "metadata": {},
   "outputs": [],
   "source": [
    "def test1():\n",
    "    print(\"This is my first function\")"
   ]
  },
  {
   "cell_type": "code",
   "execution_count": 9,
   "id": "fffc2714-bc86-4871-921a-b5ed79ca401a",
   "metadata": {},
   "outputs": [
    {
     "name": "stdout",
     "output_type": "stream",
     "text": [
      "This is my first function\n"
     ]
    }
   ],
   "source": [
    "test1()"
   ]
  },
  {
   "cell_type": "code",
   "execution_count": 10,
   "id": "e2486027-69c9-4054-a652-b6539ad38e11",
   "metadata": {},
   "outputs": [
    {
     "name": "stdout",
     "output_type": "stream",
     "text": [
      "This is my first function\n"
     ]
    },
    {
     "ename": "TypeError",
     "evalue": "unsupported operand type(s) for +: 'NoneType' and 'str'",
     "output_type": "error",
     "traceback": [
      "\u001b[0;31m---------------------------------------------------------------------------\u001b[0m",
      "\u001b[0;31mTypeError\u001b[0m                                 Traceback (most recent call last)",
      "Cell \u001b[0;32mIn[10], line 1\u001b[0m\n\u001b[0;32m----> 1\u001b[0m \u001b[43mtest1\u001b[49m\u001b[43m(\u001b[49m\u001b[43m)\u001b[49m\u001b[38;5;241;43m+\u001b[39;49m\u001b[38;5;124;43m\"\u001b[39;49m\u001b[38;5;124;43makshay\u001b[39;49m\u001b[38;5;124;43m\"\u001b[39;49m\n",
      "\u001b[0;31mTypeError\u001b[0m: unsupported operand type(s) for +: 'NoneType' and 'str'"
     ]
    }
   ],
   "source": [
    "test1()+\"akshay\""
   ]
  },
  {
   "cell_type": "code",
   "execution_count": null,
   "id": "a7bc34f5-0f59-4ff8-b4a4-f49c48a6ef4d",
   "metadata": {},
   "outputs": [],
   "source": [
    "type(print())"
   ]
  },
  {
   "cell_type": "code",
   "execution_count": null,
   "id": "75658bc9-d125-4df7-af89-cccb50641ec2",
   "metadata": {},
   "outputs": [],
   "source": [
    "def test2():\n",
    "    return \"this is my first return\""
   ]
  },
  {
   "cell_type": "code",
   "execution_count": null,
   "id": "b8d0e56d-b4ea-45ae-b754-3f817afc13da",
   "metadata": {},
   "outputs": [],
   "source": [
    "test2()"
   ]
  },
  {
   "cell_type": "code",
   "execution_count": null,
   "id": "a2b5e8d9-9fcf-469d-8101-23f94e3d4fe9",
   "metadata": {},
   "outputs": [],
   "source": [
    "test2()+\" akshay\""
   ]
  },
  {
   "cell_type": "markdown",
   "id": "cf7ef3b6-a15d-4018-b2ba-632935855af4",
   "metadata": {},
   "source": [
    "We should use return instead of print,return would give the same data type,while print will give NoneType."
   ]
  },
  {
   "cell_type": "code",
   "execution_count": 11,
   "id": "43880378-6ca2-4771-b38b-d55b22f5e78b",
   "metadata": {},
   "outputs": [],
   "source": [
    "def test3():\n",
    "    return \"akshay\",45,3445.76,[1,2,4,5]"
   ]
  },
  {
   "cell_type": "code",
   "execution_count": 12,
   "id": "34e95882-a2e7-47ab-97ae-101c88489fa0",
   "metadata": {},
   "outputs": [
    {
     "data": {
      "text/plain": [
       "('akshay', 45, 3445.76, [1, 2, 4, 5])"
      ]
     },
     "execution_count": 12,
     "metadata": {},
     "output_type": "execute_result"
    }
   ],
   "source": [
    "test3()"
   ]
  },
  {
   "cell_type": "code",
   "execution_count": 13,
   "id": "4e38fb2c-da15-4959-96d1-298ca2f466c8",
   "metadata": {},
   "outputs": [],
   "source": [
    "a,b,c,d=test3()"
   ]
  },
  {
   "cell_type": "code",
   "execution_count": 14,
   "id": "1824d90f-977a-4680-99fc-aec915fabb9e",
   "metadata": {},
   "outputs": [
    {
     "data": {
      "text/plain": [
       "'akshay'"
      ]
     },
     "execution_count": 14,
     "metadata": {},
     "output_type": "execute_result"
    }
   ],
   "source": [
    "a"
   ]
  },
  {
   "cell_type": "code",
   "execution_count": 15,
   "id": "6c731c2b-bf16-44c6-80d1-c90292c6500c",
   "metadata": {},
   "outputs": [
    {
     "data": {
      "text/plain": [
       "45"
      ]
     },
     "execution_count": 15,
     "metadata": {},
     "output_type": "execute_result"
    }
   ],
   "source": [
    "b"
   ]
  },
  {
   "cell_type": "code",
   "execution_count": 16,
   "id": "3f7d4c1a-6749-4dfe-bcf9-f84c3d66e3d6",
   "metadata": {},
   "outputs": [
    {
     "data": {
      "text/plain": [
       "3445.76"
      ]
     },
     "execution_count": 16,
     "metadata": {},
     "output_type": "execute_result"
    }
   ],
   "source": [
    "c"
   ]
  },
  {
   "cell_type": "code",
   "execution_count": 17,
   "id": "6cbe3594-b046-4f01-bce0-95e4b6c09006",
   "metadata": {},
   "outputs": [
    {
     "data": {
      "text/plain": [
       "[1, 2, 4, 5]"
      ]
     },
     "execution_count": 17,
     "metadata": {},
     "output_type": "execute_result"
    }
   ],
   "source": [
    "d"
   ]
  },
  {
   "cell_type": "code",
   "execution_count": 18,
   "id": "4c776b75-365e-4f5b-a21f-a3b06fe0d695",
   "metadata": {},
   "outputs": [],
   "source": [
    "a,b=1,4"
   ]
  },
  {
   "cell_type": "code",
   "execution_count": 19,
   "id": "f294b60d-0807-4fc7-b68e-77a4269b68f9",
   "metadata": {},
   "outputs": [
    {
     "data": {
      "text/plain": [
       "1"
      ]
     },
     "execution_count": 19,
     "metadata": {},
     "output_type": "execute_result"
    }
   ],
   "source": [
    "a"
   ]
  },
  {
   "cell_type": "code",
   "execution_count": 20,
   "id": "f7c54625-09f2-45c2-b9ed-67fbb60395ed",
   "metadata": {},
   "outputs": [
    {
     "data": {
      "text/plain": [
       "4"
      ]
     },
     "execution_count": 20,
     "metadata": {},
     "output_type": "execute_result"
    }
   ],
   "source": [
    "b"
   ]
  },
  {
   "cell_type": "code",
   "execution_count": 21,
   "id": "0745db0d-a70e-4db6-b4ba-59afc82d9cb0",
   "metadata": {},
   "outputs": [],
   "source": [
    "def test4():\n",
    "    a=6+9/4\n",
    "    return a"
   ]
  },
  {
   "cell_type": "code",
   "execution_count": 22,
   "id": "0c8c4a84-2fef-42af-a4f7-9fdf9fa14ce0",
   "metadata": {},
   "outputs": [
    {
     "data": {
      "text/plain": [
       "8.25"
      ]
     },
     "execution_count": 22,
     "metadata": {},
     "output_type": "execute_result"
    }
   ],
   "source": [
    "test4()"
   ]
  },
  {
   "cell_type": "code",
   "execution_count": 23,
   "id": "8b771e53-689c-435a-a6ed-79c08d6a16c6",
   "metadata": {},
   "outputs": [],
   "source": [
    "def test5(a,b,c):\n",
    "    d=a+c/b\n",
    "    return d"
   ]
  },
  {
   "cell_type": "code",
   "execution_count": 24,
   "id": "c41bbb32-398f-40e9-9128-d6b2f6b4fd37",
   "metadata": {},
   "outputs": [
    {
     "data": {
      "text/plain": [
       "4.8"
      ]
     },
     "execution_count": 24,
     "metadata": {},
     "output_type": "execute_result"
    }
   ],
   "source": [
    "test5(3,5,9)"
   ]
  },
  {
   "cell_type": "code",
   "execution_count": 25,
   "id": "bc8ae8ee-1b54-45b1-8835-68f7ffe52ce0",
   "metadata": {},
   "outputs": [],
   "source": [
    "def test6(a,b):\n",
    "    return a+b"
   ]
  },
  {
   "cell_type": "code",
   "execution_count": 26,
   "id": "10b0ab84-2a47-40a4-b4de-e096c8789a65",
   "metadata": {},
   "outputs": [
    {
     "data": {
      "text/plain": [
       "9"
      ]
     },
     "execution_count": 26,
     "metadata": {},
     "output_type": "execute_result"
    }
   ],
   "source": [
    "test6(4,5)"
   ]
  },
  {
   "cell_type": "code",
   "execution_count": 27,
   "id": "277c2213-c6cf-4dd5-85f5-edd19b16e7a9",
   "metadata": {},
   "outputs": [
    {
     "data": {
      "text/plain": [
       "'akshay kamath'"
      ]
     },
     "execution_count": 27,
     "metadata": {},
     "output_type": "execute_result"
    }
   ],
   "source": [
    "test6(\"akshay\",\" kamath\")"
   ]
  },
  {
   "cell_type": "code",
   "execution_count": 28,
   "id": "aa31862a-a88a-4bc4-af92-e5d51987c6fe",
   "metadata": {},
   "outputs": [
    {
     "data": {
      "text/plain": [
       "[1, 2, 3, 4, 3, 4, 5, 6]"
      ]
     },
     "execution_count": 28,
     "metadata": {},
     "output_type": "execute_result"
    }
   ],
   "source": [
    "test6([1,2,3,4],[3,4,5,6])"
   ]
  },
  {
   "cell_type": "code",
   "execution_count": 29,
   "id": "c05ee1d8-3b27-435e-851c-efa3b02fe30a",
   "metadata": {},
   "outputs": [
    {
     "data": {
      "text/plain": [
       "{1, 2, 3, 4, 5, 6}"
      ]
     },
     "execution_count": 29,
     "metadata": {},
     "output_type": "execute_result"
    }
   ],
   "source": [
    "set(test6([1,2,3,4],[3,4,5,6]))"
   ]
  },
  {
   "cell_type": "code",
   "execution_count": 30,
   "id": "e1859ed6-bdbf-4e27-b516-d5032a55c3b4",
   "metadata": {},
   "outputs": [],
   "source": [
    "l=[1,2,3,4,\"akshay\",\"kamath\",[1,2,3,4,5,6]]"
   ]
  },
  {
   "cell_type": "code",
   "execution_count": 31,
   "id": "35b7e8ca-9cdf-4ddd-90b9-b767fc883976",
   "metadata": {},
   "outputs": [],
   "source": [
    "def test7(l):\n",
    "    l2=[]\n",
    "    for i in l:\n",
    "        if(type(i)==list):\n",
    "            l2.append(i)\n",
    "    return l2\n",
    "                "
   ]
  },
  {
   "cell_type": "code",
   "execution_count": 32,
   "id": "5e2d2d72-4ab3-4614-bd88-c259cb692431",
   "metadata": {},
   "outputs": [
    {
     "data": {
      "text/plain": [
       "[[1, 2, 3, 4, 5, 6]]"
      ]
     },
     "execution_count": 32,
     "metadata": {},
     "output_type": "execute_result"
    }
   ],
   "source": [
    "test7(l)"
   ]
  },
  {
   "cell_type": "code",
   "execution_count": 33,
   "id": "5b7904a9-e57e-4a2d-95e6-e88cd0e0874c",
   "metadata": {},
   "outputs": [],
   "source": [
    "def test8(l):\n",
    "    l2=[]\n",
    "    for i in l:\n",
    "        if(type(i)==list):\n",
    "            for j in i:\n",
    "                l2.append(j)\n",
    "        else:\n",
    "            if(type(i)==int or type(i)==float):\n",
    "                l2.append(i)\n",
    "    return l2\n",
    "                "
   ]
  },
  {
   "cell_type": "code",
   "execution_count": 34,
   "id": "285ef26e-2962-4b89-ac9c-20f1cb3bf180",
   "metadata": {},
   "outputs": [
    {
     "data": {
      "text/plain": [
       "[1, 2, 3, 4, 1, 2, 3, 4, 5, 6]"
      ]
     },
     "execution_count": 34,
     "metadata": {},
     "output_type": "execute_result"
    }
   ],
   "source": [
    "test8(l)"
   ]
  },
  {
   "cell_type": "code",
   "execution_count": 35,
   "id": "64232e62-bef4-4f22-bd27-15df2b92f499",
   "metadata": {},
   "outputs": [],
   "source": [
    "def test9(l):\n",
    "    #this is doc string\n",
    "    \"\"\"this is function to extract number data from list\"\"\"\n",
    "    l2=[]\n",
    "    for i in l:\n",
    "        if(type(i)==list):\n",
    "            for j in i:\n",
    "                l2.append(j)\n",
    "        else:\n",
    "            if(type(i)==int or type(i)==float):\n",
    "                l2.append(i)\n",
    "    return l2"
   ]
  },
  {
   "cell_type": "code",
   "execution_count": 36,
   "id": "f7950c07-f864-4a7c-9728-0f28492c4db4",
   "metadata": {},
   "outputs": [
    {
     "data": {
      "text/plain": [
       "[1, 2, 3, 4, 1, 2, 3, 4, 5, 6]"
      ]
     },
     "execution_count": 36,
     "metadata": {},
     "output_type": "execute_result"
    }
   ],
   "source": [
    "test9(l)"
   ]
  },
  {
   "cell_type": "code",
   "execution_count": 37,
   "id": "964e5d14-ed72-4190-aac6-20868527f853",
   "metadata": {},
   "outputs": [],
   "source": [
    "def test10(a,b):\n",
    "    return a+b"
   ]
  },
  {
   "cell_type": "code",
   "execution_count": 38,
   "id": "c887b80a-b9f4-4007-a24b-b4876af56c77",
   "metadata": {},
   "outputs": [],
   "source": [
    "def test11(*args):\n",
    "    return args"
   ]
  },
  {
   "cell_type": "code",
   "execution_count": 39,
   "id": "105c48fa-fc7d-465a-bfa7-c15d0658826d",
   "metadata": {},
   "outputs": [
    {
     "data": {
      "text/plain": [
       "tuple"
      ]
     },
     "execution_count": 39,
     "metadata": {},
     "output_type": "execute_result"
    }
   ],
   "source": [
    "type(test11())"
   ]
  },
  {
   "cell_type": "code",
   "execution_count": 40,
   "id": "262346e0-c48e-4369-9a3d-9ba91f246e99",
   "metadata": {},
   "outputs": [
    {
     "data": {
      "text/plain": [
       "(1, 2, 3)"
      ]
     },
     "execution_count": 40,
     "metadata": {},
     "output_type": "execute_result"
    }
   ],
   "source": [
    "test11(1,2,3)"
   ]
  },
  {
   "cell_type": "code",
   "execution_count": 41,
   "id": "c86d2d4f-ff9d-455a-b127-b8ab93ac3adc",
   "metadata": {},
   "outputs": [
    {
     "data": {
      "text/plain": [
       "(1, 2, 'rohit', 'akshay', [4, 5, 6, 8, 9])"
      ]
     },
     "execution_count": 41,
     "metadata": {},
     "output_type": "execute_result"
    }
   ],
   "source": [
    "test11(1,2,\"rohit\",\"akshay\",[4,5,6,8,9])"
   ]
  },
  {
   "cell_type": "markdown",
   "id": "f4c022d4-3afe-4cae-8bbe-e8c3f910a91a",
   "metadata": {},
   "source": [
    "astric means you can pass any number of arguments.It stored the data using tuple.args is not a specific keyword,you can use anything"
   ]
  },
  {
   "cell_type": "code",
   "execution_count": 42,
   "id": "3752e9fa-e837-40fc-be77-0693bdafbd32",
   "metadata": {},
   "outputs": [],
   "source": [
    "def test12(*akshay,a):\n",
    "    return akshay,a"
   ]
  },
  {
   "cell_type": "code",
   "execution_count": 43,
   "id": "9db4db6a-e4f0-4a81-9ff4-594ef4c9fef0",
   "metadata": {},
   "outputs": [
    {
     "ename": "TypeError",
     "evalue": "test12() missing 1 required keyword-only argument: 'a'",
     "output_type": "error",
     "traceback": [
      "\u001b[0;31m---------------------------------------------------------------------------\u001b[0m",
      "\u001b[0;31mTypeError\u001b[0m                                 Traceback (most recent call last)",
      "Cell \u001b[0;32mIn[43], line 1\u001b[0m\n\u001b[0;32m----> 1\u001b[0m \u001b[43mtest12\u001b[49m\u001b[43m(\u001b[49m\u001b[38;5;241;43m1\u001b[39;49m\u001b[43m,\u001b[49m\u001b[38;5;241;43m2\u001b[39;49m\u001b[43m,\u001b[49m\u001b[38;5;241;43m3\u001b[39;49m\u001b[43m,\u001b[49m\u001b[38;5;241;43m4\u001b[39;49m\u001b[43m)\u001b[49m\n",
      "\u001b[0;31mTypeError\u001b[0m: test12() missing 1 required keyword-only argument: 'a'"
     ]
    }
   ],
   "source": [
    "test12(1,2,3,4)"
   ]
  },
  {
   "cell_type": "markdown",
   "id": "7ccb8a56-2979-4be4-91c2-1438d95bcb20",
   "metadata": {},
   "source": [
    "We cannot use multiple inputs if we use the astric for multiple arguments,we can declare it while calling"
   ]
  },
  {
   "cell_type": "code",
   "execution_count": 44,
   "id": "b720eda2-09af-489d-8285-5179dca21f57",
   "metadata": {},
   "outputs": [
    {
     "data": {
      "text/plain": [
       "((1, 2, 3, 4), 45)"
      ]
     },
     "execution_count": 44,
     "metadata": {},
     "output_type": "execute_result"
    }
   ],
   "source": [
    "test12(1,2,3,4,a=45)"
   ]
  },
  {
   "cell_type": "code",
   "execution_count": 45,
   "id": "ce3b0b5c-ab8b-47cb-9606-55e8e022ee12",
   "metadata": {},
   "outputs": [],
   "source": [
    "def test14(a,b,c=43,d=35):\n",
    "    return a,b,c,d"
   ]
  },
  {
   "cell_type": "code",
   "execution_count": 46,
   "id": "36262706-a509-432b-8d09-66837df6af9e",
   "metadata": {},
   "outputs": [
    {
     "ename": "TypeError",
     "evalue": "test14() missing 2 required positional arguments: 'a' and 'b'",
     "output_type": "error",
     "traceback": [
      "\u001b[0;31m---------------------------------------------------------------------------\u001b[0m",
      "\u001b[0;31mTypeError\u001b[0m                                 Traceback (most recent call last)",
      "Cell \u001b[0;32mIn[46], line 1\u001b[0m\n\u001b[0;32m----> 1\u001b[0m \u001b[43mtest14\u001b[49m\u001b[43m(\u001b[49m\u001b[43m)\u001b[49m\n",
      "\u001b[0;31mTypeError\u001b[0m: test14() missing 2 required positional arguments: 'a' and 'b'"
     ]
    }
   ],
   "source": [
    "test14()"
   ]
  },
  {
   "cell_type": "code",
   "execution_count": 47,
   "id": "f0e185d5-e180-4d1f-b539-180920b97760",
   "metadata": {},
   "outputs": [
    {
     "data": {
      "text/plain": [
       "(1, 2, 43, 35)"
      ]
     },
     "execution_count": 47,
     "metadata": {},
     "output_type": "execute_result"
    }
   ],
   "source": [
    "test14(1,2)"
   ]
  },
  {
   "cell_type": "code",
   "execution_count": 48,
   "id": "5c293c6a-88b2-4d39-aea1-c4b0c70b39b3",
   "metadata": {},
   "outputs": [
    {
     "data": {
      "text/plain": [
       "(3, 5, 64, 35)"
      ]
     },
     "execution_count": 48,
     "metadata": {},
     "output_type": "execute_result"
    }
   ],
   "source": [
    "test14(3,5,c=64) #Override=>allowed to change the value while calling"
   ]
  },
  {
   "cell_type": "code",
   "execution_count": 49,
   "id": "c522c404-f83e-4a99-b1fa-de91f80896d6",
   "metadata": {},
   "outputs": [],
   "source": [
    "# kwargs means key and value pair,the output would be in the form of dictionary\n",
    "def test15(**kwargs):\n",
    "    return kwargs"
   ]
  },
  {
   "cell_type": "code",
   "execution_count": 50,
   "id": "4bf856cb-aca1-48be-b87f-ac792e69a190",
   "metadata": {},
   "outputs": [
    {
     "data": {
      "text/plain": [
       "{}"
      ]
     },
     "execution_count": 50,
     "metadata": {},
     "output_type": "execute_result"
    }
   ],
   "source": [
    "test15()"
   ]
  },
  {
   "cell_type": "code",
   "execution_count": 51,
   "id": "c4e5f490-9c04-46bd-8c4c-ee2f32f533fa",
   "metadata": {},
   "outputs": [
    {
     "data": {
      "text/plain": [
       "dict"
      ]
     },
     "execution_count": 51,
     "metadata": {},
     "output_type": "execute_result"
    }
   ],
   "source": [
    "type(test15())"
   ]
  },
  {
   "cell_type": "code",
   "execution_count": 52,
   "id": "be94c011-a1b1-46f8-8d72-a2eb68b1d19e",
   "metadata": {},
   "outputs": [
    {
     "data": {
      "text/plain": [
       "{'a': [1, 2, 3, 4], 'b': 'akshay', 'c': 34.56}"
      ]
     },
     "execution_count": 52,
     "metadata": {},
     "output_type": "execute_result"
    }
   ],
   "source": [
    "test15(a=[1,2,3,4],b=\"akshay\",c=34.56)"
   ]
  }
 ],
 "metadata": {
  "kernelspec": {
   "display_name": "Python 3 (ipykernel)",
   "language": "python",
   "name": "python3"
  },
  "language_info": {
   "codemirror_mode": {
    "name": "ipython",
    "version": 3
   },
   "file_extension": ".py",
   "mimetype": "text/x-python",
   "name": "python",
   "nbconvert_exporter": "python",
   "pygments_lexer": "ipython3",
   "version": "3.10.8"
  }
 },
 "nbformat": 4,
 "nbformat_minor": 5
}
