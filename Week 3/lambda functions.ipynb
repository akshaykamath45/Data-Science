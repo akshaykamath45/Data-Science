{
 "cells": [
  {
   "cell_type": "code",
   "execution_count": 1,
   "id": "d7190693-b299-462c-b3c0-31d9a6628f7f",
   "metadata": {},
   "outputs": [],
   "source": [
    "n=3"
   ]
  },
  {
   "cell_type": "code",
   "execution_count": 2,
   "id": "e0194937-c9c4-42cd-bc9e-3084043dab26",
   "metadata": {},
   "outputs": [],
   "source": [
    "p=2"
   ]
  },
  {
   "cell_type": "code",
   "execution_count": 3,
   "id": "e7e805c9-7e60-4370-bf76-e33d8d4d2260",
   "metadata": {},
   "outputs": [],
   "source": [
    "def test(n,p):\n",
    "    return n**p"
   ]
  },
  {
   "cell_type": "code",
   "execution_count": 4,
   "id": "e53d5ba9-56c2-4566-8991-26877e9665fb",
   "metadata": {},
   "outputs": [
    {
     "data": {
      "text/plain": [
       "9"
      ]
     },
     "execution_count": 4,
     "metadata": {},
     "output_type": "execute_result"
    }
   ],
   "source": [
    "test(n,p)"
   ]
  },
  {
   "cell_type": "code",
   "execution_count": 6,
   "id": "74496190-dbdd-4901-859b-06236463505c",
   "metadata": {},
   "outputs": [],
   "source": [
    "a=lambda n,p:n**p"
   ]
  },
  {
   "cell_type": "code",
   "execution_count": 7,
   "id": "24c1a0fa-50a9-4826-a645-dd4adbc2c1bd",
   "metadata": {},
   "outputs": [
    {
     "data": {
      "text/plain": [
       "<function __main__.<lambda>(n, p)>"
      ]
     },
     "execution_count": 7,
     "metadata": {},
     "output_type": "execute_result"
    }
   ],
   "source": [
    "a"
   ]
  },
  {
   "cell_type": "code",
   "execution_count": 8,
   "id": "09aadb8e-381e-4f83-ba79-46dbb6453f5a",
   "metadata": {},
   "outputs": [
    {
     "data": {
      "text/plain": [
       "9"
      ]
     },
     "execution_count": 8,
     "metadata": {},
     "output_type": "execute_result"
    }
   ],
   "source": [
    "a(3,2)"
   ]
  },
  {
   "cell_type": "markdown",
   "id": "091f4961-3c07-4db7-bfd9-04182ae9fffe",
   "metadata": {},
   "source": [
    "Lambda Function is also called One Liner or Anonymous function"
   ]
  },
  {
   "cell_type": "code",
   "execution_count": 9,
   "id": "0ed9657a-ab11-43c2-8362-adb82f854425",
   "metadata": {},
   "outputs": [],
   "source": [
    "add=lambda x,y:x+y"
   ]
  },
  {
   "cell_type": "code",
   "execution_count": 10,
   "id": "cd0f2bc8-422f-4ce7-8330-1343dfb5a2ad",
   "metadata": {},
   "outputs": [
    {
     "data": {
      "text/plain": [
       "5"
      ]
     },
     "execution_count": 10,
     "metadata": {},
     "output_type": "execute_result"
    }
   ],
   "source": [
    "add(2,3)"
   ]
  },
  {
   "cell_type": "code",
   "execution_count": 11,
   "id": "3cc9fef5-2f1d-4b41-8e1a-ef0f1ed267d4",
   "metadata": {},
   "outputs": [],
   "source": [
    "c_to_f=lambda c:(9/5)*c+32"
   ]
  },
  {
   "cell_type": "code",
   "execution_count": 12,
   "id": "fe4c8c6e-dab0-4a4f-a587-149837e03967",
   "metadata": {},
   "outputs": [
    {
     "data": {
      "text/plain": [
       "89.6"
      ]
     },
     "execution_count": 12,
     "metadata": {},
     "output_type": "execute_result"
    }
   ],
   "source": [
    "c_to_f(32)"
   ]
  },
  {
   "cell_type": "code",
   "execution_count": 15,
   "id": "a10501ce-44f1-4dbe-92de-dc4c40c6edd2",
   "metadata": {},
   "outputs": [],
   "source": [
    "max=lambda a,b:a if a>b else b"
   ]
  },
  {
   "cell_type": "code",
   "execution_count": 16,
   "id": "2cc789f9-9171-4bda-be97-12d79dbaa462",
   "metadata": {},
   "outputs": [
    {
     "data": {
      "text/plain": [
       "4"
      ]
     },
     "execution_count": 16,
     "metadata": {},
     "output_type": "execute_result"
    }
   ],
   "source": [
    "max(3,4)"
   ]
  },
  {
   "cell_type": "code",
   "execution_count": 17,
   "id": "9da17d1d-e7de-4a4a-9ed0-0707f041e2bf",
   "metadata": {},
   "outputs": [],
   "source": [
    "length=lambda s:len(s)"
   ]
  },
  {
   "cell_type": "code",
   "execution_count": 18,
   "id": "7aa5a3af-b82b-4dd3-ba7a-137026db7b75",
   "metadata": {},
   "outputs": [
    {
     "data": {
      "text/plain": [
       "6"
      ]
     },
     "execution_count": 18,
     "metadata": {},
     "output_type": "execute_result"
    }
   ],
   "source": [
    "length(\"akshay\")"
   ]
  },
  {
   "cell_type": "code",
   "execution_count": null,
   "id": "0e84e79e-7ef2-4eb4-a787-aac3e293200f",
   "metadata": {},
   "outputs": [],
   "source": []
  }
 ],
 "metadata": {
  "kernelspec": {
   "display_name": "Python 3 (ipykernel)",
   "language": "python",
   "name": "python3"
  },
  "language_info": {
   "codemirror_mode": {
    "name": "ipython",
    "version": 3
   },
   "file_extension": ".py",
   "mimetype": "text/x-python",
   "name": "python",
   "nbconvert_exporter": "python",
   "pygments_lexer": "ipython3",
   "version": "3.10.8"
  }
 },
 "nbformat": 4,
 "nbformat_minor": 5
}
