{
 "cells": [
  {
   "cell_type": "code",
   "execution_count": 1,
   "id": "dd9109b1-ee70-4bc6-8c4e-ac448c3ab7a9",
   "metadata": {},
   "outputs": [],
   "source": [
    "a=1"
   ]
  },
  {
   "cell_type": "code",
   "execution_count": 2,
   "id": "09ac5d97-d59e-48dc-a22f-bdaa1e2914c4",
   "metadata": {},
   "outputs": [
    {
     "data": {
      "text/plain": [
       "1"
      ]
     },
     "execution_count": 2,
     "metadata": {},
     "output_type": "execute_result"
    }
   ],
   "source": [
    "a"
   ]
  },
  {
   "cell_type": "code",
   "execution_count": 3,
   "id": "5e18f566-a799-4f38-a592-911d2a17da0d",
   "metadata": {},
   "outputs": [
    {
     "data": {
      "text/plain": [
       "int"
      ]
     },
     "execution_count": 3,
     "metadata": {},
     "output_type": "execute_result"
    }
   ],
   "source": [
    "type(a)"
   ]
  },
  {
   "cell_type": "code",
   "execution_count": 4,
   "id": "98890dd6-9958-4ab3-affc-6215d477b389",
   "metadata": {},
   "outputs": [],
   "source": [
    "a=\"akshay\""
   ]
  },
  {
   "cell_type": "code",
   "execution_count": 5,
   "id": "2ab1f21a-1d7a-4384-8eb6-1319e0c73889",
   "metadata": {},
   "outputs": [
    {
     "data": {
      "text/plain": [
       "str"
      ]
     },
     "execution_count": 5,
     "metadata": {},
     "output_type": "execute_result"
    }
   ],
   "source": [
    "type(a)"
   ]
  },
  {
   "cell_type": "code",
   "execution_count": 6,
   "id": "99afc8b3-0d21-4dc0-bc9c-8fb28eee354c",
   "metadata": {},
   "outputs": [],
   "source": [
    "c=45.56"
   ]
  },
  {
   "cell_type": "code",
   "execution_count": 7,
   "id": "023b59e0-cd6d-46e4-a218-54d38e37f153",
   "metadata": {},
   "outputs": [
    {
     "data": {
      "text/plain": [
       "float"
      ]
     },
     "execution_count": 7,
     "metadata": {},
     "output_type": "execute_result"
    }
   ],
   "source": [
    "type(c)"
   ]
  },
  {
   "cell_type": "code",
   "execution_count": 8,
   "id": "795a8d6f-7e3d-4550-bcd6-178aadbae3aa",
   "metadata": {},
   "outputs": [
    {
     "data": {
      "text/plain": [
       "'akshay'"
      ]
     },
     "execution_count": 8,
     "metadata": {},
     "output_type": "execute_result"
    }
   ],
   "source": [
    "a"
   ]
  },
  {
   "cell_type": "code",
   "execution_count": 9,
   "id": "d388e4fe-3ec7-403f-adb5-d775fbe419ca",
   "metadata": {},
   "outputs": [
    {
     "data": {
      "text/plain": [
       "45.56"
      ]
     },
     "execution_count": 9,
     "metadata": {},
     "output_type": "execute_result"
    }
   ],
   "source": [
    "c"
   ]
  },
  {
   "cell_type": "code",
   "execution_count": 10,
   "id": "fbf19fe0-2cd3-41f5-af0d-673a567acc39",
   "metadata": {},
   "outputs": [
    {
     "ename": "NameError",
     "evalue": "name 'true' is not defined",
     "output_type": "error",
     "traceback": [
      "\u001b[0;31m---------------------------------------------------------------------------\u001b[0m",
      "\u001b[0;31mNameError\u001b[0m                                 Traceback (most recent call last)",
      "Cell \u001b[0;32mIn[10], line 1\u001b[0m\n\u001b[0;32m----> 1\u001b[0m d\u001b[38;5;241m=\u001b[39m\u001b[43mtrue\u001b[49m\n",
      "\u001b[0;31mNameError\u001b[0m: name 'true' is not defined"
     ]
    }
   ],
   "source": [
    "d=true"
   ]
  },
  {
   "cell_type": "code",
   "execution_count": 11,
   "id": "5496fb9e-73f0-49af-8e5b-78faf3c1524c",
   "metadata": {},
   "outputs": [],
   "source": [
    "d=True"
   ]
  },
  {
   "cell_type": "code",
   "execution_count": 12,
   "id": "cd2dd051-17ae-4a31-8902-07a5bc76e5c7",
   "metadata": {},
   "outputs": [
    {
     "data": {
      "text/plain": [
       "bool"
      ]
     },
     "execution_count": 12,
     "metadata": {},
     "output_type": "execute_result"
    }
   ],
   "source": [
    "type(d)"
   ]
  },
  {
   "cell_type": "code",
   "execution_count": 13,
   "id": "dabc6baf-8c70-45f1-8767-95b972e1fc4e",
   "metadata": {},
   "outputs": [
    {
     "ename": "NameError",
     "evalue": "name 'false' is not defined",
     "output_type": "error",
     "traceback": [
      "\u001b[0;31m---------------------------------------------------------------------------\u001b[0m",
      "\u001b[0;31mNameError\u001b[0m                                 Traceback (most recent call last)",
      "Cell \u001b[0;32mIn[13], line 1\u001b[0m\n\u001b[0;32m----> 1\u001b[0m e\u001b[38;5;241m=\u001b[39m\u001b[43mfalse\u001b[49m\n",
      "\u001b[0;31mNameError\u001b[0m: name 'false' is not defined"
     ]
    }
   ],
   "source": [
    "e=false"
   ]
  },
  {
   "cell_type": "code",
   "execution_count": 14,
   "id": "15bb7893-2aca-4b74-a88c-ea2d5b80c9e6",
   "metadata": {},
   "outputs": [],
   "source": [
    "e=False"
   ]
  },
  {
   "cell_type": "code",
   "execution_count": 15,
   "id": "d9928f88-5242-4ce1-ad00-96e2a327f9f2",
   "metadata": {},
   "outputs": [
    {
     "data": {
      "text/plain": [
       "bool"
      ]
     },
     "execution_count": 15,
     "metadata": {},
     "output_type": "execute_result"
    }
   ],
   "source": [
    "type(e)"
   ]
  },
  {
   "cell_type": "code",
   "execution_count": 16,
   "id": "3d8f18a9-89d8-4137-baaa-4e11553b4474",
   "metadata": {},
   "outputs": [
    {
     "data": {
      "text/plain": [
       "1"
      ]
     },
     "execution_count": 16,
     "metadata": {},
     "output_type": "execute_result"
    }
   ],
   "source": [
    "True-False"
   ]
  },
  {
   "cell_type": "markdown",
   "id": "b0450c5d-3325-470b-96bc-fdfa1fa4f744",
   "metadata": {},
   "source": [
    "True =1 "
   ]
  },
  {
   "cell_type": "markdown",
   "id": "4e6ae267-f863-4ec3-be17-867c2962c200",
   "metadata": {},
   "source": [
    "False=0"
   ]
  },
  {
   "cell_type": "code",
   "execution_count": 17,
   "id": "cf190977-ffd0-4003-a12a-a35d15c91f18",
   "metadata": {},
   "outputs": [
    {
     "data": {
      "text/plain": [
       "0"
      ]
     },
     "execution_count": 17,
     "metadata": {},
     "output_type": "execute_result"
    }
   ],
   "source": [
    "True*False"
   ]
  },
  {
   "cell_type": "code",
   "execution_count": 18,
   "id": "0d337ee7-d58c-4fac-8b92-3f7ba104a1d6",
   "metadata": {},
   "outputs": [
    {
     "ename": "ZeroDivisionError",
     "evalue": "division by zero",
     "output_type": "error",
     "traceback": [
      "\u001b[0;31m---------------------------------------------------------------------------\u001b[0m",
      "\u001b[0;31mZeroDivisionError\u001b[0m                         Traceback (most recent call last)",
      "Cell \u001b[0;32mIn[18], line 1\u001b[0m\n\u001b[0;32m----> 1\u001b[0m \u001b[38;5;28;43;01mTrue\u001b[39;49;00m\u001b[38;5;241;43m/\u001b[39;49m\u001b[38;5;28;43;01mFalse\u001b[39;49;00m\n",
      "\u001b[0;31mZeroDivisionError\u001b[0m: division by zero"
     ]
    }
   ],
   "source": [
    "True/False"
   ]
  },
  {
   "cell_type": "code",
   "execution_count": 19,
   "id": "10b91e75-4048-4dcb-b8bd-7e6482bdc7c8",
   "metadata": {},
   "outputs": [],
   "source": [
    "f=5+4j"
   ]
  },
  {
   "cell_type": "code",
   "execution_count": 20,
   "id": "c7832cdd-89a6-478b-911e-c89a19f381d6",
   "metadata": {},
   "outputs": [
    {
     "data": {
      "text/plain": [
       "complex"
      ]
     },
     "execution_count": 20,
     "metadata": {},
     "output_type": "execute_result"
    }
   ],
   "source": [
    "type(f)"
   ]
  },
  {
   "cell_type": "code",
   "execution_count": 22,
   "id": "f4801458-f0ac-42ac-bb21-8f2d1a8b318c",
   "metadata": {},
   "outputs": [
    {
     "ename": "SyntaxError",
     "evalue": "invalid decimal literal (418945026.py, line 1)",
     "output_type": "error",
     "traceback": [
      "\u001b[0;36m  Cell \u001b[0;32mIn[22], line 1\u001b[0;36m\u001b[0m\n\u001b[0;31m    e=6+7i\u001b[0m\n\u001b[0m        ^\u001b[0m\n\u001b[0;31mSyntaxError\u001b[0m\u001b[0;31m:\u001b[0m invalid decimal literal\n"
     ]
    }
   ],
   "source": [
    "e=6+7i"
   ]
  },
  {
   "cell_type": "markdown",
   "id": "3ee6d255-a602-4017-9346-d0aac9ee3ca9",
   "metadata": {},
   "source": [
    "While complex,should use only j"
   ]
  },
  {
   "cell_type": "code",
   "execution_count": 23,
   "id": "b4c4015a-fb65-4983-a552-1b987d6f0d9f",
   "metadata": {},
   "outputs": [],
   "source": [
    "g=6j"
   ]
  },
  {
   "cell_type": "code",
   "execution_count": 24,
   "id": "c7cf8f17-f336-4ec8-a1c4-be3ee6716b57",
   "metadata": {},
   "outputs": [
    {
     "data": {
      "text/plain": [
       "complex"
      ]
     },
     "execution_count": 24,
     "metadata": {},
     "output_type": "execute_result"
    }
   ],
   "source": [
    "type(g)"
   ]
  },
  {
   "cell_type": "code",
   "execution_count": 25,
   "id": "0d8f7a1d-038f-49f9-be86-d05743e12acc",
   "metadata": {},
   "outputs": [],
   "source": [
    "#it is used for comment,will not execute."
   ]
  },
  {
   "cell_type": "code",
   "execution_count": 26,
   "id": "087ce1a3-1e54-460a-a2d6-fa9a07d3d1c4",
   "metadata": {},
   "outputs": [
    {
     "data": {
      "text/plain": [
       "(6+7j)"
      ]
     },
     "execution_count": 26,
     "metadata": {},
     "output_type": "execute_result"
    }
   ],
   "source": [
    "e"
   ]
  },
  {
   "cell_type": "code",
   "execution_count": 27,
   "id": "70d37922-cabd-44f1-9496-e1133b0a08cb",
   "metadata": {},
   "outputs": [
    {
     "data": {
      "text/plain": [
       "6.0"
      ]
     },
     "execution_count": 27,
     "metadata": {},
     "output_type": "execute_result"
    }
   ],
   "source": [
    "e.real"
   ]
  },
  {
   "cell_type": "code",
   "execution_count": 28,
   "id": "0e3366df-0235-46c4-a5a6-53edd09d4d55",
   "metadata": {},
   "outputs": [
    {
     "data": {
      "text/plain": [
       "7.0"
      ]
     },
     "execution_count": 28,
     "metadata": {},
     "output_type": "execute_result"
    }
   ],
   "source": [
    "e.imag"
   ]
  },
  {
   "cell_type": "code",
   "execution_count": null,
   "id": "abeefa2c-0820-4b56-b612-b7b1e8f17af3",
   "metadata": {},
   "outputs": [],
   "source": []
  }
 ],
 "metadata": {
  "kernelspec": {
   "display_name": "Python 3 (ipykernel)",
   "language": "python",
   "name": "python3"
  },
  "language_info": {
   "codemirror_mode": {
    "name": "ipython",
    "version": 3
   },
   "file_extension": ".py",
   "mimetype": "text/x-python",
   "name": "python",
   "nbconvert_exporter": "python",
   "pygments_lexer": "ipython3",
   "version": "3.10.8"
  }
 },
 "nbformat": 4,
 "nbformat_minor": 5
}
