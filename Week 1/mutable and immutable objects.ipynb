{
 "cells": [
  {
   "cell_type": "code",
   "execution_count": 1,
   "id": "e15abed1-4a05-4823-99b5-dc0741169e30",
   "metadata": {},
   "outputs": [],
   "source": [
    "s=\"akshay\""
   ]
  },
  {
   "cell_type": "code",
   "execution_count": 2,
   "id": "131a23b2-c82a-4204-8d17-d66bfbe51742",
   "metadata": {},
   "outputs": [],
   "source": [
    "s1=\"kamath\""
   ]
  },
  {
   "cell_type": "code",
   "execution_count": 3,
   "id": "c2701b0a-666b-43e0-9fa0-4064eca8036f",
   "metadata": {},
   "outputs": [
    {
     "data": {
      "text/plain": [
       "str"
      ]
     },
     "execution_count": 3,
     "metadata": {},
     "output_type": "execute_result"
    }
   ],
   "source": [
    "type(s)"
   ]
  },
  {
   "cell_type": "code",
   "execution_count": 4,
   "id": "6c87fb96-3ea2-46aa-8bda-a07d7e92927c",
   "metadata": {},
   "outputs": [
    {
     "data": {
      "text/plain": [
       "str"
      ]
     },
     "execution_count": 4,
     "metadata": {},
     "output_type": "execute_result"
    }
   ],
   "source": [
    "type(s1)"
   ]
  },
  {
   "cell_type": "code",
   "execution_count": 5,
   "id": "4e90045c-ad54-46a7-9323-bd05159997f4",
   "metadata": {},
   "outputs": [],
   "source": [
    "l=[1,2,3,4,\"akshay\",3+6j,True,31.69]"
   ]
  },
  {
   "cell_type": "code",
   "execution_count": 6,
   "id": "a4f60df3-efaf-485d-8fd4-7bde3c4ba3ec",
   "metadata": {},
   "outputs": [
    {
     "data": {
      "text/plain": [
       "list"
      ]
     },
     "execution_count": 6,
     "metadata": {},
     "output_type": "execute_result"
    }
   ],
   "source": [
    "type(l)"
   ]
  },
  {
   "cell_type": "code",
   "execution_count": 7,
   "id": "bf9a2186-982d-43c3-88e6-3e723802abc9",
   "metadata": {},
   "outputs": [
    {
     "data": {
      "text/plain": [
       "'a'"
      ]
     },
     "execution_count": 7,
     "metadata": {},
     "output_type": "execute_result"
    }
   ],
   "source": [
    "s[0]"
   ]
  },
  {
   "cell_type": "code",
   "execution_count": 8,
   "id": "4e2632c6-4af1-4bdc-90df-5080baa81cc1",
   "metadata": {},
   "outputs": [
    {
     "data": {
      "text/plain": [
       "'s'"
      ]
     },
     "execution_count": 8,
     "metadata": {},
     "output_type": "execute_result"
    }
   ],
   "source": [
    "s[-4]"
   ]
  },
  {
   "cell_type": "code",
   "execution_count": 9,
   "id": "bceca4a4-8a6b-4b68-9700-85046948ac80",
   "metadata": {},
   "outputs": [
    {
     "data": {
      "text/plain": [
       "4"
      ]
     },
     "execution_count": 9,
     "metadata": {},
     "output_type": "execute_result"
    }
   ],
   "source": [
    "l[3]"
   ]
  },
  {
   "cell_type": "code",
   "execution_count": 10,
   "id": "3889dfdd-9b01-43d8-a587-0dac96d31125",
   "metadata": {},
   "outputs": [
    {
     "data": {
      "text/plain": [
       "(3+6j)"
      ]
     },
     "execution_count": 10,
     "metadata": {},
     "output_type": "execute_result"
    }
   ],
   "source": [
    "l[5]"
   ]
  },
  {
   "cell_type": "code",
   "execution_count": 11,
   "id": "a2d2e493-ba49-4109-ba82-a40c0572770c",
   "metadata": {},
   "outputs": [],
   "source": [
    "l[2]=100\n"
   ]
  },
  {
   "cell_type": "code",
   "execution_count": 12,
   "id": "b3124849-460c-458c-ac3d-39b69bf557c9",
   "metadata": {},
   "outputs": [
    {
     "data": {
      "text/plain": [
       "[1, 2, 100, 4, 'akshay', (3+6j), True, 31.69]"
      ]
     },
     "execution_count": 12,
     "metadata": {},
     "output_type": "execute_result"
    }
   ],
   "source": [
    "l"
   ]
  },
  {
   "cell_type": "markdown",
   "id": "e82d1c65-ed02-44fd-a548-26a672753541",
   "metadata": {},
   "source": [
    "Reassigned the number 3 to 100,using indexing.Reassignment is Possible in Lists"
   ]
  },
  {
   "cell_type": "code",
   "execution_count": 13,
   "id": "3927d476-5b06-4bd9-9dfc-699ec0535004",
   "metadata": {},
   "outputs": [
    {
     "ename": "TypeError",
     "evalue": "'str' object does not support item assignment",
     "output_type": "error",
     "traceback": [
      "\u001b[0;31m---------------------------------------------------------------------------\u001b[0m",
      "\u001b[0;31mTypeError\u001b[0m                                 Traceback (most recent call last)",
      "Cell \u001b[0;32mIn[13], line 1\u001b[0m\n\u001b[0;32m----> 1\u001b[0m \u001b[43ms\u001b[49m\u001b[43m[\u001b[49m\u001b[38;5;241;43m1\u001b[39;49m\u001b[43m]\u001b[49m\u001b[38;5;241m=\u001b[39m\u001b[38;5;124m'\u001b[39m\u001b[38;5;124mb\u001b[39m\u001b[38;5;124m'\u001b[39m\n",
      "\u001b[0;31mTypeError\u001b[0m: 'str' object does not support item assignment"
     ]
    }
   ],
   "source": [
    "s[1]='b'"
   ]
  },
  {
   "cell_type": "markdown",
   "id": "58ee17f3-8358-4918-9781-5384e4af2c55",
   "metadata": {},
   "source": [
    "Not possible in String\n"
   ]
  },
  {
   "cell_type": "markdown",
   "id": "ab80ccfb-f180-418f-9e40-96ac945ef51a",
   "metadata": {},
   "source": [
    "String is Immutable Object"
   ]
  },
  {
   "cell_type": "markdown",
   "id": "621a862b-696c-42a1-8bfb-a22ed7ed4e88",
   "metadata": {},
   "source": [
    "List is Mutable Object"
   ]
  },
  {
   "cell_type": "markdown",
   "id": "5dc40db4-6158-40a0-9ed2-12c18bb22d90",
   "metadata": {},
   "source": [
    "Concecpt of Mutability and Immutability is based on depending,if we can change the values based on index"
   ]
  },
  {
   "cell_type": "code",
   "execution_count": null,
   "id": "2c527ad9-a1d6-405e-95ba-144b46701fd0",
   "metadata": {},
   "outputs": [],
   "source": []
  }
 ],
 "metadata": {
  "kernelspec": {
   "display_name": "Python 3 (ipykernel)",
   "language": "python",
   "name": "python3"
  },
  "language_info": {
   "codemirror_mode": {
    "name": "ipython",
    "version": 3
   },
   "file_extension": ".py",
   "mimetype": "text/x-python",
   "name": "python",
   "nbconvert_exporter": "python",
   "pygments_lexer": "ipython3",
   "version": "3.10.8"
  }
 },
 "nbformat": 4,
 "nbformat_minor": 5
}
