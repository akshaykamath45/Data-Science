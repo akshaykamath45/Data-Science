{
 "cells": [
  {
   "cell_type": "code",
   "execution_count": 2,
   "id": "3922b97d-fd1f-4271-aef5-90926a4645dc",
   "metadata": {},
   "outputs": [],
   "source": [
    "a=10\n",
    "if(a>10):\n",
    "    print(\"yes,a is greater than 10\")"
   ]
  },
  {
   "cell_type": "code",
   "execution_count": 3,
   "id": "37a61f46-379f-446c-91c1-72f71897d8cd",
   "metadata": {},
   "outputs": [
    {
     "data": {
      "text/plain": [
       "False"
      ]
     },
     "execution_count": 3,
     "metadata": {},
     "output_type": "execute_result"
    }
   ],
   "source": [
    "a>10"
   ]
  },
  {
   "cell_type": "code",
   "execution_count": 4,
   "id": "87b51490-2c63-421a-bfc6-ef13ddf3feb7",
   "metadata": {},
   "outputs": [
    {
     "name": "stdout",
     "output_type": "stream",
     "text": [
      "yes,a is greater than 10\n"
     ]
    }
   ],
   "source": [
    "a=10\n",
    "if(a>=10):\n",
    "    print(\"yes,a is greater than 10\")"
   ]
  },
  {
   "cell_type": "code",
   "execution_count": 7,
   "id": "80d16f89-3c70-424b-a8aa-777f6f0cb029",
   "metadata": {},
   "outputs": [
    {
     "data": {
      "text/plain": [
       "True"
      ]
     },
     "execution_count": 7,
     "metadata": {},
     "output_type": "execute_result"
    }
   ],
   "source": [
    "a>=10"
   ]
  },
  {
   "cell_type": "code",
   "execution_count": 11,
   "id": "77e3f4d5-02ed-43c1-a7ad-2126353cdcb6",
   "metadata": {},
   "outputs": [
    {
     "name": "stdout",
     "output_type": "stream",
     "text": [
      "yes b is lesser than 40\n"
     ]
    }
   ],
   "source": [
    "b=20\n",
    "if(b>30):\n",
    "    print(\"b is greater than 30\")\n",
    "elif(b<40):\n",
    "    print(\"yes b is lesser than 40\")\n",
    "elif(b>100):\n",
    "    print(\"yes b is greater than 100\")\n",
    "else:\n",
    "    print(\"this is my default\")"
   ]
  },
  {
   "cell_type": "code",
   "execution_count": 9,
   "id": "5da8b347-95a3-4cce-8076-300138a94b00",
   "metadata": {},
   "outputs": [
    {
     "data": {
      "text/plain": [
       "False"
      ]
     },
     "execution_count": 9,
     "metadata": {},
     "output_type": "execute_result"
    }
   ],
   "source": [
    "b>30"
   ]
  },
  {
   "cell_type": "code",
   "execution_count": 12,
   "id": "49bc1a5f-2d3a-4af4-9f99-ab026f1aa886",
   "metadata": {},
   "outputs": [
    {
     "name": "stdin",
     "output_type": "stream",
     "text": [
      " 245\n"
     ]
    },
    {
     "data": {
      "text/plain": [
       "'245'"
      ]
     },
     "execution_count": 12,
     "metadata": {},
     "output_type": "execute_result"
    }
   ],
   "source": [
    "input()"
   ]
  },
  {
   "cell_type": "markdown",
   "id": "ed2389c6-172a-4f46-b3c5-d4e6afc17420",
   "metadata": {},
   "source": [
    "By default the input is taken in string,so we will do type casting to change into int"
   ]
  },
  {
   "cell_type": "code",
   "execution_count": 14,
   "id": "beb250b2-7349-47f2-aa61-9a7b64891cf2",
   "metadata": {},
   "outputs": [
    {
     "name": "stdin",
     "output_type": "stream",
     "text": [
      " 2\n"
     ]
    },
    {
     "name": "stdout",
     "output_type": "stream",
     "text": [
      "yes b is lesser than 40\n"
     ]
    }
   ],
   "source": [
    "b=int(input())\n",
    "if(b>30):\n",
    "    print(\"b is greater than 30\")\n",
    "elif(b<40):\n",
    "    print(\"yes b is lesser than 40\")\n",
    "elif(b>100):\n",
    "    print(\"yes b is greater than 100\")\n",
    "else:\n",
    "    print(\"this is my default\")"
   ]
  },
  {
   "cell_type": "code",
   "execution_count": 15,
   "id": "64c872cb-68c5-4193-9de8-8e524bc3c2f6",
   "metadata": {},
   "outputs": [],
   "source": [
    "n=4"
   ]
  },
  {
   "cell_type": "code",
   "execution_count": 16,
   "id": "b56e3144-3cf8-44c5-8161-77696fe78d31",
   "metadata": {},
   "outputs": [],
   "source": [
    "i=1"
   ]
  },
  {
   "cell_type": "code",
   "execution_count": 17,
   "id": "c900399e-4934-4894-bd39-cc981318d6e0",
   "metadata": {},
   "outputs": [
    {
     "data": {
      "text/plain": [
       "4"
      ]
     },
     "execution_count": 17,
     "metadata": {},
     "output_type": "execute_result"
    }
   ],
   "source": [
    "n"
   ]
  },
  {
   "cell_type": "code",
   "execution_count": 30,
   "id": "069632f4-6488-4d67-bd3e-be89d5130b0c",
   "metadata": {},
   "outputs": [],
   "source": [
    "while(i <n):\n",
    "    print(i)\n",
    "    i+=1"
   ]
  },
  {
   "cell_type": "code",
   "execution_count": 24,
   "id": "356c3e84-0c6d-4450-856e-92e35213fead",
   "metadata": {},
   "outputs": [
    {
     "data": {
      "text/plain": [
       "4"
      ]
     },
     "execution_count": 24,
     "metadata": {},
     "output_type": "execute_result"
    }
   ],
   "source": [
    "i"
   ]
  },
  {
   "cell_type": "code",
   "execution_count": 25,
   "id": "fad48ce6-675c-46c4-80a1-71f319dc7a40",
   "metadata": {},
   "outputs": [
    {
     "data": {
      "text/plain": [
       "4"
      ]
     },
     "execution_count": 25,
     "metadata": {},
     "output_type": "execute_result"
    }
   ],
   "source": [
    "n"
   ]
  },
  {
   "cell_type": "code",
   "execution_count": 33,
   "id": "64a81d34-6ae5-48d8-b7ea-d1c937e17497",
   "metadata": {},
   "outputs": [
    {
     "name": "stdout",
     "output_type": "stream",
     "text": [
      "1\n",
      "2\n",
      "3\n",
      "This is my else\n"
     ]
    }
   ],
   "source": [
    "i=1\n",
    "n=4\n",
    "while i<n:\n",
    "    print(i)\n",
    "    i+=1\n",
    "else:\n",
    "    print(\"This is my else\")"
   ]
  },
  {
   "cell_type": "code",
   "execution_count": 34,
   "id": "35221850-a208-455f-82be-492b05e6782e",
   "metadata": {},
   "outputs": [
    {
     "name": "stdout",
     "output_type": "stream",
     "text": [
      "1\n",
      "2\n"
     ]
    }
   ],
   "source": [
    "i=1\n",
    "n=4\n",
    "while i<n:\n",
    "    print(i)\n",
    "    i+=1\n",
    "    if(i==3):\n",
    "        break\n",
    "else:\n",
    "    print(\"This is my else\")"
   ]
  },
  {
   "cell_type": "code",
   "execution_count": 37,
   "id": "52915507-b695-4b13-b2b3-0e26a2df1004",
   "metadata": {},
   "outputs": [
    {
     "name": "stdout",
     "output_type": "stream",
     "text": [
      "a\n",
      "k\n",
      "s\n",
      "h\n",
      "a\n",
      "y\n"
     ]
    }
   ],
   "source": [
    "s=\"akshay\"\n",
    "for i in s:\n",
    "    print(i)"
   ]
  },
  {
   "cell_type": "code",
   "execution_count": 38,
   "id": "676628e4-b9d5-4549-b2ff-c53486a5b744",
   "metadata": {},
   "outputs": [],
   "source": [
    "l=[1,2,3,4,'akshay',True,34.56]"
   ]
  },
  {
   "cell_type": "code",
   "execution_count": 39,
   "id": "e0e818d2-4cd7-4cc0-a4f8-8a9b54407fe5",
   "metadata": {},
   "outputs": [
    {
     "name": "stdout",
     "output_type": "stream",
     "text": [
      "1\n",
      "2\n",
      "3\n",
      "4\n",
      "akshay\n",
      "True\n",
      "34.56\n"
     ]
    }
   ],
   "source": [
    "for i in l:\n",
    "    print(i)"
   ]
  },
  {
   "cell_type": "code",
   "execution_count": 40,
   "id": "b022c3b0-e2a9-4796-98ff-cde2d651474c",
   "metadata": {},
   "outputs": [
    {
     "name": "stdout",
     "output_type": "stream",
     "text": [
      "<class 'int'>\n",
      "<class 'int'>\n",
      "<class 'int'>\n",
      "<class 'int'>\n",
      "<class 'str'>\n",
      "<class 'bool'>\n",
      "<class 'float'>\n"
     ]
    }
   ],
   "source": [
    "for i in l:\n",
    "    print(type(i))"
   ]
  },
  {
   "cell_type": "code",
   "execution_count": 43,
   "id": "71d529f4-20dc-464e-833b-2e002015967d",
   "metadata": {},
   "outputs": [
    {
     "name": "stdout",
     "output_type": "stream",
     "text": [
      "<class 'int'>\n",
      "<class 'int'>\n",
      "<class 'int'>\n",
      "<class 'int'>\n",
      "<class 'str'>\n",
      "<class 'bool'>\n",
      "<class 'float'>\n",
      "this will be executed once for loop will complete its execution completely\n"
     ]
    }
   ],
   "source": [
    "for i in l:\n",
    "    print(type(i))\n",
    "else:\n",
    "    print(\"this will be executed once for loop will complete its execution completely\")"
   ]
  },
  {
   "cell_type": "code",
   "execution_count": 45,
   "id": "b1a38090-dbbb-43c9-aa20-c3c1cc88e8c0",
   "metadata": {},
   "outputs": [
    {
     "name": "stdout",
     "output_type": "stream",
     "text": [
      "<class 'int'>\n",
      "<class 'int'>\n",
      "<class 'int'>\n",
      "<class 'int'>\n",
      "<class 'str'>\n",
      "<class 'bool'>\n",
      "<class 'float'>\n",
      "this will be executed once for loop will complete its execution completely\n"
     ]
    }
   ],
   "source": [
    "for i in l:\n",
    "    print(type(i))\n",
    "    if(i=='akshay'):\n",
    "        continue\n",
    "else:\n",
    "    print(\"this will be executed once for loop will complete its execution completely\")"
   ]
  },
  {
   "cell_type": "code",
   "execution_count": 47,
   "id": "269ecb11-a581-4f14-98ac-829d7f07dd26",
   "metadata": {},
   "outputs": [
    {
     "name": "stdout",
     "output_type": "stream",
     "text": [
      "<class 'int'>\n",
      "1\n",
      "<class 'int'>\n",
      "2\n",
      "<class 'int'>\n",
      "3\n",
      "<class 'int'>\n",
      "4\n",
      "<class 'str'>\n",
      "<class 'bool'>\n",
      "True\n",
      "<class 'float'>\n",
      "34.56\n",
      "this will be executed once for loop will complete its execution completely\n"
     ]
    }
   ],
   "source": [
    "for i in l:\n",
    "    print((type(i)))\n",
    "    if(i=='akshay'):\n",
    "        continue\n",
    "    print(i)\n",
    "else:\n",
    "    print(\"this will be executed once for loop will complete its execution completely\")"
   ]
  },
  {
   "cell_type": "code",
   "execution_count": 48,
   "id": "fa9659ea-6c1e-4fde-beab-3e1c667b33d6",
   "metadata": {},
   "outputs": [
    {
     "data": {
      "text/plain": [
       "range(0, 10)"
      ]
     },
     "execution_count": 48,
     "metadata": {},
     "output_type": "execute_result"
    }
   ],
   "source": [
    "range(10)"
   ]
  },
  {
   "cell_type": "code",
   "execution_count": 49,
   "id": "2ef2cd50-e403-44a8-aff4-7ca762e2d859",
   "metadata": {},
   "outputs": [
    {
     "data": {
      "text/plain": [
       "[0, 1, 2, 3, 4, 5, 6, 7, 8, 9]"
      ]
     },
     "execution_count": 49,
     "metadata": {},
     "output_type": "execute_result"
    }
   ],
   "source": [
    "list(range(10))"
   ]
  },
  {
   "cell_type": "code",
   "execution_count": 50,
   "id": "e7cd0563-2b84-4015-97d7-db1d48863d41",
   "metadata": {},
   "outputs": [
    {
     "name": "stdout",
     "output_type": "stream",
     "text": [
      "0\n",
      "1\n",
      "2\n",
      "3\n",
      "4\n",
      "5\n",
      "6\n",
      "7\n",
      "8\n",
      "9\n"
     ]
    }
   ],
   "source": [
    "for i in range(10):\n",
    "    print(i)"
   ]
  },
  {
   "cell_type": "code",
   "execution_count": null,
   "id": "d931bab3-8965-433f-9033-4283b418d170",
   "metadata": {},
   "outputs": [],
   "source": []
  }
 ],
 "metadata": {
  "kernelspec": {
   "display_name": "Python 3 (ipykernel)",
   "language": "python",
   "name": "python3"
  },
  "language_info": {
   "codemirror_mode": {
    "name": "ipython",
    "version": 3
   },
   "file_extension": ".py",
   "mimetype": "text/x-python",
   "name": "python",
   "nbconvert_exporter": "python",
   "pygments_lexer": "ipython3",
   "version": "3.10.8"
  }
 },
 "nbformat": 4,
 "nbformat_minor": 5
}
