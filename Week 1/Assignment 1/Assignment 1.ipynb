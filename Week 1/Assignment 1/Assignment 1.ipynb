{
 "cells": [
  {
   "cell_type": "markdown",
   "id": "70d9a9f6-a17f-4437-81c4-1659d1f52af3",
   "metadata": {},
   "source": [
    "Q1"
   ]
  },
  {
   "cell_type": "code",
   "execution_count": 1,
   "id": "5c9a3bed-f7ec-4b0f-b88d-73fb96cecd6d",
   "metadata": {},
   "outputs": [],
   "source": [
    "var=['akshay',[1,2,3,'web dev'],45.64,(\"rohit\",\"virat\")]"
   ]
  },
  {
   "cell_type": "code",
   "execution_count": 2,
   "id": "cfb7e20c-0cb3-45bb-ba8c-5a0e2c46e526",
   "metadata": {},
   "outputs": [
    {
     "data": {
      "text/plain": [
       "['akshay', [1, 2, 3, 'web dev'], 45.64, ('rohit', 'virat')]"
      ]
     },
     "execution_count": 2,
     "metadata": {},
     "output_type": "execute_result"
    }
   ],
   "source": [
    "var"
   ]
  },
  {
   "cell_type": "code",
   "execution_count": 3,
   "id": "9b65401b-af3c-4e7a-966d-cea1455f9266",
   "metadata": {},
   "outputs": [
    {
     "name": "stdout",
     "output_type": "stream",
     "text": [
      "akshay\n",
      "[1, 2, 3, 'web dev']\n",
      "45.64\n",
      "('rohit', 'virat')\n"
     ]
    }
   ],
   "source": [
    "for i in var:\n",
    "    print(i)"
   ]
  },
  {
   "cell_type": "markdown",
   "id": "c5a3c24b-aafb-48a3-85c5-9a16f51a9733",
   "metadata": {},
   "source": [
    "Q2"
   ]
  },
  {
   "cell_type": "raw",
   "id": "37d6005f-04c4-40bc-aba3-570f8aaa260e",
   "metadata": {},
   "source": [
    "The data type of:\n",
    "  var1 is str (string)\n",
    "  var2 is str (string)\n",
    "  var3 is list\n",
    "  var4 is int (integer)\n",
    "    "
   ]
  },
  {
   "cell_type": "markdown",
   "id": "d742fb45-3930-4859-bd9a-d0b00ab15eed",
   "metadata": {},
   "source": [
    "Just for verification"
   ]
  },
  {
   "cell_type": "code",
   "execution_count": 4,
   "id": "a555e5d5-d6fa-42b0-b681-8ac4fee2da82",
   "metadata": {},
   "outputs": [
    {
     "name": "stdout",
     "output_type": "stream",
     "text": [
      "<class 'str'>\n",
      "<class 'str'>\n",
      "<class 'list'>\n",
      "<class 'int'>\n"
     ]
    }
   ],
   "source": [
    "var1 = ' '\n",
    "var2 = '[ DS , ML , Python]'\n",
    "var3 = [ 'DS' , 'ML' , 'Python' ]\n",
    "var4 = 1\n",
    "\n",
    "print(type(var1))\n",
    "print(type(var2))\n",
    "print(type(var3))\n",
    "print(type(var4))"
   ]
  },
  {
   "cell_type": "markdown",
   "id": "02ceff64-9821-4027-81f2-dd2bbdb49752",
   "metadata": {},
   "source": [
    "Q3"
   ]
  },
  {
   "cell_type": "code",
   "execution_count": 5,
   "id": "cc42b172-150f-475d-a77f-a792f42b81d0",
   "metadata": {},
   "outputs": [
    {
     "data": {
      "text/plain": [
       "1.75"
      ]
     },
     "execution_count": 5,
     "metadata": {},
     "output_type": "execute_result"
    }
   ],
   "source": [
    "#(i) / - used for basic division\n",
    "7/4"
   ]
  },
  {
   "cell_type": "code",
   "execution_count": 6,
   "id": "fa9dbaea-b5e1-40da-80f0-274524bf1019",
   "metadata": {},
   "outputs": [
    {
     "data": {
      "text/plain": [
       "1"
      ]
     },
     "execution_count": 6,
     "metadata": {},
     "output_type": "execute_result"
    }
   ],
   "source": [
    "#(ii) % - modulus operator used for finding the remainder\n",
    "8%7"
   ]
  },
  {
   "cell_type": "code",
   "execution_count": 7,
   "id": "29ac1c85-7637-4254-badb-e5461ff189dc",
   "metadata": {},
   "outputs": [
    {
     "data": {
      "text/plain": [
       "4"
      ]
     },
     "execution_count": 7,
     "metadata": {},
     "output_type": "execute_result"
    }
   ],
   "source": [
    "#(iii) // - used for floor division,while dividing a number,it will give the nearest/lower integer value\n",
    "19//4"
   ]
  },
  {
   "cell_type": "code",
   "execution_count": 8,
   "id": "7ea10c68-236f-4dcb-bc68-61f9fc6af693",
   "metadata": {},
   "outputs": [
    {
     "data": {
      "text/plain": [
       "81"
      ]
     },
     "execution_count": 8,
     "metadata": {},
     "output_type": "execute_result"
    }
   ],
   "source": [
    "#(iv) // -used for finding power\n",
    "3**4"
   ]
  },
  {
   "cell_type": "markdown",
   "id": "ca235a0f-2004-4fe9-bf13-511c71b8f149",
   "metadata": {},
   "source": [
    "Q4"
   ]
  },
  {
   "cell_type": "code",
   "execution_count": 9,
   "id": "30364efd-4e3b-49fb-b2e1-fccdb396daeb",
   "metadata": {},
   "outputs": [
    {
     "name": "stdout",
     "output_type": "stream",
     "text": [
      "1\n",
      "<class 'int'>\n",
      "2\n",
      "<class 'int'>\n",
      "akshay\n",
      "<class 'str'>\n",
      "True\n",
      "<class 'bool'>\n",
      "21.65\n",
      "<class 'float'>\n",
      "aditya\n",
      "<class 'str'>\n",
      "naman\n",
      "<class 'str'>\n",
      "False\n",
      "<class 'bool'>\n",
      "67.34\n",
      "<class 'float'>\n",
      "9\n",
      "<class 'int'>\n"
     ]
    }
   ],
   "source": [
    "list=[1,2,\"akshay\",True,21.65,\"aditya\",\"naman\",False,67.34,9]\n",
    "for i in list:\n",
    "    print(i)\n",
    "    print(type(i))"
   ]
  },
  {
   "cell_type": "markdown",
   "id": "cf9adbd0-4b5c-4185-a836-3926aaac01ac",
   "metadata": {},
   "source": [
    "Q5"
   ]
  },
  {
   "cell_type": "code",
   "execution_count": 10,
   "id": "976b1600-33cc-4adf-bfa0-ce6bc04440d8",
   "metadata": {},
   "outputs": [
    {
     "name": "stdin",
     "output_type": "stream",
     "text": [
      " 4\n",
      " 2\n"
     ]
    },
    {
     "name": "stdout",
     "output_type": "stream",
     "text": [
      "divisible\n",
      "2\n"
     ]
    }
   ],
   "source": [
    "a=int(input())\n",
    "b=int(input())\n",
    "count=0\n",
    "while(a>b):\n",
    "    if(a%b==0):\n",
    "        print(\"divisible\")\n",
    "        while(a%b==0):\n",
    "            a=a/b\n",
    "            count+=1\n",
    "        break\n",
    "    elif(a%b!=0):\n",
    "        print(\"not divisible\")\n",
    "        break\n",
    "\t\n",
    "   \t\n",
    "else:\n",
    "    print(\"Cannot execute\")\n",
    "print(count)"
   ]
  },
  {
   "cell_type": "markdown",
   "id": "cffe240c-bac2-4826-b987-7514b285cf42",
   "metadata": {},
   "source": [
    "Q6"
   ]
  },
  {
   "cell_type": "code",
   "execution_count": 11,
   "id": "eaff1c0a-baf8-4947-a244-16d1eab63ed1",
   "metadata": {},
   "outputs": [],
   "source": [
    "list=range(25)"
   ]
  },
  {
   "cell_type": "code",
   "execution_count": 12,
   "id": "02ab6b16-76ae-40e7-b717-fe42f61e6677",
   "metadata": {},
   "outputs": [
    {
     "data": {
      "text/plain": [
       "range(0, 25)"
      ]
     },
     "execution_count": 12,
     "metadata": {},
     "output_type": "execute_result"
    }
   ],
   "source": [
    "list"
   ]
  },
  {
   "cell_type": "code",
   "execution_count": 13,
   "id": "f1643e36-ec78-42cf-963d-383d8c4211ff",
   "metadata": {},
   "outputs": [
    {
     "name": "stdout",
     "output_type": "stream",
     "text": [
      "0\n",
      "3\n",
      "6\n",
      "9\n",
      "12\n",
      "15\n",
      "18\n",
      "21\n",
      "24\n"
     ]
    }
   ],
   "source": [
    "for i in list:\n",
    "    if(i%3==0):\n",
    "        print(i)"
   ]
  },
  {
   "cell_type": "markdown",
   "id": "9bce057a-6db8-4900-9b39-2ac51fda1969",
   "metadata": {},
   "source": [
    "Q7\n",
    "\n",
    "Mutable Data Types - These are data types to which we can reassign the value based on indexes.\n",
    "Example : List\n",
    "\n",
    "Immutable Data Types - These are data type to which we can not reassign a new value to the current index postion.\n",
    "Example : String\n"
   ]
  },
  {
   "cell_type": "code",
   "execution_count": 14,
   "id": "72df3be8-aced-4575-9596-96eb42cb0a73",
   "metadata": {},
   "outputs": [],
   "source": [
    "list=[1,2,'akshay',12.36,True,'rushabh']\n",
    "str='akshay'"
   ]
  },
  {
   "cell_type": "code",
   "execution_count": 15,
   "id": "fb517301-27f4-4f16-84ef-971b826352c8",
   "metadata": {},
   "outputs": [
    {
     "ename": "TypeError",
     "evalue": "'str' object does not support item assignment",
     "output_type": "error",
     "traceback": [
      "\u001b[0;31m---------------------------------------------------------------------------\u001b[0m",
      "\u001b[0;31mTypeError\u001b[0m                                 Traceback (most recent call last)",
      "Cell \u001b[0;32mIn[15], line 2\u001b[0m\n\u001b[1;32m      1\u001b[0m \u001b[38;5;28mlist\u001b[39m[\u001b[38;5;241m2\u001b[39m]\u001b[38;5;241m=\u001b[39m\u001b[38;5;124m'\u001b[39m\u001b[38;5;124mnaman\u001b[39m\u001b[38;5;124m'\u001b[39m\n\u001b[0;32m----> 2\u001b[0m \u001b[38;5;28;43mstr\u001b[39;49m\u001b[43m[\u001b[49m\u001b[38;5;241;43m1\u001b[39;49m\u001b[43m]\u001b[49m\u001b[38;5;241m=\u001b[39m\u001b[38;5;124m'\u001b[39m\u001b[38;5;124ma\u001b[39m\u001b[38;5;124m'\u001b[39m\n",
      "\u001b[0;31mTypeError\u001b[0m: 'str' object does not support item assignment"
     ]
    }
   ],
   "source": [
    "list[2]='naman'\n",
    "str[1]='a'"
   ]
  },
  {
   "cell_type": "code",
   "execution_count": 16,
   "id": "56ad49ce-843c-44d9-ab73-4c94bc57ced6",
   "metadata": {},
   "outputs": [
    {
     "data": {
      "text/plain": [
       "[1, 2, 'naman', 12.36, True, 'rushabh']"
      ]
     },
     "execution_count": 16,
     "metadata": {},
     "output_type": "execute_result"
    }
   ],
   "source": [
    "list"
   ]
  },
  {
   "cell_type": "code",
   "execution_count": 17,
   "id": "a7ff9ff8-a6f1-42c6-ae40-92788ad6d2ee",
   "metadata": {},
   "outputs": [
    {
     "data": {
      "text/plain": [
       "'akshay'"
      ]
     },
     "execution_count": 17,
     "metadata": {},
     "output_type": "execute_result"
    }
   ],
   "source": [
    "str"
   ]
  },
  {
   "cell_type": "markdown",
   "id": "5a9791f9-63b6-4b1b-858c-46dbbe69478f",
   "metadata": {},
   "source": [
    "Here we can see for str,it does not support reassignment,thus giving type error"
   ]
  },
  {
   "cell_type": "code",
   "execution_count": null,
   "id": "3939693f-9da3-4cdd-91c1-46bad7772dc2",
   "metadata": {},
   "outputs": [],
   "source": []
  }
 ],
 "metadata": {
  "kernelspec": {
   "display_name": "Python 3 (ipykernel)",
   "language": "python",
   "name": "python3"
  },
  "language_info": {
   "codemirror_mode": {
    "name": "ipython",
    "version": 3
   },
   "file_extension": ".py",
   "mimetype": "text/x-python",
   "name": "python",
   "nbconvert_exporter": "python",
   "pygments_lexer": "ipython3",
   "version": "3.10.8"
  }
 },
 "nbformat": 4,
 "nbformat_minor": 5
}
