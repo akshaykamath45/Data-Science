{
 "cells": [
  {
   "cell_type": "code",
   "execution_count": 3,
   "id": "b64a29a8-60f7-4684-ab70-7ef5865f965c",
   "metadata": {},
   "outputs": [],
   "source": [
    "class college:\n",
    "    \n",
    "    def __init__(self,course_fees,course_name):\n",
    "        self.__course_fees=course_fees\n",
    "        self.course_name=course_name"
   ]
  },
  {
   "cell_type": "code",
   "execution_count": 4,
   "id": "6d518ff5-bfdb-4c09-a3b3-04f3d1b6ed7b",
   "metadata": {},
   "outputs": [],
   "source": [
    "akshay=college(10000,'computer')"
   ]
  },
  {
   "cell_type": "code",
   "execution_count": 5,
   "id": "cfd3fa48-5ce8-4631-a986-6054a6c9b436",
   "metadata": {},
   "outputs": [
    {
     "ename": "AttributeError",
     "evalue": "'college' object has no attribute 'course_fees'",
     "output_type": "error",
     "traceback": [
      "\u001b[0;31m---------------------------------------------------------------------------\u001b[0m",
      "\u001b[0;31mAttributeError\u001b[0m                            Traceback (most recent call last)",
      "Cell \u001b[0;32mIn[5], line 1\u001b[0m\n\u001b[0;32m----> 1\u001b[0m \u001b[43makshay\u001b[49m\u001b[38;5;241;43m.\u001b[39;49m\u001b[43mcourse_fees\u001b[49m\n",
      "\u001b[0;31mAttributeError\u001b[0m: 'college' object has no attribute 'course_fees'"
     ]
    }
   ],
   "source": [
    "akshay.course_fees"
   ]
  },
  {
   "cell_type": "code",
   "execution_count": 6,
   "id": "dfe7905d-07cb-458b-bc7b-ad32eb292c82",
   "metadata": {},
   "outputs": [
    {
     "data": {
      "text/plain": [
       "10000"
      ]
     },
     "execution_count": 6,
     "metadata": {},
     "output_type": "execute_result"
    }
   ],
   "source": [
    "akshay._college__course_fees"
   ]
  },
  {
   "cell_type": "code",
   "execution_count": 7,
   "id": "dc7e32f5-b551-462c-8e2f-dd39b7f6363d",
   "metadata": {},
   "outputs": [],
   "source": [
    "#with the help of propert decorators we can manage access of data to the users"
   ]
  },
  {
   "cell_type": "code",
   "execution_count": 32,
   "id": "62047220-2a21-408c-982b-e6eeb72bb39d",
   "metadata": {},
   "outputs": [],
   "source": [
    "class college1:\n",
    "    \n",
    "    def __init__(self,course_fees,course_name):\n",
    "        self.__course_fees=course_fees\n",
    "        self.course_name=course_name\n",
    "    \n",
    "    @property#keyowrd: property decorator,accessor\n",
    "    def course_fees_access(self):\n",
    "        return self.__course_fees\n",
    "    \n",
    "    @course_fees_access.setter#setter\n",
    "    def course_fees_set(self,fees):\n",
    "        if fees<50000:\n",
    "            pass\n",
    "        else:\n",
    "            self.__course_fees=fees\n",
    "    \n",
    "    @course_fees_access.deleter#deleter\n",
    "    def delete_course_fees(self):\n",
    "        del self.__course_fees"
   ]
  },
  {
   "cell_type": "code",
   "execution_count": 33,
   "id": "3e1e77c0-dd13-4b29-97f9-37761ebf2915",
   "metadata": {},
   "outputs": [],
   "source": [
    "rohit=college1(50000,'IT')"
   ]
  },
  {
   "cell_type": "code",
   "execution_count": 34,
   "id": "1f087152-c36d-4444-8285-b2a63208264d",
   "metadata": {},
   "outputs": [
    {
     "data": {
      "text/plain": [
       "50000"
      ]
     },
     "execution_count": 34,
     "metadata": {},
     "output_type": "execute_result"
    }
   ],
   "source": [
    "rohit.course_fees_access"
   ]
  },
  {
   "cell_type": "code",
   "execution_count": 35,
   "id": "f74c4812-1318-446c-acef-b0fa53cc76a6",
   "metadata": {},
   "outputs": [],
   "source": [
    "rohit.course_fees_set=60000#we are using = instead of passing in the function,while using setter"
   ]
  },
  {
   "cell_type": "code",
   "execution_count": 36,
   "id": "0eb607c3-33a9-4648-bb3a-cb38fa11d0ea",
   "metadata": {},
   "outputs": [
    {
     "data": {
      "text/plain": [
       "60000"
      ]
     },
     "execution_count": 36,
     "metadata": {},
     "output_type": "execute_result"
    }
   ],
   "source": [
    "rohit.course_fees_access"
   ]
  },
  {
   "cell_type": "code",
   "execution_count": 37,
   "id": "636387a5-fe14-4ad2-81d5-7c5d53530425",
   "metadata": {},
   "outputs": [],
   "source": [
    "rohit.course_fees_set=1000"
   ]
  },
  {
   "cell_type": "code",
   "execution_count": 38,
   "id": "ff1b5185-af94-4c7f-bfb2-a2730e5d859d",
   "metadata": {},
   "outputs": [
    {
     "data": {
      "text/plain": [
       "60000"
      ]
     },
     "execution_count": 38,
     "metadata": {},
     "output_type": "execute_result"
    }
   ],
   "source": [
    "rohit.course_fees_access"
   ]
  },
  {
   "cell_type": "code",
   "execution_count": 39,
   "id": "2de4f688-21a0-4ff1-8fbc-47c9b137360e",
   "metadata": {},
   "outputs": [],
   "source": [
    "del rohit.delete_course_fees #successfully deleted"
   ]
  },
  {
   "cell_type": "code",
   "execution_count": 40,
   "id": "c0382e06-168e-4315-9553-765377496cfe",
   "metadata": {},
   "outputs": [
    {
     "ename": "AttributeError",
     "evalue": "'college1' object has no attribute '_college1__course_fees'",
     "output_type": "error",
     "traceback": [
      "\u001b[0;31m---------------------------------------------------------------------------\u001b[0m",
      "\u001b[0;31mAttributeError\u001b[0m                            Traceback (most recent call last)",
      "Cell \u001b[0;32mIn[40], line 1\u001b[0m\n\u001b[0;32m----> 1\u001b[0m \u001b[43mrohit\u001b[49m\u001b[38;5;241;43m.\u001b[39;49m\u001b[43mcourse_fees_access\u001b[49m\n",
      "Cell \u001b[0;32mIn[32], line 9\u001b[0m, in \u001b[0;36mcollege1.course_fees_access\u001b[0;34m(self)\u001b[0m\n\u001b[1;32m      7\u001b[0m \u001b[38;5;129m@property\u001b[39m\u001b[38;5;66;03m#keyowrd: property decorator,accessor\u001b[39;00m\n\u001b[1;32m      8\u001b[0m \u001b[38;5;28;01mdef\u001b[39;00m \u001b[38;5;21mcourse_fees_access\u001b[39m(\u001b[38;5;28mself\u001b[39m):\n\u001b[0;32m----> 9\u001b[0m     \u001b[38;5;28;01mreturn\u001b[39;00m \u001b[38;5;28;43mself\u001b[39;49m\u001b[38;5;241;43m.\u001b[39;49m\u001b[43m__course_fees\u001b[49m\n",
      "\u001b[0;31mAttributeError\u001b[0m: 'college1' object has no attribute '_college1__course_fees'"
     ]
    }
   ],
   "source": [
    "rohit.course_fees_access"
   ]
  }
 ],
 "metadata": {
  "kernelspec": {
   "display_name": "Python 3 (ipykernel)",
   "language": "python",
   "name": "python3"
  },
  "language_info": {
   "codemirror_mode": {
    "name": "ipython",
    "version": 3
   },
   "file_extension": ".py",
   "mimetype": "text/x-python",
   "name": "python",
   "nbconvert_exporter": "python",
   "pygments_lexer": "ipython3",
   "version": "3.10.8"
  }
 },
 "nbformat": 4,
 "nbformat_minor": 5
}
