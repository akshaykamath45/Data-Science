{
 "cells": [
  {
   "cell_type": "code",
   "execution_count": 3,
   "id": "252fc186-4da0-49bb-9fee-146bbc30d1b2",
   "metadata": {},
   "outputs": [],
   "source": [
    "def test():\n",
    "    print(\"this is the start of function\")\n",
    "    print(\"this is my fun to start\")\n",
    "    print(\"this is the end of function\")"
   ]
  },
  {
   "cell_type": "code",
   "execution_count": 4,
   "id": "996d5111-2c53-4e53-ae9a-27dfee846d61",
   "metadata": {},
   "outputs": [
    {
     "name": "stdout",
     "output_type": "stream",
     "text": [
      "this is the start of function\n",
      "this is my fun to start\n",
      "this is the end of function\n"
     ]
    }
   ],
   "source": [
    "test()"
   ]
  },
  {
   "cell_type": "code",
   "execution_count": 14,
   "id": "45b789d1-1c64-4f45-9032-7c38d96c64eb",
   "metadata": {},
   "outputs": [],
   "source": [
    "def decorate(func):\n",
    "    def inner_dec():\n",
    "        print(\"this is the start of function\")\n",
    "        func()\n",
    "        print(\"this is the end of function\")\n",
    "    return inner_dec"
   ]
  },
  {
   "cell_type": "code",
   "execution_count": 15,
   "id": "c4909a1e-9419-41c0-917e-0f4f29ad8d55",
   "metadata": {},
   "outputs": [],
   "source": [
    "@decorate\n",
    "def test_func():\n",
    "    print(\"this is the test function,which will execute\")"
   ]
  },
  {
   "cell_type": "code",
   "execution_count": 16,
   "id": "6045d3b7-d59c-448e-99c0-20841cbd9b1d",
   "metadata": {},
   "outputs": [
    {
     "data": {
      "text/plain": [
       "<function __main__.decorate.<locals>.inner_dec()>"
      ]
     },
     "execution_count": 16,
     "metadata": {},
     "output_type": "execute_result"
    }
   ],
   "source": [
    "decorate(test_func)"
   ]
  },
  {
   "cell_type": "code",
   "execution_count": 17,
   "id": "06a6318f-b2cd-49ae-9265-3840580beff1",
   "metadata": {},
   "outputs": [
    {
     "name": "stdout",
     "output_type": "stream",
     "text": [
      "this is the start of function\n",
      "this is the test function,which will execute\n",
      "this is the end of function\n"
     ]
    }
   ],
   "source": [
    "test_func()"
   ]
  },
  {
   "cell_type": "code",
   "execution_count": 18,
   "id": "9891c4b6-a2a2-4cdc-aa98-d8aa875b0322",
   "metadata": {},
   "outputs": [],
   "source": [
    "import time\n",
    "def timer_test(func):\n",
    "    def inner_timer_test():\n",
    "        start=time.time()\n",
    "        func()\n",
    "        end=time.time()\n",
    "        print(end-start)\n",
    "    return inner_timer_test"
   ]
  },
  {
   "cell_type": "code",
   "execution_count": 21,
   "id": "3fbe0df4-ab67-4007-abb6-8420088d5f5d",
   "metadata": {},
   "outputs": [],
   "source": [
    "@timer_test\n",
    "def func():\n",
    "    print(12+12)"
   ]
  },
  {
   "cell_type": "code",
   "execution_count": 22,
   "id": "b237e216-d22d-48df-b19e-0463c6edfa47",
   "metadata": {},
   "outputs": [
    {
     "name": "stdout",
     "output_type": "stream",
     "text": [
      "24\n",
      "4.482269287109375e-05\n"
     ]
    }
   ],
   "source": [
    "func()"
   ]
  },
  {
   "cell_type": "code",
   "execution_count": 23,
   "id": "891173f7-f119-4bc8-bfd4-7e1617d7ceda",
   "metadata": {},
   "outputs": [],
   "source": [
    "@timer_test\n",
    "def test():\n",
    "    for i in range(10000000):\n",
    "        pass"
   ]
  },
  {
   "cell_type": "code",
   "execution_count": 24,
   "id": "296e5a1b-fbb4-454c-b07f-473e28f94015",
   "metadata": {},
   "outputs": [
    {
     "name": "stdout",
     "output_type": "stream",
     "text": [
      "0.2954416275024414\n"
     ]
    }
   ],
   "source": [
    "test()"
   ]
  },
  {
   "cell_type": "code",
   "execution_count": null,
   "id": "6e320d2c-4035-4ccc-99d4-4602ed0160dc",
   "metadata": {},
   "outputs": [],
   "source": []
  }
 ],
 "metadata": {
  "kernelspec": {
   "display_name": "Python 3 (ipykernel)",
   "language": "python",
   "name": "python3"
  },
  "language_info": {
   "codemirror_mode": {
    "name": "ipython",
    "version": 3
   },
   "file_extension": ".py",
   "mimetype": "text/x-python",
   "name": "python",
   "nbconvert_exporter": "python",
   "pygments_lexer": "ipython3",
   "version": "3.10.8"
  }
 },
 "nbformat": 4,
 "nbformat_minor": 5
}
