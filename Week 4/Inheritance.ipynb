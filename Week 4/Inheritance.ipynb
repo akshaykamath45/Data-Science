{
 "cells": [
  {
   "cell_type": "code",
   "execution_count": 1,
   "id": "dc2982fb-30f9-47d5-a07f-8d3e1b018b55",
   "metadata": {},
   "outputs": [],
   "source": [
    "#Inhrtiance : Inheriting one class from another class"
   ]
  },
  {
   "cell_type": "code",
   "execution_count": 2,
   "id": "bbcd9435-184c-4604-a7d8-0c9a6e7a699d",
   "metadata": {},
   "outputs": [],
   "source": [
    "class test:\n",
    "    \n",
    "    def test_meth(self):\n",
    "        return \"this is my first class\"\n",
    "    "
   ]
  },
  {
   "cell_type": "code",
   "execution_count": 3,
   "id": "bc40e488-00cb-4f37-bf46-b5891ee720ea",
   "metadata": {},
   "outputs": [],
   "source": [
    "class child_test(test):\n",
    "    pass\n",
    "    "
   ]
  },
  {
   "cell_type": "code",
   "execution_count": 4,
   "id": "1d829f01-d674-4b21-a796-be88c8093f6f",
   "metadata": {},
   "outputs": [],
   "source": [
    "child_test_obj=child_test()"
   ]
  },
  {
   "cell_type": "code",
   "execution_count": 6,
   "id": "d4558c38-cc5e-4faf-b8b3-38981546019f",
   "metadata": {},
   "outputs": [
    {
     "data": {
      "text/plain": [
       "'this is my first class'"
      ]
     },
     "execution_count": 6,
     "metadata": {},
     "output_type": "execute_result"
    }
   ],
   "source": [
    "child_test_obj.test_meth()"
   ]
  },
  {
   "cell_type": "code",
   "execution_count": 8,
   "id": "e7c9b367-019c-4784-9e94-00e2a9304377",
   "metadata": {},
   "outputs": [],
   "source": [
    "#Inheriting Parent Property method in child class"
   ]
  },
  {
   "cell_type": "code",
   "execution_count": 9,
   "id": "59f57a68-0125-4024-a75a-8399bf030ef8",
   "metadata": {},
   "outputs": [],
   "source": [
    "#Mulitple and Multilevel Inheritance"
   ]
  },
  {
   "cell_type": "markdown",
   "id": "03c0e93d-0f3e-48e4-a86a-4ee7e8133b86",
   "metadata": {},
   "source": [
    "Mulitlevel : class1->class2-->class3 ,class 3 inherits properies of class 2,class 2 inherits properties from class 1,so indirectly,class 3 inherits properties of class 1"
   ]
  },
  {
   "cell_type": "code",
   "execution_count": 15,
   "id": "07750c6e-5dd4-4753-86df-17897791f9f9",
   "metadata": {},
   "outputs": [],
   "source": [
    "class class1:\n",
    "    def test_class1(self):\n",
    "        return \"this is my class 1\""
   ]
  },
  {
   "cell_type": "code",
   "execution_count": 21,
   "id": "1a24a1fc-e986-443d-8358-3d21b6840e08",
   "metadata": {},
   "outputs": [],
   "source": [
    "class class2(class1):\n",
    "    def test_class2(self):\n",
    "        return \"this is my class 2\""
   ]
  },
  {
   "cell_type": "code",
   "execution_count": 22,
   "id": "ca2304ed-73d2-4376-996c-7eda0f42ede3",
   "metadata": {},
   "outputs": [],
   "source": [
    "class class3(class2):\n",
    "    pass"
   ]
  },
  {
   "cell_type": "code",
   "execution_count": 23,
   "id": "28a3f978-071b-4d78-994c-079668ce9f19",
   "metadata": {},
   "outputs": [],
   "source": [
    "obj_class3=class3()"
   ]
  },
  {
   "cell_type": "code",
   "execution_count": 24,
   "id": "2ce440f2-04db-4bde-936f-353f356795a5",
   "metadata": {},
   "outputs": [
    {
     "data": {
      "text/plain": [
       "'this is my class 1'"
      ]
     },
     "execution_count": 24,
     "metadata": {},
     "output_type": "execute_result"
    }
   ],
   "source": [
    "obj_class3.test_class1()"
   ]
  },
  {
   "cell_type": "code",
   "execution_count": 25,
   "id": "f403eba1-2cbc-4a6b-a2db-3331c80ed4c5",
   "metadata": {},
   "outputs": [
    {
     "data": {
      "text/plain": [
       "'this is my class 2'"
      ]
     },
     "execution_count": 25,
     "metadata": {},
     "output_type": "execute_result"
    }
   ],
   "source": [
    "obj_class3.test_class2()"
   ]
  },
  {
   "cell_type": "code",
   "execution_count": 26,
   "id": "dbeeeb39-5f63-47c5-b143-9bacd31767f6",
   "metadata": {},
   "outputs": [],
   "source": [
    "# Multilevel Inheritance"
   ]
  },
  {
   "cell_type": "code",
   "execution_count": 27,
   "id": "f5df39ea-0cfc-4ece-9b43-b2edc8401104",
   "metadata": {},
   "outputs": [],
   "source": [
    "class father_class:\n",
    "    def test_father(self):\n",
    "        return \"this is father class\""
   ]
  },
  {
   "cell_type": "code",
   "execution_count": 28,
   "id": "80d8d7d6-9837-47c7-ba79-53b7f3e1ead9",
   "metadata": {},
   "outputs": [],
   "source": [
    "class mother_class:\n",
    "    def test_mother(self):\n",
    "        return \"this is mother class\""
   ]
  },
  {
   "cell_type": "code",
   "execution_count": 30,
   "id": "7d4872a0-4310-49c5-bfec-989495a08fb8",
   "metadata": {},
   "outputs": [],
   "source": [
    "class child_class(father_class,mother_class):\n",
    "    pass\n",
    "\n",
    "    "
   ]
  },
  {
   "cell_type": "code",
   "execution_count": 31,
   "id": "f55efc40-d9aa-41ce-8fe8-e20eeaeff982",
   "metadata": {},
   "outputs": [],
   "source": [
    "child_obj=child_class()"
   ]
  },
  {
   "cell_type": "code",
   "execution_count": 32,
   "id": "aec1d9eb-bf7e-4416-a1ea-35e8019d6cc7",
   "metadata": {},
   "outputs": [
    {
     "data": {
      "text/plain": [
       "'this is mother class'"
      ]
     },
     "execution_count": 32,
     "metadata": {},
     "output_type": "execute_result"
    }
   ],
   "source": [
    "child_obj.test_mother()"
   ]
  },
  {
   "cell_type": "code",
   "execution_count": 33,
   "id": "f6ede961-a32b-478f-8d05-b4648ada209d",
   "metadata": {},
   "outputs": [
    {
     "data": {
      "text/plain": [
       "'this is mother class'"
      ]
     },
     "execution_count": 33,
     "metadata": {},
     "output_type": "execute_result"
    }
   ],
   "source": [
    "child_obj.test_mother()"
   ]
  },
  {
   "cell_type": "code",
   "execution_count": null,
   "id": "75cc9f34-8b97-44bd-9327-07aba2443c12",
   "metadata": {},
   "outputs": [],
   "source": []
  }
 ],
 "metadata": {
  "kernelspec": {
   "display_name": "Python 3 (ipykernel)",
   "language": "python",
   "name": "python3"
  },
  "language_info": {
   "codemirror_mode": {
    "name": "ipython",
    "version": 3
   },
   "file_extension": ".py",
   "mimetype": "text/x-python",
   "name": "python",
   "nbconvert_exporter": "python",
   "pygments_lexer": "ipython3",
   "version": "3.10.8"
  }
 },
 "nbformat": 4,
 "nbformat_minor": 5
}
