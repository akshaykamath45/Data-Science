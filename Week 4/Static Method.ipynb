{
 "cells": [
  {
   "cell_type": "code",
   "execution_count": 1,
   "id": "3725f9b5-1fd6-435d-8adc-d54f7268951d",
   "metadata": {},
   "outputs": [],
   "source": [
    "class college:\n",
    "    def student_details(self,name,mail_id,number):\n",
    "        print(name,mail_id,number)\n",
    "        "
   ]
  },
  {
   "cell_type": "code",
   "execution_count": 2,
   "id": "6a9a43c3-0786-41f9-b7f2-82f41a410152",
   "metadata": {},
   "outputs": [],
   "source": [
    "akshay=college()"
   ]
  },
  {
   "cell_type": "code",
   "execution_count": 3,
   "id": "3192a985-e1f9-487a-a475-bdf12a2dee34",
   "metadata": {},
   "outputs": [
    {
     "name": "stdout",
     "output_type": "stream",
     "text": [
      "Akshay akshay@gmail.com 32047812\n"
     ]
    }
   ],
   "source": [
    "akshay.student_details(\"Akshay\",\"akshay@gmail.com\",32047812)"
   ]
  },
  {
   "cell_type": "code",
   "execution_count": 32,
   "id": "e2dad418-3ef2-4642-9bd9-e18b5e027ed1",
   "metadata": {},
   "outputs": [],
   "source": [
    "class college1:\n",
    "    def student_details(self,name,mail_id,number):\n",
    "        print(name,mail_id,number)\n",
    "        \n",
    "    @staticmethod\n",
    "    def mentor_class(list_mentor):#generally,we had to use cls,or self as an arguement in normal method,or define a function outside class,and use it\n",
    "        print(list_mentor)\n",
    "    \n",
    "    def mentor(self,mentor_list):#this is a normal function,where it will allow to create different mentor for each student/object\n",
    "        print(mentor_list)\n",
    "              "
   ]
  },
  {
   "cell_type": "code",
   "execution_count": 33,
   "id": "26d488d5-0f0c-4e06-815b-d7083d1775fa",
   "metadata": {},
   "outputs": [
    {
     "name": "stdout",
     "output_type": "stream",
     "text": [
      "['akshay', 'aditya']\n"
     ]
    }
   ],
   "source": [
    "college1.mentor_class(['akshay','aditya'])"
   ]
  },
  {
   "cell_type": "code",
   "execution_count": 34,
   "id": "abf3e047-36af-4eb7-a1ce-1ec770cc587f",
   "metadata": {},
   "outputs": [],
   "source": [
    "#it does not create different instance for different objects"
   ]
  },
  {
   "cell_type": "code",
   "execution_count": 35,
   "id": "13e551aa-38b4-4bc9-b2e8-6a9e2612d9c4",
   "metadata": {},
   "outputs": [],
   "source": [
    "student1=college1()"
   ]
  },
  {
   "cell_type": "code",
   "execution_count": 36,
   "id": "83ce421f-2997-4fd6-9a9e-07a8b6c188c8",
   "metadata": {},
   "outputs": [],
   "source": [
    "student2=college1()"
   ]
  },
  {
   "cell_type": "code",
   "execution_count": 37,
   "id": "b563c05e-bf0e-48d5-8f08-49e2ebb9e89f",
   "metadata": {},
   "outputs": [],
   "source": [
    "student3=college1()"
   ]
  },
  {
   "cell_type": "code",
   "execution_count": 38,
   "id": "a6ab03b4-de1c-458c-ab0a-fb59f0fc3172",
   "metadata": {},
   "outputs": [
    {
     "name": "stdout",
     "output_type": "stream",
     "text": [
      "['akshay', 'aditya', 'rohit']\n"
     ]
    }
   ],
   "source": [
    "student1.mentor(['akshay','aditya','rohit'])"
   ]
  },
  {
   "cell_type": "code",
   "execution_count": 57,
   "id": "69a05679-ea6b-4cdb-b831-8035804771f7",
   "metadata": {},
   "outputs": [],
   "source": [
    "class college2:\n",
    "    def student_details(self,name,mail_id,number):\n",
    "        print(name,mail_id,number)\n",
    "        \n",
    "    @staticmethod\n",
    "    def mentor_mail_id(mail_id_mentor):\n",
    "        print(mail_id_mentor)\n",
    "\n",
    "    @staticmethod\n",
    "    def mentor_class(list_mentor):#generally,we had to use cls,or self as an arguement in normal method,or define a function outside class,and use it\n",
    "        college2.mentor_mail_id(['akshay@gmail.com','adi@gmail.com'])#accessing static method inside a static method\n",
    "        print(list_mentor)\n",
    "    \n",
    "    @classmethod\n",
    "    def class_name(cls):\n",
    "        cls.mentor_class(['akshay','adi'])#using static method inside class method\n",
    "    \n",
    "    def mentor(self,mentor_list):#this is a normal function,where it will allow to create different mentor for each student/object,it is also called instance method\n",
    "        print(mentor_list)\n",
    "        self.mentor_class(['rohit','virat'])"
   ]
  },
  {
   "cell_type": "code",
   "execution_count": 58,
   "id": "f1f760e4-c972-41ec-9a7c-da0a624a6633",
   "metadata": {},
   "outputs": [
    {
     "name": "stdout",
     "output_type": "stream",
     "text": [
      "['akshay@gmail.com', 'adi@gmail.com']\n",
      "['akshay', 'adi']\n"
     ]
    }
   ],
   "source": [
    "college2.mentor_class(['akshay','adi'])"
   ]
  },
  {
   "cell_type": "code",
   "execution_count": 59,
   "id": "f4baffc9-508d-4ef9-b8f4-400529a1d41b",
   "metadata": {},
   "outputs": [
    {
     "name": "stdout",
     "output_type": "stream",
     "text": [
      "['akshay@gmail.com', 'adi@gmail.com']\n",
      "['akshay', 'adi']\n"
     ]
    }
   ],
   "source": [
    "college2.class_name()"
   ]
  },
  {
   "cell_type": "code",
   "execution_count": 60,
   "id": "2417e625-afc0-474a-b7e7-1ff0f00b4ddc",
   "metadata": {},
   "outputs": [],
   "source": [
    "akshay=college2()"
   ]
  },
  {
   "cell_type": "code",
   "execution_count": 61,
   "id": "e3341030-4ac3-450e-84d7-b670dff191ae",
   "metadata": {},
   "outputs": [
    {
     "name": "stdout",
     "output_type": "stream",
     "text": [
      "['kamath']\n",
      "['akshay@gmail.com', 'adi@gmail.com']\n",
      "['rohit', 'virat']\n"
     ]
    }
   ],
   "source": [
    "akshay.mentor(['kamath'])"
   ]
  }
 ],
 "metadata": {
  "kernelspec": {
   "display_name": "Python 3 (ipykernel)",
   "language": "python",
   "name": "python3"
  },
  "language_info": {
   "codemirror_mode": {
    "name": "ipython",
    "version": 3
   },
   "file_extension": ".py",
   "mimetype": "text/x-python",
   "name": "python",
   "nbconvert_exporter": "python",
   "pygments_lexer": "ipython3",
   "version": "3.10.8"
  }
 },
 "nbformat": 4,
 "nbformat_minor": 5
}
