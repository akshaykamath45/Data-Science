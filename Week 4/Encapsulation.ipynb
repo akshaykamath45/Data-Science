{
 "cells": [
  {
   "cell_type": "code",
   "execution_count": 1,
   "id": "611773d6-c658-4260-ab92-0a93cd6a4c47",
   "metadata": {},
   "outputs": [],
   "source": [
    "class test:\n",
    "    def __init__(self,a,b):\n",
    "        self.a=a\n",
    "        self.b=b"
   ]
  },
  {
   "cell_type": "code",
   "execution_count": 2,
   "id": "3c168864-45e2-41da-94f6-9e45d412c746",
   "metadata": {},
   "outputs": [],
   "source": [
    "t=test(12,13)"
   ]
  },
  {
   "cell_type": "code",
   "execution_count": 4,
   "id": "02991f68-bfc5-4a40-8497-bae97d709dd5",
   "metadata": {},
   "outputs": [
    {
     "data": {
      "text/plain": [
       "12"
      ]
     },
     "execution_count": 4,
     "metadata": {},
     "output_type": "execute_result"
    }
   ],
   "source": [
    "t.a"
   ]
  },
  {
   "cell_type": "code",
   "execution_count": 7,
   "id": "183b6399-534f-448e-bae6-9fb9e2d5f93e",
   "metadata": {},
   "outputs": [],
   "source": [
    "t.a=2314 #we should not be allowed to reassign or see the inner composition."
   ]
  },
  {
   "cell_type": "code",
   "execution_count": 8,
   "id": "ca835365-3200-49a5-aa48-a158f4b195fa",
   "metadata": {},
   "outputs": [
    {
     "data": {
      "text/plain": [
       "2314"
      ]
     },
     "execution_count": 8,
     "metadata": {},
     "output_type": "execute_result"
    }
   ],
   "source": [
    "t.a"
   ]
  },
  {
   "cell_type": "code",
   "execution_count": 43,
   "id": "b9a212f9-62ab-4f22-afda-fed2d6a50e89",
   "metadata": {},
   "outputs": [],
   "source": [
    "class car:\n",
    "    def __init__(self,year,make,model,speed):\n",
    "        self.__year=year#using double underscore will hide data from the users on pressing tab.\n",
    "        self.__make=make\n",
    "        self.__model=model\n",
    "        self.__speed=speed\n",
    "        \n",
    "    def set_speed(self,speed):\n",
    "        self.__speed=0 if speed<0 else speed\n",
    "    def get_speed(self):\n",
    "        return self.__speed"
   ]
  },
  {
   "cell_type": "code",
   "execution_count": 44,
   "id": "014662db-cf64-4a0f-9122-b4cee7d5fac3",
   "metadata": {},
   "outputs": [],
   "source": [
    "xuv=car(2022,'Mahindra','AX7 L',180)"
   ]
  },
  {
   "cell_type": "code",
   "execution_count": 45,
   "id": "cd8f7990-d0fa-405b-9fa4-620055304c97",
   "metadata": {},
   "outputs": [
    {
     "data": {
      "text/plain": [
       "2022"
      ]
     },
     "execution_count": 45,
     "metadata": {},
     "output_type": "execute_result"
    }
   ],
   "source": [
    "xuv._car__year #we shoud remember this syntax _classname__instance"
   ]
  },
  {
   "cell_type": "code",
   "execution_count": 35,
   "id": "f7f7d40d-9f98-4d49-9dd6-053e2e3d67f2",
   "metadata": {},
   "outputs": [
    {
     "data": {
      "text/plain": [
       "'Mahindra'"
      ]
     },
     "execution_count": 35,
     "metadata": {},
     "output_type": "execute_result"
    }
   ],
   "source": [
    "xuv._car__make"
   ]
  },
  {
   "cell_type": "code",
   "execution_count": 48,
   "id": "f7761a15-0a39-4bfe-87ff-c30042aa4e8c",
   "metadata": {},
   "outputs": [
    {
     "data": {
      "text/plain": [
       "190"
      ]
     },
     "execution_count": 48,
     "metadata": {},
     "output_type": "execute_result"
    }
   ],
   "source": [
    "xuv.set_speed(190)\n",
    "xuv.get_speed()"
   ]
  },
  {
   "cell_type": "code",
   "execution_count": 49,
   "id": "4cc48eec-3b3e-44f9-93ba-6cb7c824714f",
   "metadata": {},
   "outputs": [
    {
     "ename": "AttributeError",
     "evalue": "'car' object has no attribute 'year'",
     "output_type": "error",
     "traceback": [
      "\u001b[0;31m---------------------------------------------------------------------------\u001b[0m",
      "\u001b[0;31mAttributeError\u001b[0m                            Traceback (most recent call last)",
      "Cell \u001b[0;32mIn[49], line 1\u001b[0m\n\u001b[0;32m----> 1\u001b[0m \u001b[43mxuv\u001b[49m\u001b[38;5;241;43m.\u001b[39;49m\u001b[43myear\u001b[49m \u001b[38;5;66;03m# we cannot directly access like this,if we use double underscore\u001b[39;00m\n",
      "\u001b[0;31mAttributeError\u001b[0m: 'car' object has no attribute 'year'"
     ]
    }
   ],
   "source": [
    "xuv.year # we cannot directly access like this,if we use double underscore"
   ]
  },
  {
   "cell_type": "code",
   "execution_count": 83,
   "id": "1f0cb935-7618-4ee3-8923-ddc6ca437027",
   "metadata": {},
   "outputs": [],
   "source": [
    "class bank_account:\n",
    "    def __init__(self,balance):\n",
    "        self.__balance=balance\n",
    "        \n",
    "    def deposit(self,amount):\n",
    "        self.__balance= self.__balance+amount\n",
    "    def withdraw(self,withdrawAmount):\n",
    "        if(self.__balance>=withdrawAmount):\n",
    "            self.__balance=self.__balance-withdrawAmount\n",
    "            return True\n",
    "        else:\n",
    "            print(\"You are exceeding the bank balance limit!\")\n",
    "            return False\n",
    "    def getBalance(self):\n",
    "        return self.__balance\n",
    "        "
   ]
  },
  {
   "cell_type": "code",
   "execution_count": 84,
   "id": "d916558b-d4d3-4de9-beaf-1ea82815a5c9",
   "metadata": {},
   "outputs": [],
   "source": [
    "akshay=bank_account(1000)"
   ]
  },
  {
   "cell_type": "code",
   "execution_count": 85,
   "id": "0485e0ce-7655-493d-b3c4-f793a7b83eca",
   "metadata": {},
   "outputs": [],
   "source": [
    "akshay.deposit(2000)"
   ]
  },
  {
   "cell_type": "code",
   "execution_count": 86,
   "id": "2d90d57a-f507-4389-8e13-c1f07f850934",
   "metadata": {},
   "outputs": [
    {
     "data": {
      "text/plain": [
       "3000"
      ]
     },
     "execution_count": 86,
     "metadata": {},
     "output_type": "execute_result"
    }
   ],
   "source": [
    "akshay.getBalance()"
   ]
  },
  {
   "cell_type": "code",
   "execution_count": 87,
   "id": "e26adcfd-1de4-4318-ba6e-6ad67bfc2228",
   "metadata": {},
   "outputs": [
    {
     "data": {
      "text/plain": [
       "True"
      ]
     },
     "execution_count": 87,
     "metadata": {},
     "output_type": "execute_result"
    }
   ],
   "source": [
    "akshay.withdraw(1500)"
   ]
  },
  {
   "cell_type": "code",
   "execution_count": 88,
   "id": "46ae2fa8-b77b-4d55-bd58-0fcba3ba3b81",
   "metadata": {},
   "outputs": [
    {
     "data": {
      "text/plain": [
       "1500"
      ]
     },
     "execution_count": 88,
     "metadata": {},
     "output_type": "execute_result"
    }
   ],
   "source": [
    "akshay.getBalance()"
   ]
  },
  {
   "cell_type": "code",
   "execution_count": 89,
   "id": "7f1b3b3d-c08a-41f8-a78c-3315e1a87211",
   "metadata": {},
   "outputs": [
    {
     "name": "stdout",
     "output_type": "stream",
     "text": [
      "You are exceeding the bank balance limit!\n"
     ]
    },
    {
     "data": {
      "text/plain": [
       "False"
      ]
     },
     "execution_count": 89,
     "metadata": {},
     "output_type": "execute_result"
    }
   ],
   "source": [
    "akshay.withdraw(3500)"
   ]
  },
  {
   "cell_type": "code",
   "execution_count": 90,
   "id": "e86e2300-91b8-40ed-8038-827f48266783",
   "metadata": {},
   "outputs": [
    {
     "data": {
      "text/plain": [
       "1500"
      ]
     },
     "execution_count": 90,
     "metadata": {},
     "output_type": "execute_result"
    }
   ],
   "source": [
    "akshay.getBalance()"
   ]
  },
  {
   "cell_type": "code",
   "execution_count": null,
   "id": "c9c6f49b-55ff-438e-b7db-3821dcba7330",
   "metadata": {},
   "outputs": [],
   "source": []
  }
 ],
 "metadata": {
  "kernelspec": {
   "display_name": "Python 3 (ipykernel)",
   "language": "python",
   "name": "python3"
  },
  "language_info": {
   "codemirror_mode": {
    "name": "ipython",
    "version": 3
   },
   "file_extension": ".py",
   "mimetype": "text/x-python",
   "name": "python",
   "nbconvert_exporter": "python",
   "pygments_lexer": "ipython3",
   "version": "3.10.8"
  }
 },
 "nbformat": 4,
 "nbformat_minor": 5
}
