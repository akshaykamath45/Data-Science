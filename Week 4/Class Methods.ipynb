{
 "cells": [
  {
   "cell_type": "code",
   "execution_count": 1,
   "id": "196edf72-e605-4d2e-9f03-88f9ca18f481",
   "metadata": {},
   "outputs": [],
   "source": [
    "class college:\n",
    "    def __init__(self,name,email):\n",
    "        self.name=name\n",
    "        self.email=email\n",
    "    def student_details(self):\n",
    "        print(self.name,self.email)"
   ]
  },
  {
   "cell_type": "code",
   "execution_count": 2,
   "id": "7526a9ef-13ad-4abb-a530-9aa588f98624",
   "metadata": {},
   "outputs": [],
   "source": [
    "akshay=college(\"Akshay\",'akshay@gmail.com')"
   ]
  },
  {
   "cell_type": "code",
   "execution_count": 3,
   "id": "b1eff604-f9f4-4aed-aa4e-cd2f4aee994c",
   "metadata": {},
   "outputs": [
    {
     "data": {
      "text/plain": [
       "'Akshay'"
      ]
     },
     "execution_count": 3,
     "metadata": {},
     "output_type": "execute_result"
    }
   ],
   "source": [
    "akshay.name"
   ]
  },
  {
   "cell_type": "code",
   "execution_count": 4,
   "id": "e1bcfad5-0adf-4878-9542-17b23d1ab17f",
   "metadata": {},
   "outputs": [
    {
     "data": {
      "text/plain": [
       "'akshay@gmail.com'"
      ]
     },
     "execution_count": 4,
     "metadata": {},
     "output_type": "execute_result"
    }
   ],
   "source": [
    "akshay.email"
   ]
  },
  {
   "cell_type": "code",
   "execution_count": 5,
   "id": "62fe719f-8890-4e84-bbec-101628f47694",
   "metadata": {},
   "outputs": [
    {
     "name": "stdout",
     "output_type": "stream",
     "text": [
      "Akshay akshay@gmail.com\n"
     ]
    }
   ],
   "source": [
    "akshay.student_details()"
   ]
  },
  {
   "cell_type": "code",
   "execution_count": 7,
   "id": "2df14426-cb0a-4f75-b6a3-e399448c91f1",
   "metadata": {},
   "outputs": [],
   "source": [
    "#Using Class Method,We can overload the init method"
   ]
  },
  {
   "cell_type": "code",
   "execution_count": 15,
   "id": "27d3545d-5bbc-4d05-9330-246feca64b50",
   "metadata": {},
   "outputs": [],
   "source": [
    "class college1:\n",
    "    def __init__(self,name,email):\n",
    "        self.name=name\n",
    "        self.email=email\n",
    "    @classmethod\n",
    "    def details(cls,name,email):\n",
    "        return cls(name,email)\n",
    "    def student_details(self):\n",
    "        print(self.name,self.email)"
   ]
  },
  {
   "cell_type": "code",
   "execution_count": 16,
   "id": "3dab082e-a16b-4b55-8267-4a222fec0e15",
   "metadata": {},
   "outputs": [],
   "source": [
    "rohit=college1.details(\"rohit\",'rohit@gmail.com')"
   ]
  },
  {
   "cell_type": "code",
   "execution_count": 17,
   "id": "595cba52-2a0a-4693-b72d-0a84ee3fec45",
   "metadata": {},
   "outputs": [
    {
     "data": {
      "text/plain": [
       "'rohit'"
      ]
     },
     "execution_count": 17,
     "metadata": {},
     "output_type": "execute_result"
    }
   ],
   "source": [
    "rohit.name\n"
   ]
  },
  {
   "cell_type": "code",
   "execution_count": 18,
   "id": "6b49ebce-cb6a-49dd-9398-f689ab92fb2d",
   "metadata": {},
   "outputs": [
    {
     "data": {
      "text/plain": [
       "'rohit@gmail.com'"
      ]
     },
     "execution_count": 18,
     "metadata": {},
     "output_type": "execute_result"
    }
   ],
   "source": [
    "rohit.email"
   ]
  },
  {
   "cell_type": "code",
   "execution_count": 36,
   "id": "9da10dcf-c000-4a22-93f9-167695208e40",
   "metadata": {},
   "outputs": [],
   "source": [
    "# Without even creating an object,I am able to poss data to my class,i am using cls keyowrd and decorator class method,instead of using self and init."
   ]
  },
  {
   "cell_type": "code",
   "execution_count": 37,
   "id": "63f13f71-4fa7-4d64-907b-4004cbf01da1",
   "metadata": {},
   "outputs": [
    {
     "name": "stdout",
     "output_type": "stream",
     "text": [
      "rohit rohit@gmail.com\n"
     ]
    }
   ],
   "source": [
    "rohit.student_details()"
   ]
  },
  {
   "cell_type": "code",
   "execution_count": 42,
   "id": "24b83db9-70aa-4d21-96e2-a44ceb9c134a",
   "metadata": {},
   "outputs": [],
   "source": [
    "class college2:\n",
    "    \n",
    "    mobile_no=824294231 #Class Variable\n",
    "    \n",
    "    def __init__(self,name,email):\n",
    "        self.name=name\n",
    "        self.email=email\n",
    "        \n",
    "    @classmethod\n",
    "    def change_mobile_no(cls,mobile):\n",
    "        college2.mobile_no=mobile\n",
    "        \n",
    "    @classmethod\n",
    "    def details(cls,name,email):\n",
    "        return cls(name,email)\n",
    "    \n",
    "    def student_details(self):\n",
    "        print(self.name,self.email,college2.mobile_no)#classmethods are accessed only using classnames."
   ]
  },
  {
   "cell_type": "code",
   "execution_count": null,
   "id": "d2b322da-f7b2-4e43-a5e5-44f407f7b471",
   "metadata": {},
   "outputs": [],
   "source": []
  },
  {
   "cell_type": "code",
   "execution_count": 60,
   "id": "b9a21f15-d70b-4105-a696-f6aafd493bc3",
   "metadata": {},
   "outputs": [
    {
     "data": {
      "text/plain": [
       "532582312"
      ]
     },
     "execution_count": 60,
     "metadata": {},
     "output_type": "execute_result"
    }
   ],
   "source": [
    "college2.mobile_no#Can be accessed using class name,classmethods are accessed only using classnames."
   ]
  },
  {
   "cell_type": "code",
   "execution_count": 61,
   "id": "1f20238a-670f-4e9a-ad58-c16e97b28ec1",
   "metadata": {},
   "outputs": [],
   "source": [
    "college2.change_mobile_no(532582312)"
   ]
  },
  {
   "cell_type": "code",
   "execution_count": 62,
   "id": "1f1c2848-06ba-4ed1-8974-f390f28adec2",
   "metadata": {},
   "outputs": [
    {
     "data": {
      "text/plain": [
       "532582312"
      ]
     },
     "execution_count": 62,
     "metadata": {},
     "output_type": "execute_result"
    }
   ],
   "source": [
    "college2.mobile_no"
   ]
  },
  {
   "cell_type": "code",
   "execution_count": 63,
   "id": "125f69d9-1911-46c0-a3bb-61bf15dfe265",
   "metadata": {},
   "outputs": [],
   "source": [
    "rohit=college2('Rohit','rohit @gmail.com') #can be accessed by creating the object of the class"
   ]
  },
  {
   "cell_type": "code",
   "execution_count": 64,
   "id": "701cbf61-2d46-4ed8-a016-441d0dbdabee",
   "metadata": {},
   "outputs": [
    {
     "name": "stdout",
     "output_type": "stream",
     "text": [
      "Rohit rohit @gmail.com 532582312\n"
     ]
    }
   ],
   "source": [
    "rohit.student_details()"
   ]
  },
  {
   "cell_type": "code",
   "execution_count": 65,
   "id": "0e4929b7-67bc-4036-acb5-7a24e5452b71",
   "metadata": {},
   "outputs": [],
   "source": [
    "akshay=college2.details('Akshay','akshay@gmail.com') #can be accessed using class method"
   ]
  },
  {
   "cell_type": "code",
   "execution_count": 66,
   "id": "0e660ec7-d727-4fd3-9f99-cd03a2297ceb",
   "metadata": {},
   "outputs": [
    {
     "name": "stdout",
     "output_type": "stream",
     "text": [
      "Akshay akshay@gmail.com 532582312\n"
     ]
    }
   ],
   "source": [
    "akshay.student_details()"
   ]
  },
  {
   "cell_type": "code",
   "execution_count": 67,
   "id": "b3a0ef2f-0088-4f12-b349-a0cb7dd1ff57",
   "metadata": {},
   "outputs": [],
   "source": [
    "#we are overlaoding init with the help  of clas method"
   ]
  },
  {
   "cell_type": "code",
   "execution_count": 68,
   "id": "98cacf39-9982-49e9-a181-8de46b273ede",
   "metadata": {},
   "outputs": [],
   "source": [
    "class college3:\n",
    "    \n",
    "    mobile_no=824294231 #Class Variable\n",
    "    \n",
    "    def __init__(self,name,email):\n",
    "        self.name=name\n",
    "        self.email=email\n",
    "        \n",
    "    @classmethod\n",
    "    def change_mobile_no(cls,mobile):\n",
    "        college2.mobile_no=mobile\n",
    "        \n",
    "    @classmethod\n",
    "    def details(cls,name,email):\n",
    "        return cls(name,email)\n",
    "    \n",
    "    def student_details(self):\n",
    "        print(self.name,self.email,college2.mobile_no)#classmethods are accessed only using classnames."
   ]
  },
  {
   "cell_type": "code",
   "execution_count": 69,
   "id": "64948f05-b907-4f72-8046-8b7b6bd71bfd",
   "metadata": {},
   "outputs": [],
   "source": [
    "def course_details(cls,course_name):\n",
    "    print(\"Course is \",course_name)"
   ]
  },
  {
   "cell_type": "code",
   "execution_count": 71,
   "id": "ad844870-09cb-4af7-ac87-8d94281fa2ae",
   "metadata": {},
   "outputs": [],
   "source": [
    "college3.course_details=classmethod(course_details) # this is a external function,which we are adding to the class college3"
   ]
  },
  {
   "cell_type": "code",
   "execution_count": 72,
   "id": "f41ec405-44db-4090-8448-753662401e76",
   "metadata": {},
   "outputs": [
    {
     "name": "stdout",
     "output_type": "stream",
     "text": [
      "Course is  Computer Engineering\n"
     ]
    }
   ],
   "source": [
    "college3.course_details('Computer Engineering')"
   ]
  },
  {
   "cell_type": "code",
   "execution_count": 73,
   "id": "eccd6b62-1b9a-4c76-a6ad-93c4f2591678",
   "metadata": {},
   "outputs": [],
   "source": [
    "def list_of_mentors(cls,mentors):\n",
    "    print(mentors)"
   ]
  },
  {
   "cell_type": "code",
   "execution_count": 74,
   "id": "2080bcf9-dd7c-4eb0-a66f-f6e4b5e60ca6",
   "metadata": {},
   "outputs": [],
   "source": [
    "college3.list_of_mentors=classmethod(list_of_mentors)"
   ]
  },
  {
   "cell_type": "code",
   "execution_count": 77,
   "id": "51fe45ef-0003-41b1-b453-0e4fe7197379",
   "metadata": {},
   "outputs": [
    {
     "name": "stdout",
     "output_type": "stream",
     "text": [
      "['Sudhir Sir', 'Ruhina Mam']\n"
     ]
    }
   ],
   "source": [
    "college3.list_of_mentors([\"Sudhir Sir\",\"Ruhina Mam\"])"
   ]
  },
  {
   "cell_type": "code",
   "execution_count": 78,
   "id": "8e0a8131-f81e-43e4-abe6-28255ef91f6a",
   "metadata": {},
   "outputs": [],
   "source": [
    "class college4:\n",
    "    \n",
    "    mobile_no=824294231 #Class Variable\n",
    "    \n",
    "    def __init__(self,name,email):\n",
    "        self.name=name\n",
    "        self.email=email\n",
    "        \n",
    "    @classmethod\n",
    "    def change_mobile_no(cls,mobile):\n",
    "        college2.mobile_no=mobile\n",
    "        \n",
    "    @classmethod\n",
    "    def details(cls,name,email):\n",
    "        return cls(name,email)\n",
    "    \n",
    "    def student_details(self):\n",
    "        print(self.name,self.email,college2.mobile_no)#classmethods are accessed only using classnames."
   ]
  },
  {
   "cell_type": "code",
   "execution_count": 79,
   "id": "713d580e-2c67-4570-91f1-b7b33c3929fc",
   "metadata": {},
   "outputs": [],
   "source": [
    "#deleting function/class method from class"
   ]
  },
  {
   "cell_type": "code",
   "execution_count": 81,
   "id": "bf368477-7213-4658-8c9c-ecd6da1e4bfc",
   "metadata": {},
   "outputs": [],
   "source": [
    "del college4.change_mobile_no"
   ]
  },
  {
   "cell_type": "code",
   "execution_count": 82,
   "id": "1d224c75-f0fd-4a25-b8fe-28d99abecd5a",
   "metadata": {},
   "outputs": [],
   "source": [
    "#another method : delete attribute"
   ]
  },
  {
   "cell_type": "code",
   "execution_count": 84,
   "id": "9b19628c-90c0-4fb2-9ab3-77364c79128e",
   "metadata": {},
   "outputs": [],
   "source": [
    "delattr(college4,\"details\")"
   ]
  },
  {
   "cell_type": "code",
   "execution_count": 87,
   "id": "72bdcd0f-287a-4c23-bac5-22211c1fbfe8",
   "metadata": {},
   "outputs": [
    {
     "ename": "AttributeError",
     "evalue": "type object 'college4' has no attribute 'change_mobile_no'",
     "output_type": "error",
     "traceback": [
      "\u001b[0;31m---------------------------------------------------------------------------\u001b[0m",
      "\u001b[0;31mAttributeError\u001b[0m                            Traceback (most recent call last)",
      "Cell \u001b[0;32mIn[87], line 1\u001b[0m\n\u001b[0;32m----> 1\u001b[0m \u001b[43mcollege4\u001b[49m\u001b[38;5;241;43m.\u001b[39;49m\u001b[43mchange_mobile_no\u001b[49m(\u001b[38;5;241m213101232\u001b[39m) \u001b[38;5;66;03m#not accessible as deleted\u001b[39;00m\n",
      "\u001b[0;31mAttributeError\u001b[0m: type object 'college4' has no attribute 'change_mobile_no'"
     ]
    }
   ],
   "source": [
    "college4.change_mobile_no(213101232) #not accessible as deleted"
   ]
  },
  {
   "cell_type": "code",
   "execution_count": 88,
   "id": "9bb71b49-db59-4377-8ae2-91f65c0d4bc6",
   "metadata": {},
   "outputs": [
    {
     "ename": "AttributeError",
     "evalue": "type object 'college4' has no attribute 'details'",
     "output_type": "error",
     "traceback": [
      "\u001b[0;31m---------------------------------------------------------------------------\u001b[0m",
      "\u001b[0;31mAttributeError\u001b[0m                            Traceback (most recent call last)",
      "Cell \u001b[0;32mIn[88], line 1\u001b[0m\n\u001b[0;32m----> 1\u001b[0m \u001b[43mcollege4\u001b[49m\u001b[38;5;241;43m.\u001b[39;49m\u001b[43mdetails\u001b[49m(\u001b[38;5;124m\"\u001b[39m\u001b[38;5;124mabc\u001b[39m\u001b[38;5;124m\"\u001b[39m,\u001b[38;5;124m\"\u001b[39m\u001b[38;5;124mabc@gmail.com\u001b[39m\u001b[38;5;124m\"\u001b[39m) \u001b[38;5;66;03m# not accessible as deleted\u001b[39;00m\n",
      "\u001b[0;31mAttributeError\u001b[0m: type object 'college4' has no attribute 'details'"
     ]
    }
   ],
   "source": [
    "college4.details(\"abc\",\"abc@gmail.com\") # not accessible as deleted"
   ]
  },
  {
   "cell_type": "code",
   "execution_count": 89,
   "id": "c38463dd-e102-4e4c-915f-150fc3dba4b9",
   "metadata": {},
   "outputs": [],
   "source": [
    "# we can delete anything,class variable,any function,using delattr"
   ]
  },
  {
   "cell_type": "code",
   "execution_count": null,
   "id": "9a72faa6-f2a8-45fa-baed-b55d28b2df52",
   "metadata": {},
   "outputs": [],
   "source": []
  }
 ],
 "metadata": {
  "kernelspec": {
   "display_name": "Python 3 (ipykernel)",
   "language": "python",
   "name": "python3"
  },
  "language_info": {
   "codemirror_mode": {
    "name": "ipython",
    "version": 3
   },
   "file_extension": ".py",
   "mimetype": "text/x-python",
   "name": "python",
   "nbconvert_exporter": "python",
   "pygments_lexer": "ipython3",
   "version": "3.10.8"
  }
 },
 "nbformat": 4,
 "nbformat_minor": 5
}
