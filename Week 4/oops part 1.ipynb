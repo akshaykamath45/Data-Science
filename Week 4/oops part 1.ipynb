{
 "cells": [
  {
   "cell_type": "code",
   "execution_count": 3,
   "id": "3d98af01-24f2-4d6e-b3a5-ad70e1fb5d21",
   "metadata": {},
   "outputs": [],
   "source": [
    "a=1"
   ]
  },
  {
   "cell_type": "code",
   "execution_count": 4,
   "id": "2dae4912-2fa6-404f-b5d8-1879c7532932",
   "metadata": {},
   "outputs": [
    {
     "name": "stdout",
     "output_type": "stream",
     "text": [
      "<class 'int'>\n"
     ]
    }
   ],
   "source": [
    "print(type(a))"
   ]
  },
  {
   "cell_type": "code",
   "execution_count": 5,
   "id": "d6887c74-5d19-46f8-9b06-1d79e6fe3092",
   "metadata": {},
   "outputs": [
    {
     "name": "stdout",
     "output_type": "stream",
     "text": [
      "<class 'str'>\n"
     ]
    }
   ],
   "source": [
    "print(type(\"akshay\"))"
   ]
  },
  {
   "cell_type": "raw",
   "id": "047cb589-97fd-4ee2-8e72-f9aa16cb9387",
   "metadata": {},
   "source": [
    "class : clasificaition of real world entities,blue print of a real world entity,but not specific to real word entity\n",
    "object: real world entity,eg: a is an intance/object of class\n",
    "\n",
    "class enhances,resuability,restructured way."
   ]
  },
  {
   "cell_type": "code",
   "execution_count": 8,
   "id": "c94b7c22-9fee-44f9-a705-34a7fb98ab0c",
   "metadata": {},
   "outputs": [],
   "source": [
    "class test : \n",
    "    pass"
   ]
  },
  {
   "cell_type": "code",
   "execution_count": 9,
   "id": "4294abb9-19aa-48fd-8f89-6ff729c8049b",
   "metadata": {},
   "outputs": [],
   "source": [
    "a=test()"
   ]
  },
  {
   "cell_type": "code",
   "execution_count": 10,
   "id": "d8b5bb4c-d870-4f4e-858f-6ab91ffa6c96",
   "metadata": {},
   "outputs": [
    {
     "data": {
      "text/plain": [
       "__main__.test"
      ]
     },
     "execution_count": 10,
     "metadata": {},
     "output_type": "execute_result"
    }
   ],
   "source": [
    "type(a)"
   ]
  },
  {
   "cell_type": "code",
   "execution_count": 11,
   "id": "34d3e642-44a3-482e-8a1a-d20eb4f65c01",
   "metadata": {},
   "outputs": [
    {
     "name": "stdout",
     "output_type": "stream",
     "text": [
      "<class '__main__.test'>\n"
     ]
    }
   ],
   "source": [
    "print(type(a))"
   ]
  },
  {
   "cell_type": "code",
   "execution_count": 16,
   "id": "b16aab62-8136-4ffa-8cff-6ab150ab387c",
   "metadata": {},
   "outputs": [],
   "source": [
    "class techstore:\n",
    "    \n",
    "    def welcome_msg(self):\n",
    "        print(\"Welcome to techstore\")"
   ]
  },
  {
   "cell_type": "code",
   "execution_count": 20,
   "id": "235785cd-aa33-4e53-8a39-f68c3bf7b53d",
   "metadata": {},
   "outputs": [],
   "source": [
    "rohan=techstore() #class ka object/instance variable"
   ]
  },
  {
   "cell_type": "code",
   "execution_count": 21,
   "id": "2c9c480e-88bc-437b-bb95-2b85197bd38f",
   "metadata": {},
   "outputs": [
    {
     "name": "stdout",
     "output_type": "stream",
     "text": [
      "<class '__main__.techstore'>\n"
     ]
    }
   ],
   "source": [
    "print(type(rohan))"
   ]
  },
  {
   "cell_type": "code",
   "execution_count": 22,
   "id": "50333076-321b-4d8f-8469-8312821f6ee4",
   "metadata": {},
   "outputs": [
    {
     "name": "stdout",
     "output_type": "stream",
     "text": [
      "Welcome to techstore\n"
     ]
    }
   ],
   "source": [
    "rohan.welcome_msg()"
   ]
  },
  {
   "cell_type": "code",
   "execution_count": 23,
   "id": "fa2b2a71-7355-4785-b8d3-e5184f24faa2",
   "metadata": {},
   "outputs": [],
   "source": [
    "gaurav=techstore()"
   ]
  },
  {
   "cell_type": "code",
   "execution_count": 24,
   "id": "0a93ff83-4957-42cf-804f-fd200aa81c8f",
   "metadata": {},
   "outputs": [
    {
     "name": "stdout",
     "output_type": "stream",
     "text": [
      "Welcome to techstore\n"
     ]
    }
   ],
   "source": [
    "gaurav.welcome_msg()"
   ]
  },
  {
   "cell_type": "code",
   "execution_count": 1,
   "id": "4cb822d7-6cc5-41c6-ad26-0b63be36c83b",
   "metadata": {},
   "outputs": [],
   "source": [
    "class techstore1():\n",
    "    def __init__(self,phone_number,email_id,student_id): #it is also called as constructor used for intitalization,allows to pass data\n",
    "        self.phone_number=phone_number\n",
    "        self.email_id=email_id\n",
    "        self.student_id=student_id\n",
    "    def return_student_details(self):\n",
    "        return self.student_id,self.phone_number,self.email_id"
   ]
  },
  {
   "cell_type": "code",
   "execution_count": 2,
   "id": "dc602d0c-bbc9-4135-89e0-80d3f8824548",
   "metadata": {},
   "outputs": [
    {
     "ename": "TypeError",
     "evalue": "techstore1.__init__() missing 3 required positional arguments: 'phone_number', 'email_id', and 'student_id'",
     "output_type": "error",
     "traceback": [
      "\u001b[0;31m---------------------------------------------------------------------------\u001b[0m",
      "\u001b[0;31mTypeError\u001b[0m                                 Traceback (most recent call last)",
      "Cell \u001b[0;32mIn[2], line 1\u001b[0m\n\u001b[0;32m----> 1\u001b[0m rohan\u001b[38;5;241m=\u001b[39m\u001b[43mtechstore1\u001b[49m\u001b[43m(\u001b[49m\u001b[43m)\u001b[49m\n",
      "\u001b[0;31mTypeError\u001b[0m: techstore1.__init__() missing 3 required positional arguments: 'phone_number', 'email_id', and 'student_id'"
     ]
    }
   ],
   "source": [
    "rohan=techstore1()"
   ]
  },
  {
   "cell_type": "code",
   "execution_count": 3,
   "id": "0b54557e-b9ca-4860-ab3f-ce11d31b1b8e",
   "metadata": {},
   "outputs": [],
   "source": [
    "rohan=techstore1(9204567812,'rohan@gmail.com',6004210116)"
   ]
  },
  {
   "cell_type": "code",
   "execution_count": 4,
   "id": "4f095105-cda7-4073-a2e8-97b0cd63d7bd",
   "metadata": {},
   "outputs": [
    {
     "data": {
      "text/plain": [
       "(6004210116, 9204567812, 'rohan@gmail.com')"
      ]
     },
     "execution_count": 4,
     "metadata": {},
     "output_type": "execute_result"
    }
   ],
   "source": [
    "rohan.return_student_details()"
   ]
  },
  {
   "cell_type": "code",
   "execution_count": 5,
   "id": "60ab5bc6-da03-457e-a23d-9b8ac134d892",
   "metadata": {},
   "outputs": [],
   "source": [
    "gaurav=techstore1(952382093,'gaurav@gmail.com',6004210117)"
   ]
  },
  {
   "cell_type": "code",
   "execution_count": 6,
   "id": "ff775c0d-f213-40f1-ad3e-bc8cc008554d",
   "metadata": {},
   "outputs": [
    {
     "data": {
      "text/plain": [
       "(6004210117, 952382093, 'gaurav@gmail.com')"
      ]
     },
     "execution_count": 6,
     "metadata": {},
     "output_type": "execute_result"
    }
   ],
   "source": [
    "gaurav.return_student_details()"
   ]
  },
  {
   "cell_type": "code",
   "execution_count": 8,
   "id": "464aedd7-8a73-4932-9046-8b6e49b2f409",
   "metadata": {},
   "outputs": [
    {
     "data": {
      "text/plain": [
       "952382093"
      ]
     },
     "execution_count": 8,
     "metadata": {},
     "output_type": "execute_result"
    }
   ],
   "source": [
    "gaurav.phone_number\n"
   ]
  },
  {
   "cell_type": "code",
   "execution_count": 9,
   "id": "3c6063c7-12f4-49a2-9568-56586f6dc052",
   "metadata": {},
   "outputs": [
    {
     "data": {
      "text/plain": [
       "'rohan@gmail.com'"
      ]
     },
     "execution_count": 9,
     "metadata": {},
     "output_type": "execute_result"
    }
   ],
   "source": [
    "rohan.email_id"
   ]
  },
  {
   "cell_type": "code",
   "execution_count": 2,
   "id": "b109da46-d53b-448d-be47-57f14bd38440",
   "metadata": {},
   "outputs": [],
   "source": [
    "class techstore2:\n",
    "    def __init__(self,phone_number,email_id,roll_no) :\n",
    "        self.phone_number1=phone_number\n",
    "        self.email_id1=email_id\n",
    "        self.roll_no1=roll_no\n",
    "    \n",
    "    def return_customer_details(self):\n",
    "        return self.phone_number1,self.email_id1,self.roll_no1\n",
    "        "
   ]
  },
  {
   "cell_type": "code",
   "execution_count": 3,
   "id": "6fa83b94-0f24-4483-9e01-8aa6ee3b9f3b",
   "metadata": {},
   "outputs": [],
   "source": [
    "akshay=techstore2(9930749272,'akshaykamath@gmail.com',304)"
   ]
  },
  {
   "cell_type": "code",
   "execution_count": 4,
   "id": "f54e5ce7-b9ad-48ba-9cbc-ffbc01244885",
   "metadata": {},
   "outputs": [
    {
     "data": {
      "text/plain": [
       "(9930749272, 'akshaykamath@gmail.com', 304)"
      ]
     },
     "execution_count": 4,
     "metadata": {},
     "output_type": "execute_result"
    }
   ],
   "source": [
    "akshay.return_customer_details()"
   ]
  },
  {
   "cell_type": "code",
   "execution_count": 5,
   "id": "a10630b4-025f-4299-b631-c62ee2aa785c",
   "metadata": {},
   "outputs": [
    {
     "ename": "AttributeError",
     "evalue": "'techstore2' object has no attribute 'phone_number'",
     "output_type": "error",
     "traceback": [
      "\u001b[0;31m---------------------------------------------------------------------------\u001b[0m",
      "\u001b[0;31mAttributeError\u001b[0m                            Traceback (most recent call last)",
      "Cell \u001b[0;32mIn[5], line 1\u001b[0m\n\u001b[0;32m----> 1\u001b[0m \u001b[43makshay\u001b[49m\u001b[38;5;241;43m.\u001b[39;49m\u001b[43mphone_number\u001b[49m\n",
      "\u001b[0;31mAttributeError\u001b[0m: 'techstore2' object has no attribute 'phone_number'"
     ]
    }
   ],
   "source": [
    "akshay.phone_number"
   ]
  },
  {
   "cell_type": "code",
   "execution_count": 6,
   "id": "3cfbdf39-5b5e-44a3-8ffa-ad289e61701a",
   "metadata": {},
   "outputs": [
    {
     "data": {
      "text/plain": [
       "9930749272"
      ]
     },
     "execution_count": 6,
     "metadata": {},
     "output_type": "execute_result"
    }
   ],
   "source": [
    "akshay.phone_number1"
   ]
  },
  {
   "cell_type": "code",
   "execution_count": 7,
   "id": "c89be8ca-fc09-4016-a6de-06c93109da67",
   "metadata": {},
   "outputs": [
    {
     "ename": "AttributeError",
     "evalue": "'techstore2' object has no attribute 'email_id'",
     "output_type": "error",
     "traceback": [
      "\u001b[0;31m---------------------------------------------------------------------------\u001b[0m",
      "\u001b[0;31mAttributeError\u001b[0m                            Traceback (most recent call last)",
      "Cell \u001b[0;32mIn[7], line 1\u001b[0m\n\u001b[0;32m----> 1\u001b[0m \u001b[43makshay\u001b[49m\u001b[38;5;241;43m.\u001b[39;49m\u001b[43memail_id\u001b[49m\n",
      "\u001b[0;31mAttributeError\u001b[0m: 'techstore2' object has no attribute 'email_id'"
     ]
    }
   ],
   "source": [
    "akshay.email_id"
   ]
  },
  {
   "cell_type": "code",
   "execution_count": 8,
   "id": "a3045920-024d-46ce-b0bc-672ae18210dd",
   "metadata": {},
   "outputs": [
    {
     "data": {
      "text/plain": [
       "'akshaykamath@gmail.com'"
      ]
     },
     "execution_count": 8,
     "metadata": {},
     "output_type": "execute_result"
    }
   ],
   "source": [
    "akshay.email_id1\n"
   ]
  },
  {
   "cell_type": "code",
   "execution_count": 13,
   "id": "190a733b-8cf5-49fb-b4f2-b0ed620b7540",
   "metadata": {},
   "outputs": [],
   "source": [
    "class techstore3:\n",
    "    def __init__(aksh,phone_number,email_id,roll_no) :\n",
    "        aksh.phone_number1=phone_number\n",
    "        aksh.email_id1=email_id\n",
    "        aksh.roll_no1=roll_no\n",
    "    \n",
    "    def return_customer_details(akshay):\n",
    "        return akshay.phone_number1,akshay.email_id1,akshay.roll_no1"
   ]
  },
  {
   "cell_type": "code",
   "execution_count": 14,
   "id": "19d3dbc0-7aab-407f-bdeb-2c936eae9f05",
   "metadata": {},
   "outputs": [],
   "source": [
    "akshay=techstore3(83248012,'aksh@gmail.com',112)"
   ]
  },
  {
   "cell_type": "code",
   "execution_count": 15,
   "id": "971b84b7-3906-40f1-bf74-8863879d34af",
   "metadata": {},
   "outputs": [
    {
     "data": {
      "text/plain": [
       "(83248012, 'aksh@gmail.com', 112)"
      ]
     },
     "execution_count": 15,
     "metadata": {},
     "output_type": "execute_result"
    }
   ],
   "source": [
    "akshay.return_customer_details()"
   ]
  },
  {
   "cell_type": "code",
   "execution_count": 16,
   "id": "2907f0a1-1dfb-49d2-9521-c03ec4a0a1f4",
   "metadata": {},
   "outputs": [],
   "source": [
    "#self is not a reserved keyword,we can use any name,it just acts as a pointer to associate that data with respect to class"
   ]
  },
  {
   "cell_type": "code",
   "execution_count": null,
   "id": "ff172f71-1d69-4034-9e4d-78e7ce004c93",
   "metadata": {},
   "outputs": [],
   "source": []
  }
 ],
 "metadata": {
  "kernelspec": {
   "display_name": "Python 3 (ipykernel)",
   "language": "python",
   "name": "python3"
  },
  "language_info": {
   "codemirror_mode": {
    "name": "ipython",
    "version": 3
   },
   "file_extension": ".py",
   "mimetype": "text/x-python",
   "name": "python",
   "nbconvert_exporter": "python",
   "pygments_lexer": "ipython3",
   "version": "3.10.8"
  }
 },
 "nbformat": 4,
 "nbformat_minor": 5
}
