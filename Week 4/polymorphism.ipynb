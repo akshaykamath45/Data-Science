{
 "cells": [
  {
   "cell_type": "code",
   "execution_count": 1,
   "id": "45f2dd6a-a382-4307-970a-2471e4b331b8",
   "metadata": {},
   "outputs": [],
   "source": [
    "#Polymorphism : Single Entity,but Mulitple/Different Behaviour under Differnet Circumstances/Situations"
   ]
  },
  {
   "cell_type": "code",
   "execution_count": 6,
   "id": "f30312f5-b443-40ec-9191-578ff486774d",
   "metadata": {},
   "outputs": [],
   "source": [
    "def test(a,b):#base function is same,but showing different behaviour\n",
    "    return a+b"
   ]
  },
  {
   "cell_type": "code",
   "execution_count": 7,
   "id": "8a77a5ec-5414-4f24-99e9-56ba94ee9293",
   "metadata": {},
   "outputs": [
    {
     "data": {
      "text/plain": [
       "6"
      ]
     },
     "execution_count": 7,
     "metadata": {},
     "output_type": "execute_result"
    }
   ],
   "source": [
    "test(2,4)"
   ]
  },
  {
   "cell_type": "code",
   "execution_count": 8,
   "id": "9dd416f5-9c9a-4763-a07a-72f1b3be0452",
   "metadata": {},
   "outputs": [
    {
     "data": {
      "text/plain": [
       "'akshaykamath'"
      ]
     },
     "execution_count": 8,
     "metadata": {},
     "output_type": "execute_result"
    }
   ],
   "source": [
    "test(\"akshay\",\"kamath\")"
   ]
  },
  {
   "cell_type": "code",
   "execution_count": 9,
   "id": "74c91493-eb91-4f8f-a609-f3719d1ee8fe",
   "metadata": {},
   "outputs": [
    {
     "data": {
      "text/plain": [
       "[3, 4, 5, 6, 7, 4, 5]"
      ]
     },
     "execution_count": 9,
     "metadata": {},
     "output_type": "execute_result"
    }
   ],
   "source": [
    "test([3,4,5,6],[7,4,5])"
   ]
  },
  {
   "cell_type": "code",
   "execution_count": 11,
   "id": "b4765997-86cf-4b9c-9bbb-62257a883707",
   "metadata": {},
   "outputs": [],
   "source": [
    "class data_science:\n",
    "    def syllabus(self):\n",
    "        print(\"I am learing data science\")"
   ]
  },
  {
   "cell_type": "code",
   "execution_count": 12,
   "id": "678e86d7-8c2a-4967-be2d-5dc9de220332",
   "metadata": {},
   "outputs": [],
   "source": [
    "class web_dev:\n",
    "    def syllabus(self):\n",
    "        print(\"I am learning web development\")"
   ]
  },
  {
   "cell_type": "code",
   "execution_count": 13,
   "id": "1f3f21f9-41a4-4dbf-aaca-bb01be09d7bf",
   "metadata": {},
   "outputs": [],
   "source": [
    "def class_parcer(class_obj):\n",
    "    for i in class_obj:\n",
    "        i.syllabus()"
   ]
  },
  {
   "cell_type": "code",
   "execution_count": 15,
   "id": "94e2a088-1850-4c11-a16f-ca6f80882d27",
   "metadata": {},
   "outputs": [],
   "source": [
    "student1=data_science()"
   ]
  },
  {
   "cell_type": "code",
   "execution_count": 16,
   "id": "dea191ae-afe5-4e17-82f4-d9bed468f2b3",
   "metadata": {},
   "outputs": [],
   "source": [
    "student2=web_dev()"
   ]
  },
  {
   "cell_type": "code",
   "execution_count": 17,
   "id": "7541dfba-6fd6-42af-b609-c74287fa1f0b",
   "metadata": {},
   "outputs": [],
   "source": [
    "class_obj=[student1,student2]"
   ]
  },
  {
   "cell_type": "code",
   "execution_count": 18,
   "id": "e9f0817f-b893-4f02-ab53-cc6ac2e102e7",
   "metadata": {},
   "outputs": [
    {
     "name": "stdout",
     "output_type": "stream",
     "text": [
      "I am learing data science\n",
      "I am learning web development\n"
     ]
    }
   ],
   "source": [
    "class_parcer(class_obj)"
   ]
  },
  {
   "cell_type": "code",
   "execution_count": null,
   "id": "d41377d9-5108-4712-acb0-ccf487924ba6",
   "metadata": {},
   "outputs": [],
   "source": []
  }
 ],
 "metadata": {
  "kernelspec": {
   "display_name": "Python 3 (ipykernel)",
   "language": "python",
   "name": "python3"
  },
  "language_info": {
   "codemirror_mode": {
    "name": "ipython",
    "version": 3
   },
   "file_extension": ".py",
   "mimetype": "text/x-python",
   "name": "python",
   "nbconvert_exporter": "python",
   "pygments_lexer": "ipython3",
   "version": "3.10.8"
  }
 },
 "nbformat": 4,
 "nbformat_minor": 5
}
