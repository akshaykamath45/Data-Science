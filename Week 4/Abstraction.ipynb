{
 "cells": [
  {
   "cell_type": "code",
   "execution_count": 14,
   "id": "b64d37bb-340b-46f5-914d-d18dd38f1d7b",
   "metadata": {},
   "outputs": [],
   "source": [
    "#Abstract Class : designing the skeleton/layout/blue print/outline"
   ]
  },
  {
   "cell_type": "code",
   "execution_count": 15,
   "id": "ca85eaaf-f3a7-4268-9ed6-139f5487f772",
   "metadata": {},
   "outputs": [],
   "source": [
    "import abc\n",
    "class college:\n",
    "    \n",
    "    @abc.abstractmethod\n",
    "    def student_details(self):\n",
    "        pass\n",
    "    \n",
    "    @abc.abstractmethod\n",
    "    def student_marks(self):\n",
    "        pass\n",
    "    \n",
    "    @abc.abstractmethod\n",
    "    def student_assignments(self):\n",
    "        pass"
   ]
  },
  {
   "cell_type": "code",
   "execution_count": 16,
   "id": "0c7657fd-1097-4fb5-be4a-61c9cace5cac",
   "metadata": {},
   "outputs": [],
   "source": [
    "class student_details(college):\n",
    "    def student_details(self):\n",
    "        return \"this is a method for taking student details\"\n",
    "    \n",
    "    def student_assignments(self):\n",
    "        return \"this is a method for taking student assignments\"\n",
    "    \n",
    "    def student_marks(self):\n",
    "        return \"this is a method for taking student marks\""
   ]
  },
  {
   "cell_type": "code",
   "execution_count": 17,
   "id": "f56fbc59-0134-4593-97c7-4cc57a5ddada",
   "metadata": {},
   "outputs": [],
   "source": [
    "class maths(college):\n",
    "    def student_details(self):\n",
    "        return \"this is a method for taking student details for maths\"\n",
    "    def student_marks(self):\n",
    "        return \"this is a method for taking student marks for maths\""
   ]
  },
  {
   "cell_type": "code",
   "execution_count": 11,
   "id": "9d2a2470-0adb-472d-aadd-349927eb22db",
   "metadata": {},
   "outputs": [],
   "source": [
    "akshay=maths()"
   ]
  },
  {
   "cell_type": "code",
   "execution_count": 12,
   "id": "d73e7418-d2d3-49cd-9b7f-99340adcfa7d",
   "metadata": {},
   "outputs": [
    {
     "data": {
      "text/plain": [
       "'this is a method for taking student details for maths'"
      ]
     },
     "execution_count": 12,
     "metadata": {},
     "output_type": "execute_result"
    }
   ],
   "source": [
    "akshay.student_details()"
   ]
  },
  {
   "cell_type": "code",
   "execution_count": 13,
   "id": "391d1233-e70c-4874-80c9-afb059551118",
   "metadata": {},
   "outputs": [],
   "source": [
    "akshay.student_assignments()"
   ]
  },
  {
   "cell_type": "code",
   "execution_count": null,
   "id": "fdfde74d-0d50-4a2a-89da-02a2ffcaa27e",
   "metadata": {},
   "outputs": [],
   "source": []
  }
 ],
 "metadata": {
  "kernelspec": {
   "display_name": "Python 3 (ipykernel)",
   "language": "python",
   "name": "python3"
  },
  "language_info": {
   "codemirror_mode": {
    "name": "ipython",
    "version": 3
   },
   "file_extension": ".py",
   "mimetype": "text/x-python",
   "name": "python",
   "nbconvert_exporter": "python",
   "pygments_lexer": "ipython3",
   "version": "3.10.8"
  }
 },
 "nbformat": 4,
 "nbformat_minor": 5
}
